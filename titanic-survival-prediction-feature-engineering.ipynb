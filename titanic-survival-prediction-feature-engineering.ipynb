{
 "cells": [
  {
   "cell_type": "code",
   "execution_count": 1,
   "id": "1a581f9d",
   "metadata": {
    "_cell_guid": "b1076dfc-b9ad-4769-8c92-a6c4dae69d19",
    "_uuid": "8f2839f25d086af736a60e9eeb907d3b93b6e0e5",
    "execution": {
     "iopub.execute_input": "2024-07-26T18:00:21.180902Z",
     "iopub.status.busy": "2024-07-26T18:00:21.180517Z",
     "iopub.status.idle": "2024-07-26T18:00:22.188973Z",
     "shell.execute_reply": "2024-07-26T18:00:22.187716Z"
    },
    "papermill": {
     "duration": 1.026888,
     "end_time": "2024-07-26T18:00:22.191734",
     "exception": false,
     "start_time": "2024-07-26T18:00:21.164846",
     "status": "completed"
    },
    "tags": []
   },
   "outputs": [
    {
     "name": "stdout",
     "output_type": "stream",
     "text": [
      "/kaggle/input/titanic-cleaned-data/train_clean.csv\n",
      "/kaggle/input/titanic-cleaned-data/test_clean.csv\n",
      "/kaggle/input/titanic3/titanic3.xls\n",
      "/kaggle/input/titanic/train.csv\n",
      "/kaggle/input/titanic/test.csv\n",
      "/kaggle/input/titanic/gender_submission.csv\n",
      "/kaggle/input/titanic-solution-a-beginners-guide/predict2.csv\n",
      "/kaggle/input/titanic-solution-a-beginners-guide/predict1.csv\n",
      "/kaggle/input/titanic-solution-a-beginners-guide/train.csv\n",
      "/kaggle/input/titanic-solution-a-beginners-guide/test.csv\n",
      "/kaggle/input/titanicdataset-traincsv/train.csv\n",
      "/kaggle/input/titanic-dataset/Titanic_dataset.xlsx\n",
      "/kaggle/input/titanic-datasets/titanic.csv\n",
      "/kaggle/input/d/azeembootwala/titanic/train_data.csv\n",
      "/kaggle/input/d/azeembootwala/titanic/test_data.csv\n",
      "/kaggle/input/d/ibrahimelsayed182/titanic-dataset/Titanic.csv\n",
      "/kaggle/input/d/rahulsah06/titanic/train.csv\n",
      "/kaggle/input/d/rahulsah06/titanic/test.csv\n",
      "/kaggle/input/d/rahulsah06/titanic/gender_submission.csv\n",
      "/kaggle/input/d/sakshisatre/titanic-dataset/The Titanic dataset.csv\n",
      "/kaggle/input/d/sakshisatre/titanic-dataset/Titanic Dataset.csv\n",
      "/kaggle/input/d/heptapod/titanic/train_and_test2.csv\n",
      "/kaggle/input/test-file/tested.csv\n",
      "/kaggle/input/titanicsurviveddatasets/titanic.csv\n",
      "/kaggle/input/gender-submisson/All 1.csv\n"
     ]
    }
   ],
   "source": [
    "# This Python 3 environment comes with many helpful analytics libraries installed\n",
    "# It is defined by the kaggle/python Docker image: https://github.com/kaggle/docker-python\n",
    "# For example, here's several helpful packages to load\n",
    "\n",
    "import numpy as np # linear algebra\n",
    "import pandas as pd # data processing, CSV file I/O (e.g. pd.read_csv)\n",
    "\n",
    "# Input data files are available in the read-only \"../input/\" directory\n",
    "# For example, running this (by clicking run or pressing Shift+Enter) will list all files under the input directory\n",
    "\n",
    "import os\n",
    "for dirname, _, filenames in os.walk('/kaggle/input'):\n",
    "    for filename in filenames:\n",
    "        print(os.path.join(dirname, filename))\n",
    "\n",
    "# You can write up to 20GB to the current directory (/kaggle/working/) that gets preserved as output when you create a version using \"Save & Run All\" \n",
    "# You can also write temporary files to /kaggle/temp/, but they won't be saved outside of the current session"
   ]
  },
  {
   "cell_type": "code",
   "execution_count": 2,
   "id": "45fdfc33",
   "metadata": {
    "execution": {
     "iopub.execute_input": "2024-07-26T18:00:22.222999Z",
     "iopub.status.busy": "2024-07-26T18:00:22.222448Z",
     "iopub.status.idle": "2024-07-26T18:00:23.700688Z",
     "shell.execute_reply": "2024-07-26T18:00:23.699135Z"
    },
    "papermill": {
     "duration": 1.496767,
     "end_time": "2024-07-26T18:00:23.703349",
     "exception": false,
     "start_time": "2024-07-26T18:00:22.206582",
     "status": "completed"
    },
    "tags": []
   },
   "outputs": [],
   "source": [
    "import numpy as np\n",
    "import pandas as pd\n",
    "import matplotlib.pyplot as plt\n",
    "import seaborn as sns\n",
    "import warnings\n",
    "\n",
    "# Ignore all warnings\n",
    "warnings.filterwarnings(\"ignore\")"
   ]
  },
  {
   "cell_type": "code",
   "execution_count": 3,
   "id": "f346ab5c",
   "metadata": {
    "execution": {
     "iopub.execute_input": "2024-07-26T18:00:23.734295Z",
     "iopub.status.busy": "2024-07-26T18:00:23.733915Z",
     "iopub.status.idle": "2024-07-26T18:00:23.765543Z",
     "shell.execute_reply": "2024-07-26T18:00:23.764296Z"
    },
    "papermill": {
     "duration": 0.050683,
     "end_time": "2024-07-26T18:00:23.768405",
     "exception": false,
     "start_time": "2024-07-26T18:00:23.717722",
     "status": "completed"
    },
    "tags": []
   },
   "outputs": [],
   "source": [
    "train=pd.read_csv('/kaggle/input/titanic/train.csv')\n",
    "test=pd.read_csv('/kaggle/input/titanic/test.csv')"
   ]
  },
  {
   "cell_type": "code",
   "execution_count": 4,
   "id": "765a16d5",
   "metadata": {
    "execution": {
     "iopub.execute_input": "2024-07-26T18:00:23.798730Z",
     "iopub.status.busy": "2024-07-26T18:00:23.797964Z",
     "iopub.status.idle": "2024-07-26T18:00:23.804279Z",
     "shell.execute_reply": "2024-07-26T18:00:23.802947Z"
    },
    "papermill": {
     "duration": 0.024419,
     "end_time": "2024-07-26T18:00:23.806752",
     "exception": false,
     "start_time": "2024-07-26T18:00:23.782333",
     "status": "completed"
    },
    "tags": []
   },
   "outputs": [
    {
     "name": "stdout",
     "output_type": "stream",
     "text": [
      "(891, 12)\n",
      "(418, 11)\n"
     ]
    }
   ],
   "source": [
    "print(train.shape)\n",
    "print(test.shape)"
   ]
  },
  {
   "cell_type": "markdown",
   "id": "e02203d5",
   "metadata": {
    "papermill": {
     "duration": 0.013542,
     "end_time": "2024-07-26T18:00:23.835083",
     "exception": false,
     "start_time": "2024-07-26T18:00:23.821541",
     "status": "completed"
    },
    "tags": []
   },
   "source": [
    "# Data Cleaning"
   ]
  },
  {
   "cell_type": "code",
   "execution_count": 5,
   "id": "041607e1",
   "metadata": {
    "execution": {
     "iopub.execute_input": "2024-07-26T18:00:23.865044Z",
     "iopub.status.busy": "2024-07-26T18:00:23.864659Z",
     "iopub.status.idle": "2024-07-26T18:00:23.903901Z",
     "shell.execute_reply": "2024-07-26T18:00:23.902633Z"
    },
    "papermill": {
     "duration": 0.056796,
     "end_time": "2024-07-26T18:00:23.906242",
     "exception": false,
     "start_time": "2024-07-26T18:00:23.849446",
     "status": "completed"
    },
    "tags": []
   },
   "outputs": [
    {
     "name": "stdout",
     "output_type": "stream",
     "text": [
      "<class 'pandas.core.frame.DataFrame'>\n",
      "RangeIndex: 418 entries, 0 to 417\n",
      "Data columns (total 11 columns):\n",
      " #   Column       Non-Null Count  Dtype  \n",
      "---  ------       --------------  -----  \n",
      " 0   PassengerId  418 non-null    int64  \n",
      " 1   Pclass       418 non-null    int64  \n",
      " 2   Name         418 non-null    object \n",
      " 3   Sex          418 non-null    object \n",
      " 4   Age          332 non-null    float64\n",
      " 5   SibSp        418 non-null    int64  \n",
      " 6   Parch        418 non-null    int64  \n",
      " 7   Ticket       418 non-null    object \n",
      " 8   Fare         417 non-null    float64\n",
      " 9   Cabin        91 non-null     object \n",
      " 10  Embarked     418 non-null    object \n",
      "dtypes: float64(2), int64(4), object(5)\n",
      "memory usage: 36.0+ KB\n",
      "<class 'pandas.core.frame.DataFrame'>\n",
      "RangeIndex: 891 entries, 0 to 890\n",
      "Data columns (total 12 columns):\n",
      " #   Column       Non-Null Count  Dtype  \n",
      "---  ------       --------------  -----  \n",
      " 0   PassengerId  891 non-null    int64  \n",
      " 1   Survived     891 non-null    int64  \n",
      " 2   Pclass       891 non-null    int64  \n",
      " 3   Name         891 non-null    object \n",
      " 4   Sex          891 non-null    object \n",
      " 5   Age          714 non-null    float64\n",
      " 6   SibSp        891 non-null    int64  \n",
      " 7   Parch        891 non-null    int64  \n",
      " 8   Ticket       891 non-null    object \n",
      " 9   Fare         891 non-null    float64\n",
      " 10  Cabin        204 non-null    object \n",
      " 11  Embarked     889 non-null    object \n",
      "dtypes: float64(2), int64(5), object(5)\n",
      "memory usage: 83.7+ KB\n"
     ]
    },
    {
     "data": {
      "text/plain": [
       "(None, None)"
      ]
     },
     "execution_count": 5,
     "metadata": {},
     "output_type": "execute_result"
    }
   ],
   "source": [
    "test.info(),train.info()"
   ]
  },
  {
   "cell_type": "code",
   "execution_count": 6,
   "id": "04c94de5",
   "metadata": {
    "execution": {
     "iopub.execute_input": "2024-07-26T18:00:23.936148Z",
     "iopub.status.busy": "2024-07-26T18:00:23.935774Z",
     "iopub.status.idle": "2024-07-26T18:00:23.966481Z",
     "shell.execute_reply": "2024-07-26T18:00:23.965346Z"
    },
    "papermill": {
     "duration": 0.048458,
     "end_time": "2024-07-26T18:00:23.968888",
     "exception": false,
     "start_time": "2024-07-26T18:00:23.920430",
     "status": "completed"
    },
    "tags": []
   },
   "outputs": [
    {
     "data": {
      "text/html": [
       "<div>\n",
       "<style scoped>\n",
       "    .dataframe tbody tr th:only-of-type {\n",
       "        vertical-align: middle;\n",
       "    }\n",
       "\n",
       "    .dataframe tbody tr th {\n",
       "        vertical-align: top;\n",
       "    }\n",
       "\n",
       "    .dataframe thead th {\n",
       "        text-align: right;\n",
       "    }\n",
       "</style>\n",
       "<table border=\"1\" class=\"dataframe\">\n",
       "  <thead>\n",
       "    <tr style=\"text-align: right;\">\n",
       "      <th></th>\n",
       "      <th>PassengerId</th>\n",
       "      <th>Survived</th>\n",
       "      <th>Pclass</th>\n",
       "      <th>Name</th>\n",
       "      <th>Sex</th>\n",
       "      <th>Age</th>\n",
       "      <th>SibSp</th>\n",
       "      <th>Parch</th>\n",
       "      <th>Ticket</th>\n",
       "      <th>Fare</th>\n",
       "      <th>Cabin</th>\n",
       "      <th>Embarked</th>\n",
       "    </tr>\n",
       "  </thead>\n",
       "  <tbody>\n",
       "    <tr>\n",
       "      <th>868</th>\n",
       "      <td>869</td>\n",
       "      <td>0</td>\n",
       "      <td>3</td>\n",
       "      <td>van Melkebeke, Mr. Philemon</td>\n",
       "      <td>male</td>\n",
       "      <td>NaN</td>\n",
       "      <td>0</td>\n",
       "      <td>0</td>\n",
       "      <td>345777</td>\n",
       "      <td>9.5000</td>\n",
       "      <td>NaN</td>\n",
       "      <td>S</td>\n",
       "    </tr>\n",
       "    <tr>\n",
       "      <th>649</th>\n",
       "      <td>650</td>\n",
       "      <td>1</td>\n",
       "      <td>3</td>\n",
       "      <td>Stanley, Miss. Amy Zillah Elsie</td>\n",
       "      <td>female</td>\n",
       "      <td>23.00</td>\n",
       "      <td>0</td>\n",
       "      <td>0</td>\n",
       "      <td>CA. 2314</td>\n",
       "      <td>7.5500</td>\n",
       "      <td>NaN</td>\n",
       "      <td>S</td>\n",
       "    </tr>\n",
       "    <tr>\n",
       "      <th>729</th>\n",
       "      <td>730</td>\n",
       "      <td>0</td>\n",
       "      <td>3</td>\n",
       "      <td>Ilmakangas, Miss. Pieta Sofia</td>\n",
       "      <td>female</td>\n",
       "      <td>25.00</td>\n",
       "      <td>1</td>\n",
       "      <td>0</td>\n",
       "      <td>STON/O2. 3101271</td>\n",
       "      <td>7.9250</td>\n",
       "      <td>NaN</td>\n",
       "      <td>S</td>\n",
       "    </tr>\n",
       "    <tr>\n",
       "      <th>327</th>\n",
       "      <td>328</td>\n",
       "      <td>1</td>\n",
       "      <td>2</td>\n",
       "      <td>Ball, Mrs. (Ada E Hall)</td>\n",
       "      <td>female</td>\n",
       "      <td>36.00</td>\n",
       "      <td>0</td>\n",
       "      <td>0</td>\n",
       "      <td>28551</td>\n",
       "      <td>13.0000</td>\n",
       "      <td>D</td>\n",
       "      <td>S</td>\n",
       "    </tr>\n",
       "    <tr>\n",
       "      <th>274</th>\n",
       "      <td>275</td>\n",
       "      <td>1</td>\n",
       "      <td>3</td>\n",
       "      <td>Healy, Miss. Hanora \"Nora\"</td>\n",
       "      <td>female</td>\n",
       "      <td>NaN</td>\n",
       "      <td>0</td>\n",
       "      <td>0</td>\n",
       "      <td>370375</td>\n",
       "      <td>7.7500</td>\n",
       "      <td>NaN</td>\n",
       "      <td>Q</td>\n",
       "    </tr>\n",
       "    <tr>\n",
       "      <th>62</th>\n",
       "      <td>63</td>\n",
       "      <td>0</td>\n",
       "      <td>1</td>\n",
       "      <td>Harris, Mr. Henry Birkhardt</td>\n",
       "      <td>male</td>\n",
       "      <td>45.00</td>\n",
       "      <td>1</td>\n",
       "      <td>0</td>\n",
       "      <td>36973</td>\n",
       "      <td>83.4750</td>\n",
       "      <td>C83</td>\n",
       "      <td>S</td>\n",
       "    </tr>\n",
       "    <tr>\n",
       "      <th>584</th>\n",
       "      <td>585</td>\n",
       "      <td>0</td>\n",
       "      <td>3</td>\n",
       "      <td>Paulner, Mr. Uscher</td>\n",
       "      <td>male</td>\n",
       "      <td>NaN</td>\n",
       "      <td>0</td>\n",
       "      <td>0</td>\n",
       "      <td>3411</td>\n",
       "      <td>8.7125</td>\n",
       "      <td>NaN</td>\n",
       "      <td>C</td>\n",
       "    </tr>\n",
       "    <tr>\n",
       "      <th>468</th>\n",
       "      <td>469</td>\n",
       "      <td>0</td>\n",
       "      <td>3</td>\n",
       "      <td>Scanlan, Mr. James</td>\n",
       "      <td>male</td>\n",
       "      <td>NaN</td>\n",
       "      <td>0</td>\n",
       "      <td>0</td>\n",
       "      <td>36209</td>\n",
       "      <td>7.7250</td>\n",
       "      <td>NaN</td>\n",
       "      <td>Q</td>\n",
       "    </tr>\n",
       "    <tr>\n",
       "      <th>809</th>\n",
       "      <td>810</td>\n",
       "      <td>1</td>\n",
       "      <td>1</td>\n",
       "      <td>Chambers, Mrs. Norman Campbell (Bertha Griggs)</td>\n",
       "      <td>female</td>\n",
       "      <td>33.00</td>\n",
       "      <td>1</td>\n",
       "      <td>0</td>\n",
       "      <td>113806</td>\n",
       "      <td>53.1000</td>\n",
       "      <td>E8</td>\n",
       "      <td>S</td>\n",
       "    </tr>\n",
       "    <tr>\n",
       "      <th>836</th>\n",
       "      <td>837</td>\n",
       "      <td>0</td>\n",
       "      <td>3</td>\n",
       "      <td>Pasic, Mr. Jakob</td>\n",
       "      <td>male</td>\n",
       "      <td>21.00</td>\n",
       "      <td>0</td>\n",
       "      <td>0</td>\n",
       "      <td>315097</td>\n",
       "      <td>8.6625</td>\n",
       "      <td>NaN</td>\n",
       "      <td>S</td>\n",
       "    </tr>\n",
       "    <tr>\n",
       "      <th>832</th>\n",
       "      <td>833</td>\n",
       "      <td>0</td>\n",
       "      <td>3</td>\n",
       "      <td>Saad, Mr. Amin</td>\n",
       "      <td>male</td>\n",
       "      <td>NaN</td>\n",
       "      <td>0</td>\n",
       "      <td>0</td>\n",
       "      <td>2671</td>\n",
       "      <td>7.2292</td>\n",
       "      <td>NaN</td>\n",
       "      <td>C</td>\n",
       "    </tr>\n",
       "    <tr>\n",
       "      <th>777</th>\n",
       "      <td>778</td>\n",
       "      <td>1</td>\n",
       "      <td>3</td>\n",
       "      <td>Emanuel, Miss. Virginia Ethel</td>\n",
       "      <td>female</td>\n",
       "      <td>5.00</td>\n",
       "      <td>0</td>\n",
       "      <td>0</td>\n",
       "      <td>364516</td>\n",
       "      <td>12.4750</td>\n",
       "      <td>NaN</td>\n",
       "      <td>S</td>\n",
       "    </tr>\n",
       "    <tr>\n",
       "      <th>629</th>\n",
       "      <td>630</td>\n",
       "      <td>0</td>\n",
       "      <td>3</td>\n",
       "      <td>O'Connell, Mr. Patrick D</td>\n",
       "      <td>male</td>\n",
       "      <td>NaN</td>\n",
       "      <td>0</td>\n",
       "      <td>0</td>\n",
       "      <td>334912</td>\n",
       "      <td>7.7333</td>\n",
       "      <td>NaN</td>\n",
       "      <td>Q</td>\n",
       "    </tr>\n",
       "    <tr>\n",
       "      <th>481</th>\n",
       "      <td>482</td>\n",
       "      <td>0</td>\n",
       "      <td>2</td>\n",
       "      <td>Frost, Mr. Anthony Wood \"Archie\"</td>\n",
       "      <td>male</td>\n",
       "      <td>NaN</td>\n",
       "      <td>0</td>\n",
       "      <td>0</td>\n",
       "      <td>239854</td>\n",
       "      <td>0.0000</td>\n",
       "      <td>NaN</td>\n",
       "      <td>S</td>\n",
       "    </tr>\n",
       "    <tr>\n",
       "      <th>435</th>\n",
       "      <td>436</td>\n",
       "      <td>1</td>\n",
       "      <td>1</td>\n",
       "      <td>Carter, Miss. Lucile Polk</td>\n",
       "      <td>female</td>\n",
       "      <td>14.00</td>\n",
       "      <td>1</td>\n",
       "      <td>2</td>\n",
       "      <td>113760</td>\n",
       "      <td>120.0000</td>\n",
       "      <td>B96 B98</td>\n",
       "      <td>S</td>\n",
       "    </tr>\n",
       "    <tr>\n",
       "      <th>611</th>\n",
       "      <td>612</td>\n",
       "      <td>0</td>\n",
       "      <td>3</td>\n",
       "      <td>Jardin, Mr. Jose Neto</td>\n",
       "      <td>male</td>\n",
       "      <td>NaN</td>\n",
       "      <td>0</td>\n",
       "      <td>0</td>\n",
       "      <td>SOTON/O.Q. 3101305</td>\n",
       "      <td>7.0500</td>\n",
       "      <td>NaN</td>\n",
       "      <td>S</td>\n",
       "    </tr>\n",
       "    <tr>\n",
       "      <th>64</th>\n",
       "      <td>65</td>\n",
       "      <td>0</td>\n",
       "      <td>1</td>\n",
       "      <td>Stewart, Mr. Albert A</td>\n",
       "      <td>male</td>\n",
       "      <td>NaN</td>\n",
       "      <td>0</td>\n",
       "      <td>0</td>\n",
       "      <td>PC 17605</td>\n",
       "      <td>27.7208</td>\n",
       "      <td>NaN</td>\n",
       "      <td>C</td>\n",
       "    </tr>\n",
       "    <tr>\n",
       "      <th>291</th>\n",
       "      <td>292</td>\n",
       "      <td>1</td>\n",
       "      <td>1</td>\n",
       "      <td>Bishop, Mrs. Dickinson H (Helen Walton)</td>\n",
       "      <td>female</td>\n",
       "      <td>19.00</td>\n",
       "      <td>1</td>\n",
       "      <td>0</td>\n",
       "      <td>11967</td>\n",
       "      <td>91.0792</td>\n",
       "      <td>B49</td>\n",
       "      <td>C</td>\n",
       "    </tr>\n",
       "    <tr>\n",
       "      <th>656</th>\n",
       "      <td>657</td>\n",
       "      <td>0</td>\n",
       "      <td>3</td>\n",
       "      <td>Radeff, Mr. Alexander</td>\n",
       "      <td>male</td>\n",
       "      <td>NaN</td>\n",
       "      <td>0</td>\n",
       "      <td>0</td>\n",
       "      <td>349223</td>\n",
       "      <td>7.8958</td>\n",
       "      <td>NaN</td>\n",
       "      <td>S</td>\n",
       "    </tr>\n",
       "    <tr>\n",
       "      <th>803</th>\n",
       "      <td>804</td>\n",
       "      <td>1</td>\n",
       "      <td>3</td>\n",
       "      <td>Thomas, Master. Assad Alexander</td>\n",
       "      <td>male</td>\n",
       "      <td>0.42</td>\n",
       "      <td>0</td>\n",
       "      <td>1</td>\n",
       "      <td>2625</td>\n",
       "      <td>8.5167</td>\n",
       "      <td>NaN</td>\n",
       "      <td>C</td>\n",
       "    </tr>\n",
       "  </tbody>\n",
       "</table>\n",
       "</div>"
      ],
      "text/plain": [
       "     PassengerId  Survived  Pclass  \\\n",
       "868          869         0       3   \n",
       "649          650         1       3   \n",
       "729          730         0       3   \n",
       "327          328         1       2   \n",
       "274          275         1       3   \n",
       "62            63         0       1   \n",
       "584          585         0       3   \n",
       "468          469         0       3   \n",
       "809          810         1       1   \n",
       "836          837         0       3   \n",
       "832          833         0       3   \n",
       "777          778         1       3   \n",
       "629          630         0       3   \n",
       "481          482         0       2   \n",
       "435          436         1       1   \n",
       "611          612         0       3   \n",
       "64            65         0       1   \n",
       "291          292         1       1   \n",
       "656          657         0       3   \n",
       "803          804         1       3   \n",
       "\n",
       "                                               Name     Sex    Age  SibSp  \\\n",
       "868                     van Melkebeke, Mr. Philemon    male    NaN      0   \n",
       "649                 Stanley, Miss. Amy Zillah Elsie  female  23.00      0   \n",
       "729                   Ilmakangas, Miss. Pieta Sofia  female  25.00      1   \n",
       "327                         Ball, Mrs. (Ada E Hall)  female  36.00      0   \n",
       "274                      Healy, Miss. Hanora \"Nora\"  female    NaN      0   \n",
       "62                      Harris, Mr. Henry Birkhardt    male  45.00      1   \n",
       "584                             Paulner, Mr. Uscher    male    NaN      0   \n",
       "468                              Scanlan, Mr. James    male    NaN      0   \n",
       "809  Chambers, Mrs. Norman Campbell (Bertha Griggs)  female  33.00      1   \n",
       "836                                Pasic, Mr. Jakob    male  21.00      0   \n",
       "832                                  Saad, Mr. Amin    male    NaN      0   \n",
       "777                   Emanuel, Miss. Virginia Ethel  female   5.00      0   \n",
       "629                        O'Connell, Mr. Patrick D    male    NaN      0   \n",
       "481                Frost, Mr. Anthony Wood \"Archie\"    male    NaN      0   \n",
       "435                       Carter, Miss. Lucile Polk  female  14.00      1   \n",
       "611                           Jardin, Mr. Jose Neto    male    NaN      0   \n",
       "64                            Stewart, Mr. Albert A    male    NaN      0   \n",
       "291         Bishop, Mrs. Dickinson H (Helen Walton)  female  19.00      1   \n",
       "656                           Radeff, Mr. Alexander    male    NaN      0   \n",
       "803                 Thomas, Master. Assad Alexander    male   0.42      0   \n",
       "\n",
       "     Parch              Ticket      Fare    Cabin Embarked  \n",
       "868      0              345777    9.5000      NaN        S  \n",
       "649      0            CA. 2314    7.5500      NaN        S  \n",
       "729      0    STON/O2. 3101271    7.9250      NaN        S  \n",
       "327      0               28551   13.0000        D        S  \n",
       "274      0              370375    7.7500      NaN        Q  \n",
       "62       0               36973   83.4750      C83        S  \n",
       "584      0                3411    8.7125      NaN        C  \n",
       "468      0               36209    7.7250      NaN        Q  \n",
       "809      0              113806   53.1000       E8        S  \n",
       "836      0              315097    8.6625      NaN        S  \n",
       "832      0                2671    7.2292      NaN        C  \n",
       "777      0              364516   12.4750      NaN        S  \n",
       "629      0              334912    7.7333      NaN        Q  \n",
       "481      0              239854    0.0000      NaN        S  \n",
       "435      2              113760  120.0000  B96 B98        S  \n",
       "611      0  SOTON/O.Q. 3101305    7.0500      NaN        S  \n",
       "64       0            PC 17605   27.7208      NaN        C  \n",
       "291      0               11967   91.0792      B49        C  \n",
       "656      0              349223    7.8958      NaN        S  \n",
       "803      1                2625    8.5167      NaN        C  "
      ]
     },
     "execution_count": 6,
     "metadata": {},
     "output_type": "execute_result"
    }
   ],
   "source": [
    "train.sample(20)"
   ]
  },
  {
   "cell_type": "markdown",
   "id": "a401fe17",
   "metadata": {
    "papermill": {
     "duration": 0.014947,
     "end_time": "2024-07-26T18:00:23.998623",
     "exception": false,
     "start_time": "2024-07-26T18:00:23.983676",
     "status": "completed"
    },
    "tags": []
   },
   "source": [
    "<h3 style=\"background-color: #111; padding: 15px; font: bold 22px arial; color: lightgreen; border: 2px solid lime; border-radius: 8px\">\n",
    "♠ Handling Null Values  🚢</h3>\n",
    "\n",
    "**The 'Cabin' column contains numerous null values, so we will drop it.**\n",
    "\n"
   ]
  },
  {
   "cell_type": "code",
   "execution_count": 7,
   "id": "f1a8a60f",
   "metadata": {
    "execution": {
     "iopub.execute_input": "2024-07-26T18:00:24.031680Z",
     "iopub.status.busy": "2024-07-26T18:00:24.030431Z",
     "iopub.status.idle": "2024-07-26T18:00:24.039835Z",
     "shell.execute_reply": "2024-07-26T18:00:24.038749Z"
    },
    "papermill": {
     "duration": 0.028424,
     "end_time": "2024-07-26T18:00:24.042715",
     "exception": false,
     "start_time": "2024-07-26T18:00:24.014291",
     "status": "completed"
    },
    "tags": []
   },
   "outputs": [],
   "source": [
    "train.drop(columns=['Cabin'],inplace=True)\n",
    "test.drop(columns=['Cabin'],inplace=True)"
   ]
  },
  {
   "cell_type": "code",
   "execution_count": 8,
   "id": "a9b9740f",
   "metadata": {
    "execution": {
     "iopub.execute_input": "2024-07-26T18:00:24.074488Z",
     "iopub.status.busy": "2024-07-26T18:00:24.074035Z",
     "iopub.status.idle": "2024-07-26T18:00:24.083477Z",
     "shell.execute_reply": "2024-07-26T18:00:24.082217Z"
    },
    "papermill": {
     "duration": 0.028176,
     "end_time": "2024-07-26T18:00:24.085799",
     "exception": false,
     "start_time": "2024-07-26T18:00:24.057623",
     "status": "completed"
    },
    "tags": []
   },
   "outputs": [
    {
     "data": {
      "text/plain": [
       "PassengerId      0\n",
       "Survived         0\n",
       "Pclass           0\n",
       "Name             0\n",
       "Sex              0\n",
       "Age            177\n",
       "SibSp            0\n",
       "Parch            0\n",
       "Ticket           0\n",
       "Fare             0\n",
       "Embarked         2\n",
       "dtype: int64"
      ]
     },
     "execution_count": 8,
     "metadata": {},
     "output_type": "execute_result"
    }
   ],
   "source": [
    "train.isnull().sum()\n"
   ]
  },
  {
   "cell_type": "code",
   "execution_count": 9,
   "id": "add4812a",
   "metadata": {
    "execution": {
     "iopub.execute_input": "2024-07-26T18:00:24.118087Z",
     "iopub.status.busy": "2024-07-26T18:00:24.117684Z",
     "iopub.status.idle": "2024-07-26T18:00:24.126296Z",
     "shell.execute_reply": "2024-07-26T18:00:24.125205Z"
    },
    "papermill": {
     "duration": 0.027587,
     "end_time": "2024-07-26T18:00:24.128542",
     "exception": false,
     "start_time": "2024-07-26T18:00:24.100955",
     "status": "completed"
    },
    "tags": []
   },
   "outputs": [
    {
     "data": {
      "text/plain": [
       "PassengerId     0\n",
       "Pclass          0\n",
       "Name            0\n",
       "Sex             0\n",
       "Age            86\n",
       "SibSp           0\n",
       "Parch           0\n",
       "Ticket          0\n",
       "Fare            1\n",
       "Embarked        0\n",
       "dtype: int64"
      ]
     },
     "execution_count": 9,
     "metadata": {},
     "output_type": "execute_result"
    }
   ],
   "source": [
    "test.isnull().sum()"
   ]
  },
  {
   "cell_type": "code",
   "execution_count": 10,
   "id": "1254fe8b",
   "metadata": {
    "execution": {
     "iopub.execute_input": "2024-07-26T18:00:24.160504Z",
     "iopub.status.busy": "2024-07-26T18:00:24.160127Z",
     "iopub.status.idle": "2024-07-26T18:00:24.166110Z",
     "shell.execute_reply": "2024-07-26T18:00:24.165081Z"
    },
    "papermill": {
     "duration": 0.024745,
     "end_time": "2024-07-26T18:00:24.168435",
     "exception": false,
     "start_time": "2024-07-26T18:00:24.143690",
     "status": "completed"
    },
    "tags": []
   },
   "outputs": [],
   "source": [
    "train['Embarked'].fillna('S',inplace=True)"
   ]
  },
  {
   "cell_type": "code",
   "execution_count": 11,
   "id": "7c4c1819",
   "metadata": {
    "execution": {
     "iopub.execute_input": "2024-07-26T18:00:24.200550Z",
     "iopub.status.busy": "2024-07-26T18:00:24.200119Z",
     "iopub.status.idle": "2024-07-26T18:00:24.206259Z",
     "shell.execute_reply": "2024-07-26T18:00:24.205211Z"
    },
    "papermill": {
     "duration": 0.025209,
     "end_time": "2024-07-26T18:00:24.208769",
     "exception": false,
     "start_time": "2024-07-26T18:00:24.183560",
     "status": "completed"
    },
    "tags": []
   },
   "outputs": [],
   "source": [
    "test['Fare'].fillna(test['Fare'].mean(), inplace=True)"
   ]
  },
  {
   "cell_type": "markdown",
   "id": "cdac6e83",
   "metadata": {
    "papermill": {
     "duration": 0.015255,
     "end_time": "2024-07-26T18:00:24.239493",
     "exception": false,
     "start_time": "2024-07-26T18:00:24.224238",
     "status": "completed"
    },
    "tags": []
   },
   "source": [
    "<h3 style=\"background-color: #111; padding: 15px; font: bold 22px arial; color: lightgreen; border: 2px solid lime; border-radius: 8px\">\n",
    "♠ Creating a Unified DataFrame for Easier Manipulation 🧑‍💻</h3>\n"
   ]
  },
  {
   "cell_type": "code",
   "execution_count": 12,
   "id": "1b52567e",
   "metadata": {
    "execution": {
     "iopub.execute_input": "2024-07-26T18:00:24.272236Z",
     "iopub.status.busy": "2024-07-26T18:00:24.271436Z",
     "iopub.status.idle": "2024-07-26T18:00:24.281304Z",
     "shell.execute_reply": "2024-07-26T18:00:24.280312Z"
    },
    "papermill": {
     "duration": 0.029181,
     "end_time": "2024-07-26T18:00:24.283823",
     "exception": false,
     "start_time": "2024-07-26T18:00:24.254642",
     "status": "completed"
    },
    "tags": []
   },
   "outputs": [],
   "source": [
    "df=pd.concat([train,test],sort=True).reset_index(drop=True)"
   ]
  },
  {
   "cell_type": "code",
   "execution_count": 13,
   "id": "7efa686b",
   "metadata": {
    "execution": {
     "iopub.execute_input": "2024-07-26T18:00:24.316381Z",
     "iopub.status.busy": "2024-07-26T18:00:24.315994Z",
     "iopub.status.idle": "2024-07-26T18:00:24.323227Z",
     "shell.execute_reply": "2024-07-26T18:00:24.322181Z"
    },
    "papermill": {
     "duration": 0.026349,
     "end_time": "2024-07-26T18:00:24.325581",
     "exception": false,
     "start_time": "2024-07-26T18:00:24.299232",
     "status": "completed"
    },
    "tags": []
   },
   "outputs": [
    {
     "data": {
      "text/plain": [
       "(1309, 11)"
      ]
     },
     "execution_count": 13,
     "metadata": {},
     "output_type": "execute_result"
    }
   ],
   "source": [
    "df.shape"
   ]
  },
  {
   "cell_type": "code",
   "execution_count": 14,
   "id": "ef8aafb0",
   "metadata": {
    "execution": {
     "iopub.execute_input": "2024-07-26T18:00:24.359408Z",
     "iopub.status.busy": "2024-07-26T18:00:24.359039Z",
     "iopub.status.idle": "2024-07-26T18:00:24.375164Z",
     "shell.execute_reply": "2024-07-26T18:00:24.373918Z"
    },
    "papermill": {
     "duration": 0.03585,
     "end_time": "2024-07-26T18:00:24.377670",
     "exception": false,
     "start_time": "2024-07-26T18:00:24.341820",
     "status": "completed"
    },
    "tags": []
   },
   "outputs": [
    {
     "data": {
      "text/html": [
       "<div>\n",
       "<style scoped>\n",
       "    .dataframe tbody tr th:only-of-type {\n",
       "        vertical-align: middle;\n",
       "    }\n",
       "\n",
       "    .dataframe tbody tr th {\n",
       "        vertical-align: top;\n",
       "    }\n",
       "\n",
       "    .dataframe thead th {\n",
       "        text-align: right;\n",
       "    }\n",
       "</style>\n",
       "<table border=\"1\" class=\"dataframe\">\n",
       "  <thead>\n",
       "    <tr style=\"text-align: right;\">\n",
       "      <th></th>\n",
       "      <th>Age</th>\n",
       "      <th>Embarked</th>\n",
       "      <th>Fare</th>\n",
       "      <th>Name</th>\n",
       "      <th>Parch</th>\n",
       "      <th>PassengerId</th>\n",
       "      <th>Pclass</th>\n",
       "      <th>Sex</th>\n",
       "      <th>SibSp</th>\n",
       "      <th>Survived</th>\n",
       "      <th>Ticket</th>\n",
       "    </tr>\n",
       "  </thead>\n",
       "  <tbody>\n",
       "    <tr>\n",
       "      <th>0</th>\n",
       "      <td>22.0</td>\n",
       "      <td>S</td>\n",
       "      <td>7.2500</td>\n",
       "      <td>Braund, Mr. Owen Harris</td>\n",
       "      <td>0</td>\n",
       "      <td>1</td>\n",
       "      <td>3</td>\n",
       "      <td>male</td>\n",
       "      <td>1</td>\n",
       "      <td>0.0</td>\n",
       "      <td>A/5 21171</td>\n",
       "    </tr>\n",
       "    <tr>\n",
       "      <th>1</th>\n",
       "      <td>38.0</td>\n",
       "      <td>C</td>\n",
       "      <td>71.2833</td>\n",
       "      <td>Cumings, Mrs. John Bradley (Florence Briggs Th...</td>\n",
       "      <td>0</td>\n",
       "      <td>2</td>\n",
       "      <td>1</td>\n",
       "      <td>female</td>\n",
       "      <td>1</td>\n",
       "      <td>1.0</td>\n",
       "      <td>PC 17599</td>\n",
       "    </tr>\n",
       "    <tr>\n",
       "      <th>2</th>\n",
       "      <td>26.0</td>\n",
       "      <td>S</td>\n",
       "      <td>7.9250</td>\n",
       "      <td>Heikkinen, Miss. Laina</td>\n",
       "      <td>0</td>\n",
       "      <td>3</td>\n",
       "      <td>3</td>\n",
       "      <td>female</td>\n",
       "      <td>0</td>\n",
       "      <td>1.0</td>\n",
       "      <td>STON/O2. 3101282</td>\n",
       "    </tr>\n",
       "    <tr>\n",
       "      <th>3</th>\n",
       "      <td>35.0</td>\n",
       "      <td>S</td>\n",
       "      <td>53.1000</td>\n",
       "      <td>Futrelle, Mrs. Jacques Heath (Lily May Peel)</td>\n",
       "      <td>0</td>\n",
       "      <td>4</td>\n",
       "      <td>1</td>\n",
       "      <td>female</td>\n",
       "      <td>1</td>\n",
       "      <td>1.0</td>\n",
       "      <td>113803</td>\n",
       "    </tr>\n",
       "    <tr>\n",
       "      <th>4</th>\n",
       "      <td>35.0</td>\n",
       "      <td>S</td>\n",
       "      <td>8.0500</td>\n",
       "      <td>Allen, Mr. William Henry</td>\n",
       "      <td>0</td>\n",
       "      <td>5</td>\n",
       "      <td>3</td>\n",
       "      <td>male</td>\n",
       "      <td>0</td>\n",
       "      <td>0.0</td>\n",
       "      <td>373450</td>\n",
       "    </tr>\n",
       "  </tbody>\n",
       "</table>\n",
       "</div>"
      ],
      "text/plain": [
       "    Age Embarked     Fare                                               Name  \\\n",
       "0  22.0        S   7.2500                            Braund, Mr. Owen Harris   \n",
       "1  38.0        C  71.2833  Cumings, Mrs. John Bradley (Florence Briggs Th...   \n",
       "2  26.0        S   7.9250                             Heikkinen, Miss. Laina   \n",
       "3  35.0        S  53.1000       Futrelle, Mrs. Jacques Heath (Lily May Peel)   \n",
       "4  35.0        S   8.0500                           Allen, Mr. William Henry   \n",
       "\n",
       "   Parch  PassengerId  Pclass     Sex  SibSp  Survived            Ticket  \n",
       "0      0            1       3    male      1       0.0         A/5 21171  \n",
       "1      0            2       1  female      1       1.0          PC 17599  \n",
       "2      0            3       3  female      0       1.0  STON/O2. 3101282  \n",
       "3      0            4       1  female      1       1.0            113803  \n",
       "4      0            5       3    male      0       0.0            373450  "
      ]
     },
     "execution_count": 14,
     "metadata": {},
     "output_type": "execute_result"
    }
   ],
   "source": [
    "df.head()"
   ]
  },
  {
   "cell_type": "code",
   "execution_count": 15,
   "id": "c973270b",
   "metadata": {
    "execution": {
     "iopub.execute_input": "2024-07-26T18:00:24.411707Z",
     "iopub.status.busy": "2024-07-26T18:00:24.411302Z",
     "iopub.status.idle": "2024-07-26T18:00:24.422208Z",
     "shell.execute_reply": "2024-07-26T18:00:24.420957Z"
    },
    "papermill": {
     "duration": 0.031185,
     "end_time": "2024-07-26T18:00:24.424700",
     "exception": false,
     "start_time": "2024-07-26T18:00:24.393515",
     "status": "completed"
    },
    "tags": []
   },
   "outputs": [
    {
     "data": {
      "text/plain": [
       "Age            1.000000\n",
       "Fare           0.178314\n",
       "Parch          0.150917\n",
       "PassengerId    0.028814\n",
       "Pclass         0.408106\n",
       "SibSp          0.243699\n",
       "Survived       0.077221\n",
       "Name: Age, dtype: float64"
      ]
     },
     "execution_count": 15,
     "metadata": {},
     "output_type": "execute_result"
    }
   ],
   "source": [
    "df.corr(numeric_only=True)['Age'].abs()"
   ]
  },
  {
   "cell_type": "code",
   "execution_count": 16,
   "id": "a8ab7e81",
   "metadata": {
    "execution": {
     "iopub.execute_input": "2024-07-26T18:00:24.459219Z",
     "iopub.status.busy": "2024-07-26T18:00:24.458819Z",
     "iopub.status.idle": "2024-07-26T18:00:24.475728Z",
     "shell.execute_reply": "2024-07-26T18:00:24.474637Z"
    },
    "papermill": {
     "duration": 0.036698,
     "end_time": "2024-07-26T18:00:24.478123",
     "exception": false,
     "start_time": "2024-07-26T18:00:24.441425",
     "status": "completed"
    },
    "tags": []
   },
   "outputs": [
    {
     "data": {
      "text/plain": [
       "Sex     Pclass\n",
       "female  1         36.0\n",
       "        2         28.0\n",
       "        3         22.0\n",
       "male    1         42.0\n",
       "        2         29.5\n",
       "        3         25.0\n",
       "Name: Age, dtype: float64"
      ]
     },
     "execution_count": 16,
     "metadata": {},
     "output_type": "execute_result"
    }
   ],
   "source": [
    "df_Age_mean=df.groupby(['Sex', 'Pclass']).median(numeric_only=True)['Age']\n",
    "df_Age_mean"
   ]
  },
  {
   "cell_type": "code",
   "execution_count": 17,
   "id": "6bfca93a",
   "metadata": {
    "execution": {
     "iopub.execute_input": "2024-07-26T18:00:24.513336Z",
     "iopub.status.busy": "2024-07-26T18:00:24.512953Z",
     "iopub.status.idle": "2024-07-26T18:00:24.526856Z",
     "shell.execute_reply": "2024-07-26T18:00:24.525730Z"
    },
    "papermill": {
     "duration": 0.034526,
     "end_time": "2024-07-26T18:00:24.529498",
     "exception": false,
     "start_time": "2024-07-26T18:00:24.494972",
     "status": "completed"
    },
    "tags": []
   },
   "outputs": [],
   "source": [
    "df['Age']=df.groupby(['Sex','Pclass'])['Age'].transform(lambda x: x.fillna(x.median()))"
   ]
  },
  {
   "cell_type": "code",
   "execution_count": 18,
   "id": "3b156935",
   "metadata": {
    "execution": {
     "iopub.execute_input": "2024-07-26T18:00:24.564998Z",
     "iopub.status.busy": "2024-07-26T18:00:24.564627Z",
     "iopub.status.idle": "2024-07-26T18:00:24.573973Z",
     "shell.execute_reply": "2024-07-26T18:00:24.572717Z"
    },
    "papermill": {
     "duration": 0.030134,
     "end_time": "2024-07-26T18:00:24.576383",
     "exception": false,
     "start_time": "2024-07-26T18:00:24.546249",
     "status": "completed"
    },
    "tags": []
   },
   "outputs": [
    {
     "data": {
      "text/plain": [
       "Age              0\n",
       "Embarked         0\n",
       "Fare             0\n",
       "Name             0\n",
       "Parch            0\n",
       "PassengerId      0\n",
       "Pclass           0\n",
       "Sex              0\n",
       "SibSp            0\n",
       "Survived       418\n",
       "Ticket           0\n",
       "dtype: int64"
      ]
     },
     "execution_count": 18,
     "metadata": {},
     "output_type": "execute_result"
    }
   ],
   "source": [
    "df.isnull().sum()"
   ]
  },
  {
   "cell_type": "markdown",
   "id": "59ef0a7d",
   "metadata": {
    "papermill": {
     "duration": 0.016198,
     "end_time": "2024-07-26T18:00:24.671788",
     "exception": false,
     "start_time": "2024-07-26T18:00:24.655590",
     "status": "completed"
    },
    "tags": []
   },
   "source": [
    "<h3 style=\"background-color: #111; padding: 15px; font: bold 22px arial; color: lightgreen; border: 2px solid lime; border-radius: 8px\">\n",
    "♠ Extracting Titles from Names and Adding as a Separate Column 📜</h3>\n"
   ]
  },
  {
   "cell_type": "code",
   "execution_count": 19,
   "id": "99708963",
   "metadata": {
    "execution": {
     "iopub.execute_input": "2024-07-26T18:00:24.707438Z",
     "iopub.status.busy": "2024-07-26T18:00:24.707072Z",
     "iopub.status.idle": "2024-07-26T18:00:24.719572Z",
     "shell.execute_reply": "2024-07-26T18:00:24.718381Z"
    },
    "papermill": {
     "duration": 0.03379,
     "end_time": "2024-07-26T18:00:24.721932",
     "exception": false,
     "start_time": "2024-07-26T18:00:24.688142",
     "status": "completed"
    },
    "tags": []
   },
   "outputs": [],
   "source": [
    "df['Title']=df['Name'].str.split(\", \",expand=True)[1].str.split(\".\",expand=True)[0]"
   ]
  },
  {
   "cell_type": "code",
   "execution_count": 20,
   "id": "44c1b11c",
   "metadata": {
    "execution": {
     "iopub.execute_input": "2024-07-26T18:00:24.759059Z",
     "iopub.status.busy": "2024-07-26T18:00:24.758682Z",
     "iopub.status.idle": "2024-07-26T18:00:24.767526Z",
     "shell.execute_reply": "2024-07-26T18:00:24.766542Z"
    },
    "papermill": {
     "duration": 0.029619,
     "end_time": "2024-07-26T18:00:24.769766",
     "exception": false,
     "start_time": "2024-07-26T18:00:24.740147",
     "status": "completed"
    },
    "tags": []
   },
   "outputs": [
    {
     "data": {
      "text/plain": [
       "Title\n",
       "Mr              757\n",
       "Miss            260\n",
       "Mrs             197\n",
       "Master           61\n",
       "Rev               8\n",
       "Dr                8\n",
       "Col               4\n",
       "Mlle              2\n",
       "Major             2\n",
       "Ms                2\n",
       "Lady              1\n",
       "Sir               1\n",
       "Mme               1\n",
       "Don               1\n",
       "Capt              1\n",
       "the Countess      1\n",
       "Jonkheer          1\n",
       "Dona              1\n",
       "Name: count, dtype: int64"
      ]
     },
     "execution_count": 20,
     "metadata": {},
     "output_type": "execute_result"
    }
   ],
   "source": [
    "df['Title'].value_counts()"
   ]
  },
  {
   "cell_type": "code",
   "execution_count": 21,
   "id": "99372286",
   "metadata": {
    "execution": {
     "iopub.execute_input": "2024-07-26T18:00:24.805320Z",
     "iopub.status.busy": "2024-07-26T18:00:24.804896Z",
     "iopub.status.idle": "2024-07-26T18:00:24.817590Z",
     "shell.execute_reply": "2024-07-26T18:00:24.816262Z"
    },
    "papermill": {
     "duration": 0.033786,
     "end_time": "2024-07-26T18:00:24.820292",
     "exception": false,
     "start_time": "2024-07-26T18:00:24.786506",
     "status": "completed"
    },
    "tags": []
   },
   "outputs": [],
   "source": [
    "df['Title'] = df['Title'].replace(['Lady', 'the Countess','Capt', 'Col','Don', 'Dr', 'Major', 'Rev', 'Sir', 'Jonkheer', 'Dona'], 'Rare')\n",
    "df['Title'] = df['Title'].replace('Mlle', 'Miss')\n",
    "df['Title'] = df['Title'].replace('Ms', 'Miss')\n",
    "df['Title'] = df['Title'].replace('Mme', 'Mrs')"
   ]
  },
  {
   "cell_type": "code",
   "execution_count": 22,
   "id": "75d5cf0d",
   "metadata": {
    "execution": {
     "iopub.execute_input": "2024-07-26T18:00:24.855741Z",
     "iopub.status.busy": "2024-07-26T18:00:24.855283Z",
     "iopub.status.idle": "2024-07-26T18:00:24.864497Z",
     "shell.execute_reply": "2024-07-26T18:00:24.863269Z"
    },
    "papermill": {
     "duration": 0.029533,
     "end_time": "2024-07-26T18:00:24.866789",
     "exception": false,
     "start_time": "2024-07-26T18:00:24.837256",
     "status": "completed"
    },
    "tags": []
   },
   "outputs": [
    {
     "data": {
      "text/plain": [
       "Title\n",
       "Mr        757\n",
       "Miss      264\n",
       "Mrs       198\n",
       "Master     61\n",
       "Rare       29\n",
       "Name: count, dtype: int64"
      ]
     },
     "execution_count": 22,
     "metadata": {},
     "output_type": "execute_result"
    }
   ],
   "source": [
    "df['Title'].value_counts()"
   ]
  },
  {
   "cell_type": "markdown",
   "id": "768ccc2e",
   "metadata": {
    "papermill": {
     "duration": 0.01786,
     "end_time": "2024-07-26T18:00:24.902484",
     "exception": false,
     "start_time": "2024-07-26T18:00:24.884624",
     "status": "completed"
    },
    "tags": []
   },
   "source": [
    "<h3 style=\"background-color: #111; padding: 15px; font: bold 22px arial; color: lightgreen; border: 2px solid lime; border-radius: 8px\">\n",
    "♠ Creating a Family Column by Combining Sibling and Parent Child Column 👨‍👩‍👧‍👦</h3>\n",
    "\n"
   ]
  },
  {
   "cell_type": "code",
   "execution_count": 23,
   "id": "42d6ca34",
   "metadata": {
    "execution": {
     "iopub.execute_input": "2024-07-26T18:00:24.940507Z",
     "iopub.status.busy": "2024-07-26T18:00:24.939520Z",
     "iopub.status.idle": "2024-07-26T18:00:24.946005Z",
     "shell.execute_reply": "2024-07-26T18:00:24.944937Z"
    },
    "papermill": {
     "duration": 0.027515,
     "end_time": "2024-07-26T18:00:24.948168",
     "exception": false,
     "start_time": "2024-07-26T18:00:24.920653",
     "status": "completed"
    },
    "tags": []
   },
   "outputs": [],
   "source": [
    "df['Family_size']=df['SibSp'] + df['Parch'] + 1"
   ]
  },
  {
   "cell_type": "code",
   "execution_count": 24,
   "id": "62e13ab4",
   "metadata": {
    "execution": {
     "iopub.execute_input": "2024-07-26T18:00:24.984237Z",
     "iopub.status.busy": "2024-07-26T18:00:24.983829Z",
     "iopub.status.idle": "2024-07-26T18:00:25.004375Z",
     "shell.execute_reply": "2024-07-26T18:00:25.002993Z"
    },
    "papermill": {
     "duration": 0.041875,
     "end_time": "2024-07-26T18:00:25.007086",
     "exception": false,
     "start_time": "2024-07-26T18:00:24.965211",
     "status": "completed"
    },
    "tags": []
   },
   "outputs": [
    {
     "data": {
      "text/html": [
       "<div>\n",
       "<style scoped>\n",
       "    .dataframe tbody tr th:only-of-type {\n",
       "        vertical-align: middle;\n",
       "    }\n",
       "\n",
       "    .dataframe tbody tr th {\n",
       "        vertical-align: top;\n",
       "    }\n",
       "\n",
       "    .dataframe thead th {\n",
       "        text-align: right;\n",
       "    }\n",
       "</style>\n",
       "<table border=\"1\" class=\"dataframe\">\n",
       "  <thead>\n",
       "    <tr style=\"text-align: right;\">\n",
       "      <th></th>\n",
       "      <th>Age</th>\n",
       "      <th>Embarked</th>\n",
       "      <th>Fare</th>\n",
       "      <th>Name</th>\n",
       "      <th>Parch</th>\n",
       "      <th>PassengerId</th>\n",
       "      <th>Pclass</th>\n",
       "      <th>Sex</th>\n",
       "      <th>SibSp</th>\n",
       "      <th>Survived</th>\n",
       "      <th>Ticket</th>\n",
       "      <th>Title</th>\n",
       "      <th>Family_size</th>\n",
       "    </tr>\n",
       "  </thead>\n",
       "  <tbody>\n",
       "    <tr>\n",
       "      <th>846</th>\n",
       "      <td>25.0</td>\n",
       "      <td>S</td>\n",
       "      <td>69.5500</td>\n",
       "      <td>Sage, Mr. Douglas Bullen</td>\n",
       "      <td>2</td>\n",
       "      <td>847</td>\n",
       "      <td>3</td>\n",
       "      <td>male</td>\n",
       "      <td>8</td>\n",
       "      <td>0.0</td>\n",
       "      <td>CA. 2343</td>\n",
       "      <td>Mr</td>\n",
       "      <td>11</td>\n",
       "    </tr>\n",
       "    <tr>\n",
       "      <th>20</th>\n",
       "      <td>35.0</td>\n",
       "      <td>S</td>\n",
       "      <td>26.0000</td>\n",
       "      <td>Fynney, Mr. Joseph J</td>\n",
       "      <td>0</td>\n",
       "      <td>21</td>\n",
       "      <td>2</td>\n",
       "      <td>male</td>\n",
       "      <td>0</td>\n",
       "      <td>0.0</td>\n",
       "      <td>239865</td>\n",
       "      <td>Mr</td>\n",
       "      <td>1</td>\n",
       "    </tr>\n",
       "    <tr>\n",
       "      <th>1301</th>\n",
       "      <td>22.0</td>\n",
       "      <td>Q</td>\n",
       "      <td>7.7500</td>\n",
       "      <td>Naughton, Miss. Hannah</td>\n",
       "      <td>0</td>\n",
       "      <td>1302</td>\n",
       "      <td>3</td>\n",
       "      <td>female</td>\n",
       "      <td>0</td>\n",
       "      <td>NaN</td>\n",
       "      <td>365237</td>\n",
       "      <td>Miss</td>\n",
       "      <td>1</td>\n",
       "    </tr>\n",
       "    <tr>\n",
       "      <th>480</th>\n",
       "      <td>9.0</td>\n",
       "      <td>S</td>\n",
       "      <td>46.9000</td>\n",
       "      <td>Goodwin, Master. Harold Victor</td>\n",
       "      <td>2</td>\n",
       "      <td>481</td>\n",
       "      <td>3</td>\n",
       "      <td>male</td>\n",
       "      <td>5</td>\n",
       "      <td>0.0</td>\n",
       "      <td>CA 2144</td>\n",
       "      <td>Master</td>\n",
       "      <td>8</td>\n",
       "    </tr>\n",
       "    <tr>\n",
       "      <th>1297</th>\n",
       "      <td>23.0</td>\n",
       "      <td>S</td>\n",
       "      <td>10.5000</td>\n",
       "      <td>Ware, Mr. William Jeffery</td>\n",
       "      <td>0</td>\n",
       "      <td>1298</td>\n",
       "      <td>2</td>\n",
       "      <td>male</td>\n",
       "      <td>1</td>\n",
       "      <td>NaN</td>\n",
       "      <td>28666</td>\n",
       "      <td>Mr</td>\n",
       "      <td>2</td>\n",
       "    </tr>\n",
       "    <tr>\n",
       "      <th>1034</th>\n",
       "      <td>28.0</td>\n",
       "      <td>S</td>\n",
       "      <td>26.0000</td>\n",
       "      <td>Beauchamp, Mr. Henry James</td>\n",
       "      <td>0</td>\n",
       "      <td>1035</td>\n",
       "      <td>2</td>\n",
       "      <td>male</td>\n",
       "      <td>0</td>\n",
       "      <td>NaN</td>\n",
       "      <td>244358</td>\n",
       "      <td>Mr</td>\n",
       "      <td>1</td>\n",
       "    </tr>\n",
       "    <tr>\n",
       "      <th>118</th>\n",
       "      <td>24.0</td>\n",
       "      <td>C</td>\n",
       "      <td>247.5208</td>\n",
       "      <td>Baxter, Mr. Quigg Edmond</td>\n",
       "      <td>1</td>\n",
       "      <td>119</td>\n",
       "      <td>1</td>\n",
       "      <td>male</td>\n",
       "      <td>0</td>\n",
       "      <td>0.0</td>\n",
       "      <td>PC 17558</td>\n",
       "      <td>Mr</td>\n",
       "      <td>2</td>\n",
       "    </tr>\n",
       "    <tr>\n",
       "      <th>1091</th>\n",
       "      <td>22.0</td>\n",
       "      <td>Q</td>\n",
       "      <td>15.5000</td>\n",
       "      <td>Murphy, Miss. Nora</td>\n",
       "      <td>0</td>\n",
       "      <td>1092</td>\n",
       "      <td>3</td>\n",
       "      <td>female</td>\n",
       "      <td>0</td>\n",
       "      <td>NaN</td>\n",
       "      <td>36568</td>\n",
       "      <td>Miss</td>\n",
       "      <td>1</td>\n",
       "    </tr>\n",
       "    <tr>\n",
       "      <th>700</th>\n",
       "      <td>18.0</td>\n",
       "      <td>C</td>\n",
       "      <td>227.5250</td>\n",
       "      <td>Astor, Mrs. John Jacob (Madeleine Talmadge Force)</td>\n",
       "      <td>0</td>\n",
       "      <td>701</td>\n",
       "      <td>1</td>\n",
       "      <td>female</td>\n",
       "      <td>1</td>\n",
       "      <td>1.0</td>\n",
       "      <td>PC 17757</td>\n",
       "      <td>Mrs</td>\n",
       "      <td>2</td>\n",
       "    </tr>\n",
       "    <tr>\n",
       "      <th>333</th>\n",
       "      <td>16.0</td>\n",
       "      <td>S</td>\n",
       "      <td>18.0000</td>\n",
       "      <td>Vander Planke, Mr. Leo Edmondus</td>\n",
       "      <td>0</td>\n",
       "      <td>334</td>\n",
       "      <td>3</td>\n",
       "      <td>male</td>\n",
       "      <td>2</td>\n",
       "      <td>0.0</td>\n",
       "      <td>345764</td>\n",
       "      <td>Mr</td>\n",
       "      <td>3</td>\n",
       "    </tr>\n",
       "  </tbody>\n",
       "</table>\n",
       "</div>"
      ],
      "text/plain": [
       "       Age Embarked      Fare  \\\n",
       "846   25.0        S   69.5500   \n",
       "20    35.0        S   26.0000   \n",
       "1301  22.0        Q    7.7500   \n",
       "480    9.0        S   46.9000   \n",
       "1297  23.0        S   10.5000   \n",
       "1034  28.0        S   26.0000   \n",
       "118   24.0        C  247.5208   \n",
       "1091  22.0        Q   15.5000   \n",
       "700   18.0        C  227.5250   \n",
       "333   16.0        S   18.0000   \n",
       "\n",
       "                                                   Name  Parch  PassengerId  \\\n",
       "846                            Sage, Mr. Douglas Bullen      2          847   \n",
       "20                                 Fynney, Mr. Joseph J      0           21   \n",
       "1301                             Naughton, Miss. Hannah      0         1302   \n",
       "480                      Goodwin, Master. Harold Victor      2          481   \n",
       "1297                          Ware, Mr. William Jeffery      0         1298   \n",
       "1034                         Beauchamp, Mr. Henry James      0         1035   \n",
       "118                            Baxter, Mr. Quigg Edmond      1          119   \n",
       "1091                                 Murphy, Miss. Nora      0         1092   \n",
       "700   Astor, Mrs. John Jacob (Madeleine Talmadge Force)      0          701   \n",
       "333                     Vander Planke, Mr. Leo Edmondus      0          334   \n",
       "\n",
       "      Pclass     Sex  SibSp  Survived    Ticket   Title  Family_size  \n",
       "846        3    male      8       0.0  CA. 2343      Mr           11  \n",
       "20         2    male      0       0.0    239865      Mr            1  \n",
       "1301       3  female      0       NaN    365237    Miss            1  \n",
       "480        3    male      5       0.0   CA 2144  Master            8  \n",
       "1297       2    male      1       NaN     28666      Mr            2  \n",
       "1034       2    male      0       NaN    244358      Mr            1  \n",
       "118        1    male      0       0.0  PC 17558      Mr            2  \n",
       "1091       3  female      0       NaN     36568    Miss            1  \n",
       "700        1  female      1       1.0  PC 17757     Mrs            2  \n",
       "333        3    male      2       0.0    345764      Mr            3  "
      ]
     },
     "execution_count": 24,
     "metadata": {},
     "output_type": "execute_result"
    }
   ],
   "source": [
    "df.sample(10)"
   ]
  },
  {
   "cell_type": "code",
   "execution_count": 25,
   "id": "e5a2743d",
   "metadata": {
    "execution": {
     "iopub.execute_input": "2024-07-26T18:00:25.045342Z",
     "iopub.status.busy": "2024-07-26T18:00:25.044955Z",
     "iopub.status.idle": "2024-07-26T18:00:25.051337Z",
     "shell.execute_reply": "2024-07-26T18:00:25.050176Z"
    },
    "papermill": {
     "duration": 0.027506,
     "end_time": "2024-07-26T18:00:25.053735",
     "exception": false,
     "start_time": "2024-07-26T18:00:25.026229",
     "status": "completed"
    },
    "tags": []
   },
   "outputs": [],
   "source": [
    "df.drop(columns=['Name','Parch','SibSp','Ticket'],inplace=True)"
   ]
  },
  {
   "cell_type": "code",
   "execution_count": 26,
   "id": "2c2ab856",
   "metadata": {
    "execution": {
     "iopub.execute_input": "2024-07-26T18:00:25.090306Z",
     "iopub.status.busy": "2024-07-26T18:00:25.089940Z",
     "iopub.status.idle": "2024-07-26T18:00:25.107506Z",
     "shell.execute_reply": "2024-07-26T18:00:25.106190Z"
    },
    "papermill": {
     "duration": 0.038963,
     "end_time": "2024-07-26T18:00:25.109983",
     "exception": false,
     "start_time": "2024-07-26T18:00:25.071020",
     "status": "completed"
    },
    "tags": []
   },
   "outputs": [
    {
     "data": {
      "text/html": [
       "<div>\n",
       "<style scoped>\n",
       "    .dataframe tbody tr th:only-of-type {\n",
       "        vertical-align: middle;\n",
       "    }\n",
       "\n",
       "    .dataframe tbody tr th {\n",
       "        vertical-align: top;\n",
       "    }\n",
       "\n",
       "    .dataframe thead th {\n",
       "        text-align: right;\n",
       "    }\n",
       "</style>\n",
       "<table border=\"1\" class=\"dataframe\">\n",
       "  <thead>\n",
       "    <tr style=\"text-align: right;\">\n",
       "      <th></th>\n",
       "      <th>Age</th>\n",
       "      <th>Embarked</th>\n",
       "      <th>Fare</th>\n",
       "      <th>PassengerId</th>\n",
       "      <th>Pclass</th>\n",
       "      <th>Sex</th>\n",
       "      <th>Survived</th>\n",
       "      <th>Title</th>\n",
       "      <th>Family_size</th>\n",
       "    </tr>\n",
       "  </thead>\n",
       "  <tbody>\n",
       "    <tr>\n",
       "      <th>1248</th>\n",
       "      <td>25.0</td>\n",
       "      <td>S</td>\n",
       "      <td>7.8792</td>\n",
       "      <td>1249</td>\n",
       "      <td>3</td>\n",
       "      <td>male</td>\n",
       "      <td>NaN</td>\n",
       "      <td>Mr</td>\n",
       "      <td>1</td>\n",
       "    </tr>\n",
       "    <tr>\n",
       "      <th>886</th>\n",
       "      <td>27.0</td>\n",
       "      <td>S</td>\n",
       "      <td>13.0000</td>\n",
       "      <td>887</td>\n",
       "      <td>2</td>\n",
       "      <td>male</td>\n",
       "      <td>0.0</td>\n",
       "      <td>Rare</td>\n",
       "      <td>1</td>\n",
       "    </tr>\n",
       "    <tr>\n",
       "      <th>17</th>\n",
       "      <td>29.5</td>\n",
       "      <td>S</td>\n",
       "      <td>13.0000</td>\n",
       "      <td>18</td>\n",
       "      <td>2</td>\n",
       "      <td>male</td>\n",
       "      <td>1.0</td>\n",
       "      <td>Mr</td>\n",
       "      <td>1</td>\n",
       "    </tr>\n",
       "    <tr>\n",
       "      <th>965</th>\n",
       "      <td>35.0</td>\n",
       "      <td>C</td>\n",
       "      <td>211.5000</td>\n",
       "      <td>966</td>\n",
       "      <td>1</td>\n",
       "      <td>female</td>\n",
       "      <td>NaN</td>\n",
       "      <td>Miss</td>\n",
       "      <td>1</td>\n",
       "    </tr>\n",
       "    <tr>\n",
       "      <th>438</th>\n",
       "      <td>64.0</td>\n",
       "      <td>S</td>\n",
       "      <td>263.0000</td>\n",
       "      <td>439</td>\n",
       "      <td>1</td>\n",
       "      <td>male</td>\n",
       "      <td>0.0</td>\n",
       "      <td>Mr</td>\n",
       "      <td>6</td>\n",
       "    </tr>\n",
       "    <tr>\n",
       "      <th>988</th>\n",
       "      <td>29.0</td>\n",
       "      <td>S</td>\n",
       "      <td>7.9250</td>\n",
       "      <td>989</td>\n",
       "      <td>3</td>\n",
       "      <td>male</td>\n",
       "      <td>NaN</td>\n",
       "      <td>Mr</td>\n",
       "      <td>1</td>\n",
       "    </tr>\n",
       "    <tr>\n",
       "      <th>1178</th>\n",
       "      <td>24.0</td>\n",
       "      <td>S</td>\n",
       "      <td>82.2667</td>\n",
       "      <td>1179</td>\n",
       "      <td>1</td>\n",
       "      <td>male</td>\n",
       "      <td>NaN</td>\n",
       "      <td>Mr</td>\n",
       "      <td>2</td>\n",
       "    </tr>\n",
       "    <tr>\n",
       "      <th>169</th>\n",
       "      <td>28.0</td>\n",
       "      <td>S</td>\n",
       "      <td>56.4958</td>\n",
       "      <td>170</td>\n",
       "      <td>3</td>\n",
       "      <td>male</td>\n",
       "      <td>0.0</td>\n",
       "      <td>Mr</td>\n",
       "      <td>1</td>\n",
       "    </tr>\n",
       "    <tr>\n",
       "      <th>1097</th>\n",
       "      <td>35.0</td>\n",
       "      <td>Q</td>\n",
       "      <td>7.7500</td>\n",
       "      <td>1098</td>\n",
       "      <td>3</td>\n",
       "      <td>female</td>\n",
       "      <td>NaN</td>\n",
       "      <td>Miss</td>\n",
       "      <td>1</td>\n",
       "    </tr>\n",
       "    <tr>\n",
       "      <th>1052</th>\n",
       "      <td>7.0</td>\n",
       "      <td>C</td>\n",
       "      <td>15.2458</td>\n",
       "      <td>1053</td>\n",
       "      <td>3</td>\n",
       "      <td>male</td>\n",
       "      <td>NaN</td>\n",
       "      <td>Master</td>\n",
       "      <td>3</td>\n",
       "    </tr>\n",
       "  </tbody>\n",
       "</table>\n",
       "</div>"
      ],
      "text/plain": [
       "       Age Embarked      Fare  PassengerId  Pclass     Sex  Survived   Title  \\\n",
       "1248  25.0        S    7.8792         1249       3    male       NaN      Mr   \n",
       "886   27.0        S   13.0000          887       2    male       0.0    Rare   \n",
       "17    29.5        S   13.0000           18       2    male       1.0      Mr   \n",
       "965   35.0        C  211.5000          966       1  female       NaN    Miss   \n",
       "438   64.0        S  263.0000          439       1    male       0.0      Mr   \n",
       "988   29.0        S    7.9250          989       3    male       NaN      Mr   \n",
       "1178  24.0        S   82.2667         1179       1    male       NaN      Mr   \n",
       "169   28.0        S   56.4958          170       3    male       0.0      Mr   \n",
       "1097  35.0        Q    7.7500         1098       3  female       NaN    Miss   \n",
       "1052   7.0        C   15.2458         1053       3    male       NaN  Master   \n",
       "\n",
       "      Family_size  \n",
       "1248            1  \n",
       "886             1  \n",
       "17              1  \n",
       "965             1  \n",
       "438             6  \n",
       "988             1  \n",
       "1178            2  \n",
       "169             1  \n",
       "1097            1  \n",
       "1052            3  "
      ]
     },
     "execution_count": 26,
     "metadata": {},
     "output_type": "execute_result"
    }
   ],
   "source": [
    "df.sample(10)"
   ]
  },
  {
   "cell_type": "code",
   "execution_count": 27,
   "id": "7c015be1",
   "metadata": {
    "execution": {
     "iopub.execute_input": "2024-07-26T18:00:25.149251Z",
     "iopub.status.busy": "2024-07-26T18:00:25.148874Z",
     "iopub.status.idle": "2024-07-26T18:00:25.154383Z",
     "shell.execute_reply": "2024-07-26T18:00:25.153249Z"
    },
    "papermill": {
     "duration": 0.027723,
     "end_time": "2024-07-26T18:00:25.156756",
     "exception": false,
     "start_time": "2024-07-26T18:00:25.129033",
     "status": "completed"
    },
    "tags": []
   },
   "outputs": [],
   "source": [
    "def family_size(number):\n",
    "    if number==1:\n",
    "        return \"Alone\"\n",
    "    elif number>1 and number <5:\n",
    "        return \"Small\"\n",
    "    else:\n",
    "        return \"Large\""
   ]
  },
  {
   "cell_type": "code",
   "execution_count": 28,
   "id": "f442b59f",
   "metadata": {
    "execution": {
     "iopub.execute_input": "2024-07-26T18:00:25.195317Z",
     "iopub.status.busy": "2024-07-26T18:00:25.194533Z",
     "iopub.status.idle": "2024-07-26T18:00:25.201021Z",
     "shell.execute_reply": "2024-07-26T18:00:25.199790Z"
    },
    "papermill": {
     "duration": 0.028394,
     "end_time": "2024-07-26T18:00:25.203403",
     "exception": false,
     "start_time": "2024-07-26T18:00:25.175009",
     "status": "completed"
    },
    "tags": []
   },
   "outputs": [],
   "source": [
    "df['Family_size']=df['Family_size'].apply(family_size)\n"
   ]
  },
  {
   "cell_type": "markdown",
   "id": "797a4042",
   "metadata": {
    "papermill": {
     "duration": 0.017829,
     "end_time": "2024-07-26T18:00:25.239759",
     "exception": false,
     "start_time": "2024-07-26T18:00:25.221930",
     "status": "completed"
    },
    "tags": []
   },
   "source": [
    "# Exploratory Data Analysis"
   ]
  },
  {
   "cell_type": "code",
   "execution_count": 29,
   "id": "ba0382d8",
   "metadata": {
    "execution": {
     "iopub.execute_input": "2024-07-26T18:00:25.278439Z",
     "iopub.status.busy": "2024-07-26T18:00:25.278056Z",
     "iopub.status.idle": "2024-07-26T18:00:25.290819Z",
     "shell.execute_reply": "2024-07-26T18:00:25.289677Z"
    },
    "papermill": {
     "duration": 0.034878,
     "end_time": "2024-07-26T18:00:25.293047",
     "exception": false,
     "start_time": "2024-07-26T18:00:25.258169",
     "status": "completed"
    },
    "tags": []
   },
   "outputs": [
    {
     "name": "stdout",
     "output_type": "stream",
     "text": [
      "<class 'pandas.core.frame.DataFrame'>\n",
      "RangeIndex: 1309 entries, 0 to 1308\n",
      "Data columns (total 9 columns):\n",
      " #   Column       Non-Null Count  Dtype  \n",
      "---  ------       --------------  -----  \n",
      " 0   Age          1309 non-null   float64\n",
      " 1   Embarked     1309 non-null   object \n",
      " 2   Fare         1309 non-null   float64\n",
      " 3   PassengerId  1309 non-null   int64  \n",
      " 4   Pclass       1309 non-null   int64  \n",
      " 5   Sex          1309 non-null   object \n",
      " 6   Survived     891 non-null    float64\n",
      " 7   Title        1309 non-null   object \n",
      " 8   Family_size  1309 non-null   object \n",
      "dtypes: float64(3), int64(2), object(4)\n",
      "memory usage: 92.2+ KB\n"
     ]
    }
   ],
   "source": [
    "df.info()"
   ]
  },
  {
   "cell_type": "code",
   "execution_count": 30,
   "id": "086f72db",
   "metadata": {
    "execution": {
     "iopub.execute_input": "2024-07-26T18:00:25.331009Z",
     "iopub.status.busy": "2024-07-26T18:00:25.330503Z",
     "iopub.status.idle": "2024-07-26T18:00:25.337130Z",
     "shell.execute_reply": "2024-07-26T18:00:25.335933Z"
    },
    "papermill": {
     "duration": 0.028643,
     "end_time": "2024-07-26T18:00:25.339597",
     "exception": false,
     "start_time": "2024-07-26T18:00:25.310954",
     "status": "completed"
    },
    "tags": []
   },
   "outputs": [],
   "source": [
    "df['Age'] = df['Age'].astype('int64')\n"
   ]
  },
  {
   "cell_type": "code",
   "execution_count": 31,
   "id": "4bf38de4",
   "metadata": {
    "execution": {
     "iopub.execute_input": "2024-07-26T18:00:25.379825Z",
     "iopub.status.busy": "2024-07-26T18:00:25.379419Z",
     "iopub.status.idle": "2024-07-26T18:00:25.392347Z",
     "shell.execute_reply": "2024-07-26T18:00:25.390991Z"
    },
    "papermill": {
     "duration": 0.03582,
     "end_time": "2024-07-26T18:00:25.394926",
     "exception": false,
     "start_time": "2024-07-26T18:00:25.359106",
     "status": "completed"
    },
    "tags": []
   },
   "outputs": [
    {
     "name": "stdout",
     "output_type": "stream",
     "text": [
      "<class 'pandas.core.frame.DataFrame'>\n",
      "RangeIndex: 1309 entries, 0 to 1308\n",
      "Data columns (total 9 columns):\n",
      " #   Column       Non-Null Count  Dtype  \n",
      "---  ------       --------------  -----  \n",
      " 0   Age          1309 non-null   int64  \n",
      " 1   Embarked     1309 non-null   object \n",
      " 2   Fare         1309 non-null   float64\n",
      " 3   PassengerId  1309 non-null   int64  \n",
      " 4   Pclass       1309 non-null   int64  \n",
      " 5   Sex          1309 non-null   object \n",
      " 6   Survived     891 non-null    float64\n",
      " 7   Title        1309 non-null   object \n",
      " 8   Family_size  1309 non-null   object \n",
      "dtypes: float64(2), int64(3), object(4)\n",
      "memory usage: 92.2+ KB\n"
     ]
    }
   ],
   "source": [
    "df.info()"
   ]
  },
  {
   "cell_type": "markdown",
   "id": "b79202e0",
   "metadata": {
    "papermill": {
     "duration": 0.018125,
     "end_time": "2024-07-26T18:00:25.431452",
     "exception": false,
     "start_time": "2024-07-26T18:00:25.413327",
     "status": "completed"
    },
    "tags": []
   },
   "source": [
    "<h3 style=\"background-color: #111; padding: 15px; font: bold 22px arial; color: lightgreen; border: 2px solid lime; border-radius: 8px\">\n",
    "♠ Finding Survival Correlation with Every Other Column 📊</h3>\n",
    "\n",
    "**We will analyze the correlation between survival and every other column to understand their relationships.**\n"
   ]
  },
  {
   "cell_type": "code",
   "execution_count": 32,
   "id": "fe22fb94",
   "metadata": {
    "execution": {
     "iopub.execute_input": "2024-07-26T18:00:25.469687Z",
     "iopub.status.busy": "2024-07-26T18:00:25.469212Z",
     "iopub.status.idle": "2024-07-26T18:00:25.493615Z",
     "shell.execute_reply": "2024-07-26T18:00:25.492190Z"
    },
    "papermill": {
     "duration": 0.046956,
     "end_time": "2024-07-26T18:00:25.496641",
     "exception": false,
     "start_time": "2024-07-26T18:00:25.449685",
     "status": "completed"
    },
    "tags": []
   },
   "outputs": [
    {
     "name": "stdout",
     "output_type": "stream",
     "text": [
      "Survival Correlation by: Embarked\n",
      "  Embarked  Survived\n",
      "0        C  0.553571\n",
      "1        Q  0.389610\n",
      "2        S  0.339009\n",
      "---------- \n",
      "\n",
      "Survival Correlation by: Pclass\n",
      "   Pclass  Survived\n",
      "0       1  0.629630\n",
      "1       2  0.472826\n",
      "2       3  0.242363\n",
      "---------- \n",
      "\n",
      "Survival Correlation by: Sex\n",
      "      Sex  Survived\n",
      "0  female  0.742038\n",
      "1    male  0.188908\n",
      "---------- \n",
      "\n",
      "Survival Correlation by: Title\n",
      "    Title  Survived\n",
      "0  Master  0.575000\n",
      "1    Miss  0.702703\n",
      "2      Mr  0.156673\n",
      "3     Mrs  0.793651\n",
      "4    Rare  0.347826\n",
      "---------- \n",
      "\n",
      "Survival Correlation by: Family_size\n",
      "  Family_size  Survived\n",
      "0       Alone  0.303538\n",
      "1       Large  0.161290\n",
      "2       Small  0.578767\n",
      "---------- \n",
      "\n"
     ]
    }
   ],
   "source": [
    "col=['Embarked','Pclass','Sex','Title','Family_size']\n",
    "for i in col:\n",
    "    print('Survival Correlation by:', i)\n",
    "    df2=df.groupby(i)['Survived'].mean().reset_index()\n",
    "    print(df2)\n",
    "    print('-'*10, '\\n')"
   ]
  },
  {
   "cell_type": "markdown",
   "id": "398476f3",
   "metadata": {
    "papermill": {
     "duration": 0.019001,
     "end_time": "2024-07-26T18:00:25.535990",
     "exception": false,
     "start_time": "2024-07-26T18:00:25.516989",
     "status": "completed"
    },
    "tags": []
   },
   "source": [
    "<h3 style=\"background-color: #111; padding: 15px; font: bold 22px arial; color: lightgreen; border: 2px solid lime; border-radius: 8px\">\n",
    "♠ Adding Graphs to Clarify the Picture 📈</h3>\n",
    "\n",
    "**We will include some visualizations to make the data and its correlations clearer.**\n"
   ]
  },
  {
   "cell_type": "code",
   "execution_count": 33,
   "id": "74e3090b",
   "metadata": {
    "execution": {
     "iopub.execute_input": "2024-07-26T18:00:25.575282Z",
     "iopub.status.busy": "2024-07-26T18:00:25.574896Z",
     "iopub.status.idle": "2024-07-26T18:00:26.675128Z",
     "shell.execute_reply": "2024-07-26T18:00:26.673957Z"
    },
    "papermill": {
     "duration": 1.12241,
     "end_time": "2024-07-26T18:00:26.677653",
     "exception": false,
     "start_time": "2024-07-26T18:00:25.555243",
     "status": "completed"
    },
    "tags": []
   },
   "outputs": [
    {
     "data": {
      "text/html": [
       "        <script type=\"text/javascript\">\n",
       "        window.PlotlyConfig = {MathJaxConfig: 'local'};\n",
       "        if (window.MathJax && window.MathJax.Hub && window.MathJax.Hub.Config) {window.MathJax.Hub.Config({SVG: {font: \"STIX-Web\"}});}\n",
       "        if (typeof require !== 'undefined') {\n",
       "        require.undef(\"plotly\");\n",
       "        requirejs.config({\n",
       "            paths: {\n",
       "                'plotly': ['https://cdn.plot.ly/plotly-2.27.0.min']\n",
       "            }\n",
       "        });\n",
       "        require(['plotly'], function(Plotly) {\n",
       "            window._Plotly = Plotly;\n",
       "        });\n",
       "        }\n",
       "        </script>\n",
       "        "
      ]
     },
     "metadata": {},
     "output_type": "display_data"
    },
    {
     "data": {
      "text/html": [
       "<div>                            <div id=\"504ead4b-724f-442e-a829-1189f7da1e55\" class=\"plotly-graph-div\" style=\"height:525px; width:100%;\"></div>            <script type=\"text/javascript\">                require([\"plotly\"], function(Plotly) {                    window.PLOTLYENV=window.PLOTLYENV || {};                                    if (document.getElementById(\"504ead4b-724f-442e-a829-1189f7da1e55\")) {                    Plotly.newPlot(                        \"504ead4b-724f-442e-a829-1189f7da1e55\",                        [{\"name\":\"Not Survived\",\"opacity\":0.5,\"x\":[22,35,25,54,2,20,39,14,2,31,35,8,25,19,25,40,66,28,42,21,18,40,27,25,25,25,25,18,7,21,65,28,11,22,45,4,42,19,26,32,16,21,26,25,25,25,22,28,16,25,24,29,20,46,26,59,25,71,34,28,25,21,33,37,28,38,47,14,22,20,17,21,70,29,24,2,21,25,32,54,25,45,33,20,47,25,23,37,16,24,22,19,18,19,9,36,42,51,55,40,25,51,30,25,25,44,26,17,1,45,42,28,61,4,21,56,18,25,50,30,36,22,29,9,42,40,36,19,25,42,24,28,25,34,45,2,32,24,22,30,25,42,30,27,51,25,22,20,18,22,29,59,24,22,44,19,33,22,29,22,30,44,25,54,25,29,62,30,41,25,52,40,22,36,16,42,37,45,29,7,65,28,16,42,33,22,36,24,24,42,23,2,19,25,30,26,28,43,54,22,27,25,61,45,38,16,25,29,45,28,25,36,42,23,42,15,25,25,28,38,40,29,45,35,25,30,18,19,22,3,27,20,19,32,25,18,1,25,28,22,31,46,23,26,21,28,20,34,51,21,22,25,25,29,22,30,10,25,21,29,28,18,25,25,17,50,21,64,31,20,25,36,25,30,25,65,25,34,47,48,25,38,29,56,25,25,38,22,42,34,29,22,9,29,50,22,58,30,25,21,55,71,21,25,25,25,24,17,21,22,37,18,28,25,24,47,25,32,22,25,25,40,42,39,23,25,17,30,45,25,9,11,50,64,33,27,25,62,42,25,40,28,25,22,24,19,29,25,16,19,22,54,36,25,47,22,25,35,47,22,37,36,49,25,25,42,44,36,30,39,25,25,35,34,26,26,27,21,21,61,57,26,25,51,42,9,32,31,41,25,20,2,19,25,25,21,18,24,25,32,23,58,40,47,36,32,25,25,43,31,70,29,18,24,43,22,20,14,60,25,14,19,18,25,60,52,44,49,42,18,25,26,39,42,29,52,19,25,33,17,34,50,20,25,25,11,29,23,23,28,48,25,25,36,24,70,16,19,31,33,23,28,18,34,25,41,16,42,30,25,32,24,48,57,25,18,25,25,29,25,25,25,8,46,25,16,22,42,25,39,30,30,34,31,39,18,39,26,39,35,6,30,42,23,31,43,10,38,2,25,25,25,23,18,21,25,20,16,34,17,42,25,35,28,4,74,9,44,25,41,21,22,24,31,25,26,33,47,20,19,25,33,22,28,25,39,27,22,32],\"type\":\"histogram\"},{\"name\":\"Survived\",\"opacity\":0.5,\"x\":[38,26,35,27,14,4,58,55,29,22,34,15,28,38,22,36,22,25,14,3,19,22,49,29,42,21,5,38,25,29,17,32,0,30,29,22,17,33,23,23,34,21,25,22,32,12,24,22,29,19,22,24,27,22,16,40,9,36,1,1,4,22,45,32,19,3,44,58,22,18,26,16,40,35,31,27,32,16,38,19,35,5,8,22,24,37,29,36,30,35,50,3,25,58,35,25,41,22,63,35,19,30,42,22,26,19,42,50,22,25,28,0,36,17,30,24,18,26,24,31,40,30,22,36,36,31,16,22,36,41,45,2,24,24,40,22,3,22,22,22,60,22,22,24,25,36,22,42,1,35,36,17,36,21,23,24,28,39,3,33,44,34,18,28,19,32,28,22,42,14,24,45,28,25,4,13,34,5,52,49,29,36,50,48,0,33,23,2,63,25,35,9,54,16,33,42,26,29,36,54,34,36,30,44,50,2,22,7,30,22,36,32,19,29,8,17,22,22,48,39,36,32,62,53,36,22,34,39,32,25,39,18,60,52,28,49,24,35,27,22,40,22,24,4,42,20,21,80,32,28,24,25,0,48,56,23,18,22,50,20,36,40,31,18,36,27,15,31,4,25,22,18,35,45,42,22,25,24,48,38,27,6,27,30,22,29,35,42,21,31,30,4,6,48,0,33,20,36,51,54,5,43,13,17,18,1,49,31,31,11,0,27,33,52,27,27,1,25,62,15,0,39,32,42,30,36,16,18,45,51,24,48,42,27,4,47,28,15,56,25,19,26],\"type\":\"histogram\"}],                        {\"template\":{\"data\":{\"histogram2dcontour\":[{\"type\":\"histogram2dcontour\",\"colorbar\":{\"outlinewidth\":0,\"ticks\":\"\"},\"colorscale\":[[0.0,\"#0d0887\"],[0.1111111111111111,\"#46039f\"],[0.2222222222222222,\"#7201a8\"],[0.3333333333333333,\"#9c179e\"],[0.4444444444444444,\"#bd3786\"],[0.5555555555555556,\"#d8576b\"],[0.6666666666666666,\"#ed7953\"],[0.7777777777777778,\"#fb9f3a\"],[0.8888888888888888,\"#fdca26\"],[1.0,\"#f0f921\"]]}],\"choropleth\":[{\"type\":\"choropleth\",\"colorbar\":{\"outlinewidth\":0,\"ticks\":\"\"}}],\"histogram2d\":[{\"type\":\"histogram2d\",\"colorbar\":{\"outlinewidth\":0,\"ticks\":\"\"},\"colorscale\":[[0.0,\"#0d0887\"],[0.1111111111111111,\"#46039f\"],[0.2222222222222222,\"#7201a8\"],[0.3333333333333333,\"#9c179e\"],[0.4444444444444444,\"#bd3786\"],[0.5555555555555556,\"#d8576b\"],[0.6666666666666666,\"#ed7953\"],[0.7777777777777778,\"#fb9f3a\"],[0.8888888888888888,\"#fdca26\"],[1.0,\"#f0f921\"]]}],\"heatmap\":[{\"type\":\"heatmap\",\"colorbar\":{\"outlinewidth\":0,\"ticks\":\"\"},\"colorscale\":[[0.0,\"#0d0887\"],[0.1111111111111111,\"#46039f\"],[0.2222222222222222,\"#7201a8\"],[0.3333333333333333,\"#9c179e\"],[0.4444444444444444,\"#bd3786\"],[0.5555555555555556,\"#d8576b\"],[0.6666666666666666,\"#ed7953\"],[0.7777777777777778,\"#fb9f3a\"],[0.8888888888888888,\"#fdca26\"],[1.0,\"#f0f921\"]]}],\"heatmapgl\":[{\"type\":\"heatmapgl\",\"colorbar\":{\"outlinewidth\":0,\"ticks\":\"\"},\"colorscale\":[[0.0,\"#0d0887\"],[0.1111111111111111,\"#46039f\"],[0.2222222222222222,\"#7201a8\"],[0.3333333333333333,\"#9c179e\"],[0.4444444444444444,\"#bd3786\"],[0.5555555555555556,\"#d8576b\"],[0.6666666666666666,\"#ed7953\"],[0.7777777777777778,\"#fb9f3a\"],[0.8888888888888888,\"#fdca26\"],[1.0,\"#f0f921\"]]}],\"contourcarpet\":[{\"type\":\"contourcarpet\",\"colorbar\":{\"outlinewidth\":0,\"ticks\":\"\"}}],\"contour\":[{\"type\":\"contour\",\"colorbar\":{\"outlinewidth\":0,\"ticks\":\"\"},\"colorscale\":[[0.0,\"#0d0887\"],[0.1111111111111111,\"#46039f\"],[0.2222222222222222,\"#7201a8\"],[0.3333333333333333,\"#9c179e\"],[0.4444444444444444,\"#bd3786\"],[0.5555555555555556,\"#d8576b\"],[0.6666666666666666,\"#ed7953\"],[0.7777777777777778,\"#fb9f3a\"],[0.8888888888888888,\"#fdca26\"],[1.0,\"#f0f921\"]]}],\"surface\":[{\"type\":\"surface\",\"colorbar\":{\"outlinewidth\":0,\"ticks\":\"\"},\"colorscale\":[[0.0,\"#0d0887\"],[0.1111111111111111,\"#46039f\"],[0.2222222222222222,\"#7201a8\"],[0.3333333333333333,\"#9c179e\"],[0.4444444444444444,\"#bd3786\"],[0.5555555555555556,\"#d8576b\"],[0.6666666666666666,\"#ed7953\"],[0.7777777777777778,\"#fb9f3a\"],[0.8888888888888888,\"#fdca26\"],[1.0,\"#f0f921\"]]}],\"mesh3d\":[{\"type\":\"mesh3d\",\"colorbar\":{\"outlinewidth\":0,\"ticks\":\"\"}}],\"scatter\":[{\"fillpattern\":{\"fillmode\":\"overlay\",\"size\":10,\"solidity\":0.2},\"type\":\"scatter\"}],\"parcoords\":[{\"type\":\"parcoords\",\"line\":{\"colorbar\":{\"outlinewidth\":0,\"ticks\":\"\"}}}],\"scatterpolargl\":[{\"type\":\"scatterpolargl\",\"marker\":{\"colorbar\":{\"outlinewidth\":0,\"ticks\":\"\"}}}],\"bar\":[{\"error_x\":{\"color\":\"#2a3f5f\"},\"error_y\":{\"color\":\"#2a3f5f\"},\"marker\":{\"line\":{\"color\":\"#E5ECF6\",\"width\":0.5},\"pattern\":{\"fillmode\":\"overlay\",\"size\":10,\"solidity\":0.2}},\"type\":\"bar\"}],\"scattergeo\":[{\"type\":\"scattergeo\",\"marker\":{\"colorbar\":{\"outlinewidth\":0,\"ticks\":\"\"}}}],\"scatterpolar\":[{\"type\":\"scatterpolar\",\"marker\":{\"colorbar\":{\"outlinewidth\":0,\"ticks\":\"\"}}}],\"histogram\":[{\"marker\":{\"pattern\":{\"fillmode\":\"overlay\",\"size\":10,\"solidity\":0.2}},\"type\":\"histogram\"}],\"scattergl\":[{\"type\":\"scattergl\",\"marker\":{\"colorbar\":{\"outlinewidth\":0,\"ticks\":\"\"}}}],\"scatter3d\":[{\"type\":\"scatter3d\",\"line\":{\"colorbar\":{\"outlinewidth\":0,\"ticks\":\"\"}},\"marker\":{\"colorbar\":{\"outlinewidth\":0,\"ticks\":\"\"}}}],\"scattermapbox\":[{\"type\":\"scattermapbox\",\"marker\":{\"colorbar\":{\"outlinewidth\":0,\"ticks\":\"\"}}}],\"scatterternary\":[{\"type\":\"scatterternary\",\"marker\":{\"colorbar\":{\"outlinewidth\":0,\"ticks\":\"\"}}}],\"scattercarpet\":[{\"type\":\"scattercarpet\",\"marker\":{\"colorbar\":{\"outlinewidth\":0,\"ticks\":\"\"}}}],\"carpet\":[{\"aaxis\":{\"endlinecolor\":\"#2a3f5f\",\"gridcolor\":\"white\",\"linecolor\":\"white\",\"minorgridcolor\":\"white\",\"startlinecolor\":\"#2a3f5f\"},\"baxis\":{\"endlinecolor\":\"#2a3f5f\",\"gridcolor\":\"white\",\"linecolor\":\"white\",\"minorgridcolor\":\"white\",\"startlinecolor\":\"#2a3f5f\"},\"type\":\"carpet\"}],\"table\":[{\"cells\":{\"fill\":{\"color\":\"#EBF0F8\"},\"line\":{\"color\":\"white\"}},\"header\":{\"fill\":{\"color\":\"#C8D4E3\"},\"line\":{\"color\":\"white\"}},\"type\":\"table\"}],\"barpolar\":[{\"marker\":{\"line\":{\"color\":\"#E5ECF6\",\"width\":0.5},\"pattern\":{\"fillmode\":\"overlay\",\"size\":10,\"solidity\":0.2}},\"type\":\"barpolar\"}],\"pie\":[{\"automargin\":true,\"type\":\"pie\"}]},\"layout\":{\"autotypenumbers\":\"strict\",\"colorway\":[\"#636efa\",\"#EF553B\",\"#00cc96\",\"#ab63fa\",\"#FFA15A\",\"#19d3f3\",\"#FF6692\",\"#B6E880\",\"#FF97FF\",\"#FECB52\"],\"font\":{\"color\":\"#2a3f5f\"},\"hovermode\":\"closest\",\"hoverlabel\":{\"align\":\"left\"},\"paper_bgcolor\":\"white\",\"plot_bgcolor\":\"#E5ECF6\",\"polar\":{\"bgcolor\":\"#E5ECF6\",\"angularaxis\":{\"gridcolor\":\"white\",\"linecolor\":\"white\",\"ticks\":\"\"},\"radialaxis\":{\"gridcolor\":\"white\",\"linecolor\":\"white\",\"ticks\":\"\"}},\"ternary\":{\"bgcolor\":\"#E5ECF6\",\"aaxis\":{\"gridcolor\":\"white\",\"linecolor\":\"white\",\"ticks\":\"\"},\"baxis\":{\"gridcolor\":\"white\",\"linecolor\":\"white\",\"ticks\":\"\"},\"caxis\":{\"gridcolor\":\"white\",\"linecolor\":\"white\",\"ticks\":\"\"}},\"coloraxis\":{\"colorbar\":{\"outlinewidth\":0,\"ticks\":\"\"}},\"colorscale\":{\"sequential\":[[0.0,\"#0d0887\"],[0.1111111111111111,\"#46039f\"],[0.2222222222222222,\"#7201a8\"],[0.3333333333333333,\"#9c179e\"],[0.4444444444444444,\"#bd3786\"],[0.5555555555555556,\"#d8576b\"],[0.6666666666666666,\"#ed7953\"],[0.7777777777777778,\"#fb9f3a\"],[0.8888888888888888,\"#fdca26\"],[1.0,\"#f0f921\"]],\"sequentialminus\":[[0.0,\"#0d0887\"],[0.1111111111111111,\"#46039f\"],[0.2222222222222222,\"#7201a8\"],[0.3333333333333333,\"#9c179e\"],[0.4444444444444444,\"#bd3786\"],[0.5555555555555556,\"#d8576b\"],[0.6666666666666666,\"#ed7953\"],[0.7777777777777778,\"#fb9f3a\"],[0.8888888888888888,\"#fdca26\"],[1.0,\"#f0f921\"]],\"diverging\":[[0,\"#8e0152\"],[0.1,\"#c51b7d\"],[0.2,\"#de77ae\"],[0.3,\"#f1b6da\"],[0.4,\"#fde0ef\"],[0.5,\"#f7f7f7\"],[0.6,\"#e6f5d0\"],[0.7,\"#b8e186\"],[0.8,\"#7fbc41\"],[0.9,\"#4d9221\"],[1,\"#276419\"]]},\"xaxis\":{\"gridcolor\":\"white\",\"linecolor\":\"white\",\"ticks\":\"\",\"title\":{\"standoff\":15},\"zerolinecolor\":\"white\",\"automargin\":true,\"zerolinewidth\":2},\"yaxis\":{\"gridcolor\":\"white\",\"linecolor\":\"white\",\"ticks\":\"\",\"title\":{\"standoff\":15},\"zerolinecolor\":\"white\",\"automargin\":true,\"zerolinewidth\":2},\"scene\":{\"xaxis\":{\"backgroundcolor\":\"#E5ECF6\",\"gridcolor\":\"white\",\"linecolor\":\"white\",\"showbackground\":true,\"ticks\":\"\",\"zerolinecolor\":\"white\",\"gridwidth\":2},\"yaxis\":{\"backgroundcolor\":\"#E5ECF6\",\"gridcolor\":\"white\",\"linecolor\":\"white\",\"showbackground\":true,\"ticks\":\"\",\"zerolinecolor\":\"white\",\"gridwidth\":2},\"zaxis\":{\"backgroundcolor\":\"#E5ECF6\",\"gridcolor\":\"white\",\"linecolor\":\"white\",\"showbackground\":true,\"ticks\":\"\",\"zerolinecolor\":\"white\",\"gridwidth\":2}},\"shapedefaults\":{\"line\":{\"color\":\"#2a3f5f\"}},\"annotationdefaults\":{\"arrowcolor\":\"#2a3f5f\",\"arrowhead\":0,\"arrowwidth\":1},\"geo\":{\"bgcolor\":\"white\",\"landcolor\":\"#E5ECF6\",\"subunitcolor\":\"white\",\"showland\":true,\"showlakes\":true,\"lakecolor\":\"white\"},\"title\":{\"x\":0.05},\"mapbox\":{\"style\":\"light\"}}},\"title\":{\"text\":\"Age Distribution by Survival\"},\"xaxis\":{\"title\":{\"text\":\"Age\"}},\"yaxis\":{\"title\":{\"text\":\"Density\"}},\"barmode\":\"overlay\",\"bargap\":0.1},                        {\"responsive\": true}                    ).then(function(){\n",
       "                            \n",
       "var gd = document.getElementById('504ead4b-724f-442e-a829-1189f7da1e55');\n",
       "var x = new MutationObserver(function (mutations, observer) {{\n",
       "        var display = window.getComputedStyle(gd).display;\n",
       "        if (!display || display === 'none') {{\n",
       "            console.log([gd, 'removed!']);\n",
       "            Plotly.purge(gd);\n",
       "            observer.disconnect();\n",
       "        }}\n",
       "}});\n",
       "\n",
       "// Listen for the removal of the full notebook cells\n",
       "var notebookContainer = gd.closest('#notebook-container');\n",
       "if (notebookContainer) {{\n",
       "    x.observe(notebookContainer, {childList: true});\n",
       "}}\n",
       "\n",
       "// Listen for the clearing of the current output cell\n",
       "var outputEl = gd.closest('.output');\n",
       "if (outputEl) {{\n",
       "    x.observe(outputEl, {childList: true});\n",
       "}}\n",
       "\n",
       "                        })                };                });            </script>        </div>"
      ]
     },
     "metadata": {},
     "output_type": "display_data"
    }
   ],
   "source": [
    "import plotly.express as px\n",
    "import plotly.graph_objects as go\n",
    "\n",
    "\n",
    "fig = go.Figure()\n",
    "\n",
    "fig.add_trace(go.Histogram(x=df[df['Survived']==0]['Age'], name='Not Survived', opacity=0.5))\n",
    "fig.add_trace(go.Histogram(x=df[df['Survived']==1]['Age'], name='Survived', opacity=0.5))\n",
    "\n",
    "fig.update_layout(\n",
    "    title='Age Distribution by Survival',\n",
    "    xaxis_title='Age',\n",
    "    yaxis_title='Density',\n",
    "    barmode='overlay',  \n",
    "    bargap=0.1, \n",
    ")\n",
    "\n",
    "fig.show()"
   ]
  },
  {
   "cell_type": "code",
   "execution_count": 34,
   "id": "441280d2",
   "metadata": {
    "execution": {
     "iopub.execute_input": "2024-07-26T18:00:26.719983Z",
     "iopub.status.busy": "2024-07-26T18:00:26.719588Z",
     "iopub.status.idle": "2024-07-26T18:00:26.737723Z",
     "shell.execute_reply": "2024-07-26T18:00:26.736686Z"
    },
    "papermill": {
     "duration": 0.041952,
     "end_time": "2024-07-26T18:00:26.739898",
     "exception": false,
     "start_time": "2024-07-26T18:00:26.697946",
     "status": "completed"
    },
    "tags": []
   },
   "outputs": [
    {
     "data": {
      "text/html": [
       "<div>                            <div id=\"6d3c1c3a-5eb5-4c84-be22-18e29fb8a796\" class=\"plotly-graph-div\" style=\"height:525px; width:100%;\"></div>            <script type=\"text/javascript\">                require([\"plotly\"], function(Plotly) {                    window.PLOTLYENV=window.PLOTLYENV || {};                                    if (document.getElementById(\"6d3c1c3a-5eb5-4c84-be22-18e29fb8a796\")) {                    Plotly.newPlot(                        \"6d3c1c3a-5eb5-4c84-be22-18e29fb8a796\",                        [{\"name\":\"Not Survived\",\"opacity\":0.5,\"x\":[7.25,8.05,8.4583,51.8625,21.075,8.05,31.275,7.8542,29.125,18.0,26.0,21.075,7.225,263.0,7.8958,27.7208,10.5,82.1708,52.0,8.05,18.0,9.475,21.0,7.8958,8.05,15.5,21.6792,17.8,39.6875,7.8,61.9792,7.2292,46.9,7.2292,83.475,27.9,27.7208,8.1583,8.6625,10.5,46.9,73.5,14.4542,7.65,7.8958,8.05,9.0,47.1,34.375,8.05,8.05,8.05,7.8542,61.175,20.575,7.25,8.05,34.6542,26.0,7.8958,7.8958,77.2875,8.6542,7.925,7.8958,7.8958,52.0,14.4542,8.05,9.825,14.4583,7.925,7.75,21.0,247.5208,31.275,73.5,8.05,30.0708,77.2875,7.75,6.975,7.8958,7.05,14.5,13.0,15.0458,53.1,9.2167,79.2,15.2458,6.75,11.5,36.75,34.375,26.0,13.0,12.525,8.05,14.5,7.3125,61.3792,8.05,8.6625,69.55,16.1,7.775,8.6625,39.6875,27.9,25.925,56.4958,33.5,29.125,7.925,30.6958,7.8542,25.4667,28.7125,13.0,0.0,69.55,15.05,31.3875,50.0,15.5,7.8958,13.0,7.75,8.4042,13.0,9.5,69.55,6.4958,7.225,10.4625,15.85,7.05,7.25,13.0,7.75,27.0,10.5,13.0,8.05,7.8958,9.35,7.25,13.0,25.4667,7.775,13.5,10.5,7.55,26.0,10.5,12.275,14.4542,10.5,7.125,7.225,90.0,7.775,26.0,7.25,10.4625,26.55,16.1,20.2125,7.75,79.65,0.0,7.75,10.5,39.6875,31.0,29.7,7.75,0.0,29.125,7.75,7.8542,9.5,26.0,8.6625,7.8958,12.875,8.85,7.8958,27.7208,7.2292,151.55,0.0,8.05,24.0,26.0,7.8958,26.25,14.0,7.25,7.8958,69.55,6.2375,28.5,153.4625,18.0,7.8958,66.6,35.5,13.0,13.0,13.0,8.6625,9.225,35.0,7.2292,17.8,7.225,9.5,13.0,27.9,27.7208,14.4542,7.05,15.5,7.25,6.4958,8.05,135.6333,21.075,211.5,4.0125,7.775,7.925,7.8958,73.5,46.9,7.7292,7.925,7.7958,7.8542,26.0,10.5,8.05,9.825,15.85,8.6625,21.0,7.75,7.775,25.4667,7.8958,6.8583,0.0,8.05,13.0,24.15,7.8958,7.7333,7.875,14.4,20.2125,7.25,7.75,7.125,55.9,34.375,263.0,10.5,9.5,7.775,27.75,19.9667,27.75,8.05,26.55,7.75,8.05,38.5,13.0,8.05,7.05,0.0,26.55,7.725,7.25,8.6625,9.8375,52.0,21.0,7.0458,7.5208,46.9,0.0,8.05,25.4667,29.7,8.05,19.9667,7.25,30.5,49.5042,8.05,14.4583,15.1,151.55,7.7958,8.6625,7.75,7.6292,9.5875,108.9,22.525,8.05,7.4958,34.0208,24.15,7.8958,7.8958,7.225,7.2292,7.75,221.7792,7.925,11.5,7.2292,7.2292,8.6625,26.55,14.5,31.275,31.275,106.425,26.0,20.525,26.0,7.8292,26.55,227.525,7.75,7.8958,13.5,8.05,8.05,24.15,7.8958,21.075,7.2292,8.05,14.5,14.4583,26.0,40.125,8.7125,15.0,8.05,8.05,7.125,7.25,7.75,26.0,24.15,0.0,7.225,7.8958,42.4,8.05,15.55,7.8958,31.275,7.05,7.75,8.05,14.4,16.1,10.5,14.4542,7.8542,16.1,32.3208,12.35,7.8958,7.7333,7.0542,0.0,27.9,7.925,26.25,39.6875,16.1,7.8542,27.9,7.8958,7.55,7.8958,8.4333,6.75,73.5,7.8958,15.5,13.0,113.275,7.225,25.5875,7.4958,73.5,13.0,7.775,8.05,52.0,10.5,0.0,7.775,8.05,46.9,8.1375,9.225,46.9,39.0,41.5792,39.6875,10.1708,7.7958,7.225,26.55,13.5,8.05,110.8833,7.65,14.4542,7.7417,7.8542,26.0,26.55,9.4833,13.0,7.65,15.5,7.775,7.0542,13.0,13.0,8.6625,26.0,7.925,18.7875,0.0,13.0,13.0,16.1,34.375,7.8958,7.8958,78.85,16.1,71.0,20.25,53.1,7.75,9.5,7.8958,7.7958,11.5,8.05,14.5,7.125,7.775,39.6,7.75,24.15,8.3625,9.5,7.8542,10.5,7.225,7.75,7.75,7.7375,30.0,23.45,7.05,7.25,29.125,79.2,7.75,26.0,69.55,30.6958,7.8958,13.0,7.2292,24.15,13.0,7.775,0.0,7.775,13.0,7.8875,24.15,10.5,31.275,8.05,0.0,7.925,37.0042,6.45,27.9,0.0,39.6875,6.95,56.4958,7.2292,7.8542,8.3,8.6625,8.05,7.925,10.5,6.4375,8.6625,7.55,69.55,7.8958,33.0,31.275,7.775,15.2458,26.0,7.2292,14.1083,11.5,69.55,13.0,50.4958,9.5,7.8958,5.0,9.0,9.8458,7.8958,7.8958,7.8958,10.5167,10.5,7.05,29.125,13.0,23.45,7.75],\"type\":\"histogram\"},{\"name\":\"Survived\",\"opacity\":0.5,\"x\":[71.2833,7.925,53.1,11.1333,30.0708,16.7,26.55,16.0,13.0,7.225,13.0,8.0292,35.5,31.3875,7.8792,146.5208,7.75,7.2292,11.2417,41.5792,7.8792,7.75,76.7292,26.0,35.5,10.5,27.75,80.0,15.2458,10.5,7.925,56.4958,29.0,12.475,9.5,7.7875,10.5,15.85,263.0,63.3583,23.0,7.65,7.775,24.15,13.0,11.2417,7.1417,22.3583,26.0,26.2833,7.75,15.85,7.7958,66.6,7.7333,15.75,20.525,55.0,11.1333,39.0,22.025,15.5,26.55,13.0,7.8542,26.0,27.7208,146.5208,7.75,8.05,18.7875,7.75,31.0,21.0,113.275,7.925,76.2917,8.05,90.0,10.5,83.475,31.3875,26.25,15.5,14.5,52.5542,15.2458,79.2,86.5,512.3292,26.0,31.3875,7.775,153.4625,135.6333,0.0,19.5,7.75,77.9583,20.25,8.05,9.5,13.0,7.75,78.85,91.0792,30.5,247.5208,7.75,23.25,12.35,151.55,110.8833,108.9,56.9292,83.1583,262.375,7.8542,26.0,164.8667,134.5,12.35,29.0,135.6333,13.0,20.525,57.9792,23.25,133.65,134.5,8.05,26.0,263.0,13.0,13.0,16.1,15.9,55.0,7.8792,7.8792,75.25,7.2292,7.75,69.3,55.4417,82.1708,7.25,227.525,15.7417,52.0,13.0,12.0,120.0,7.7958,113.275,16.7,12.65,7.925,18.75,90.0,7.925,32.5,13.0,26.0,26.0,8.05,26.55,16.1,26.0,120.0,18.75,26.25,13.0,8.1125,81.8583,19.5,26.55,19.2583,30.5,89.1042,7.8958,51.8625,10.5,26.55,19.2583,27.75,13.7917,12.2875,9.5875,91.0792,90.0,15.9,78.2667,86.5,26.0,26.55,56.4958,7.75,26.2875,59.4,10.5,26.0,93.5,57.9792,10.5,26.0,22.3583,26.25,106.425,49.5,71.0,26.0,26.0,13.8625,36.75,110.8833,7.225,7.775,39.6,79.65,17.4,7.8542,10.5,51.4792,26.3875,7.75,13.0,55.9,7.925,30.0,110.8833,79.65,79.2,78.2667,33.0,56.9292,27.0,26.55,30.5,41.5792,153.4625,15.5,65.0,39.0,52.5542,15.7417,77.9583,30.0,30.5,13.0,69.3,56.4958,19.2583,76.7292,35.5,7.55,23.0,7.8292,133.65,7.925,52.0,39.0,13.0,9.8417,512.3292,76.7292,211.3375,57.0,13.4167,56.4958,7.7333,227.525,26.2875,13.5,26.2875,151.55,15.2458,49.5042,52.0,227.525,10.5,33.0,53.1,21.0,7.7375,211.3375,512.3292,30.0,262.375,7.925,13.0,23.0,12.475,65.0,14.5,86.5,7.2292,120.0,77.9583,23.0,12.475,211.3375,7.2292,57.0,7.4958,20.575,25.9292,8.6833,26.25,120.0,8.5167,6.975,53.1,93.5,8.6625,12.475,37.0042,7.75,80.0,14.4542,18.75,83.1583,56.4958,29.7,31.0,89.1042,39.4,9.35,164.8667,26.55,19.2583,25.9292,13.0,13.8583,11.1333,52.5542,24.0,7.225,83.1583,26.0,30.0,30.0],\"type\":\"histogram\"}],                        {\"template\":{\"data\":{\"histogram2dcontour\":[{\"type\":\"histogram2dcontour\",\"colorbar\":{\"outlinewidth\":0,\"ticks\":\"\"},\"colorscale\":[[0.0,\"#0d0887\"],[0.1111111111111111,\"#46039f\"],[0.2222222222222222,\"#7201a8\"],[0.3333333333333333,\"#9c179e\"],[0.4444444444444444,\"#bd3786\"],[0.5555555555555556,\"#d8576b\"],[0.6666666666666666,\"#ed7953\"],[0.7777777777777778,\"#fb9f3a\"],[0.8888888888888888,\"#fdca26\"],[1.0,\"#f0f921\"]]}],\"choropleth\":[{\"type\":\"choropleth\",\"colorbar\":{\"outlinewidth\":0,\"ticks\":\"\"}}],\"histogram2d\":[{\"type\":\"histogram2d\",\"colorbar\":{\"outlinewidth\":0,\"ticks\":\"\"},\"colorscale\":[[0.0,\"#0d0887\"],[0.1111111111111111,\"#46039f\"],[0.2222222222222222,\"#7201a8\"],[0.3333333333333333,\"#9c179e\"],[0.4444444444444444,\"#bd3786\"],[0.5555555555555556,\"#d8576b\"],[0.6666666666666666,\"#ed7953\"],[0.7777777777777778,\"#fb9f3a\"],[0.8888888888888888,\"#fdca26\"],[1.0,\"#f0f921\"]]}],\"heatmap\":[{\"type\":\"heatmap\",\"colorbar\":{\"outlinewidth\":0,\"ticks\":\"\"},\"colorscale\":[[0.0,\"#0d0887\"],[0.1111111111111111,\"#46039f\"],[0.2222222222222222,\"#7201a8\"],[0.3333333333333333,\"#9c179e\"],[0.4444444444444444,\"#bd3786\"],[0.5555555555555556,\"#d8576b\"],[0.6666666666666666,\"#ed7953\"],[0.7777777777777778,\"#fb9f3a\"],[0.8888888888888888,\"#fdca26\"],[1.0,\"#f0f921\"]]}],\"heatmapgl\":[{\"type\":\"heatmapgl\",\"colorbar\":{\"outlinewidth\":0,\"ticks\":\"\"},\"colorscale\":[[0.0,\"#0d0887\"],[0.1111111111111111,\"#46039f\"],[0.2222222222222222,\"#7201a8\"],[0.3333333333333333,\"#9c179e\"],[0.4444444444444444,\"#bd3786\"],[0.5555555555555556,\"#d8576b\"],[0.6666666666666666,\"#ed7953\"],[0.7777777777777778,\"#fb9f3a\"],[0.8888888888888888,\"#fdca26\"],[1.0,\"#f0f921\"]]}],\"contourcarpet\":[{\"type\":\"contourcarpet\",\"colorbar\":{\"outlinewidth\":0,\"ticks\":\"\"}}],\"contour\":[{\"type\":\"contour\",\"colorbar\":{\"outlinewidth\":0,\"ticks\":\"\"},\"colorscale\":[[0.0,\"#0d0887\"],[0.1111111111111111,\"#46039f\"],[0.2222222222222222,\"#7201a8\"],[0.3333333333333333,\"#9c179e\"],[0.4444444444444444,\"#bd3786\"],[0.5555555555555556,\"#d8576b\"],[0.6666666666666666,\"#ed7953\"],[0.7777777777777778,\"#fb9f3a\"],[0.8888888888888888,\"#fdca26\"],[1.0,\"#f0f921\"]]}],\"surface\":[{\"type\":\"surface\",\"colorbar\":{\"outlinewidth\":0,\"ticks\":\"\"},\"colorscale\":[[0.0,\"#0d0887\"],[0.1111111111111111,\"#46039f\"],[0.2222222222222222,\"#7201a8\"],[0.3333333333333333,\"#9c179e\"],[0.4444444444444444,\"#bd3786\"],[0.5555555555555556,\"#d8576b\"],[0.6666666666666666,\"#ed7953\"],[0.7777777777777778,\"#fb9f3a\"],[0.8888888888888888,\"#fdca26\"],[1.0,\"#f0f921\"]]}],\"mesh3d\":[{\"type\":\"mesh3d\",\"colorbar\":{\"outlinewidth\":0,\"ticks\":\"\"}}],\"scatter\":[{\"fillpattern\":{\"fillmode\":\"overlay\",\"size\":10,\"solidity\":0.2},\"type\":\"scatter\"}],\"parcoords\":[{\"type\":\"parcoords\",\"line\":{\"colorbar\":{\"outlinewidth\":0,\"ticks\":\"\"}}}],\"scatterpolargl\":[{\"type\":\"scatterpolargl\",\"marker\":{\"colorbar\":{\"outlinewidth\":0,\"ticks\":\"\"}}}],\"bar\":[{\"error_x\":{\"color\":\"#2a3f5f\"},\"error_y\":{\"color\":\"#2a3f5f\"},\"marker\":{\"line\":{\"color\":\"#E5ECF6\",\"width\":0.5},\"pattern\":{\"fillmode\":\"overlay\",\"size\":10,\"solidity\":0.2}},\"type\":\"bar\"}],\"scattergeo\":[{\"type\":\"scattergeo\",\"marker\":{\"colorbar\":{\"outlinewidth\":0,\"ticks\":\"\"}}}],\"scatterpolar\":[{\"type\":\"scatterpolar\",\"marker\":{\"colorbar\":{\"outlinewidth\":0,\"ticks\":\"\"}}}],\"histogram\":[{\"marker\":{\"pattern\":{\"fillmode\":\"overlay\",\"size\":10,\"solidity\":0.2}},\"type\":\"histogram\"}],\"scattergl\":[{\"type\":\"scattergl\",\"marker\":{\"colorbar\":{\"outlinewidth\":0,\"ticks\":\"\"}}}],\"scatter3d\":[{\"type\":\"scatter3d\",\"line\":{\"colorbar\":{\"outlinewidth\":0,\"ticks\":\"\"}},\"marker\":{\"colorbar\":{\"outlinewidth\":0,\"ticks\":\"\"}}}],\"scattermapbox\":[{\"type\":\"scattermapbox\",\"marker\":{\"colorbar\":{\"outlinewidth\":0,\"ticks\":\"\"}}}],\"scatterternary\":[{\"type\":\"scatterternary\",\"marker\":{\"colorbar\":{\"outlinewidth\":0,\"ticks\":\"\"}}}],\"scattercarpet\":[{\"type\":\"scattercarpet\",\"marker\":{\"colorbar\":{\"outlinewidth\":0,\"ticks\":\"\"}}}],\"carpet\":[{\"aaxis\":{\"endlinecolor\":\"#2a3f5f\",\"gridcolor\":\"white\",\"linecolor\":\"white\",\"minorgridcolor\":\"white\",\"startlinecolor\":\"#2a3f5f\"},\"baxis\":{\"endlinecolor\":\"#2a3f5f\",\"gridcolor\":\"white\",\"linecolor\":\"white\",\"minorgridcolor\":\"white\",\"startlinecolor\":\"#2a3f5f\"},\"type\":\"carpet\"}],\"table\":[{\"cells\":{\"fill\":{\"color\":\"#EBF0F8\"},\"line\":{\"color\":\"white\"}},\"header\":{\"fill\":{\"color\":\"#C8D4E3\"},\"line\":{\"color\":\"white\"}},\"type\":\"table\"}],\"barpolar\":[{\"marker\":{\"line\":{\"color\":\"#E5ECF6\",\"width\":0.5},\"pattern\":{\"fillmode\":\"overlay\",\"size\":10,\"solidity\":0.2}},\"type\":\"barpolar\"}],\"pie\":[{\"automargin\":true,\"type\":\"pie\"}]},\"layout\":{\"autotypenumbers\":\"strict\",\"colorway\":[\"#636efa\",\"#EF553B\",\"#00cc96\",\"#ab63fa\",\"#FFA15A\",\"#19d3f3\",\"#FF6692\",\"#B6E880\",\"#FF97FF\",\"#FECB52\"],\"font\":{\"color\":\"#2a3f5f\"},\"hovermode\":\"closest\",\"hoverlabel\":{\"align\":\"left\"},\"paper_bgcolor\":\"white\",\"plot_bgcolor\":\"#E5ECF6\",\"polar\":{\"bgcolor\":\"#E5ECF6\",\"angularaxis\":{\"gridcolor\":\"white\",\"linecolor\":\"white\",\"ticks\":\"\"},\"radialaxis\":{\"gridcolor\":\"white\",\"linecolor\":\"white\",\"ticks\":\"\"}},\"ternary\":{\"bgcolor\":\"#E5ECF6\",\"aaxis\":{\"gridcolor\":\"white\",\"linecolor\":\"white\",\"ticks\":\"\"},\"baxis\":{\"gridcolor\":\"white\",\"linecolor\":\"white\",\"ticks\":\"\"},\"caxis\":{\"gridcolor\":\"white\",\"linecolor\":\"white\",\"ticks\":\"\"}},\"coloraxis\":{\"colorbar\":{\"outlinewidth\":0,\"ticks\":\"\"}},\"colorscale\":{\"sequential\":[[0.0,\"#0d0887\"],[0.1111111111111111,\"#46039f\"],[0.2222222222222222,\"#7201a8\"],[0.3333333333333333,\"#9c179e\"],[0.4444444444444444,\"#bd3786\"],[0.5555555555555556,\"#d8576b\"],[0.6666666666666666,\"#ed7953\"],[0.7777777777777778,\"#fb9f3a\"],[0.8888888888888888,\"#fdca26\"],[1.0,\"#f0f921\"]],\"sequentialminus\":[[0.0,\"#0d0887\"],[0.1111111111111111,\"#46039f\"],[0.2222222222222222,\"#7201a8\"],[0.3333333333333333,\"#9c179e\"],[0.4444444444444444,\"#bd3786\"],[0.5555555555555556,\"#d8576b\"],[0.6666666666666666,\"#ed7953\"],[0.7777777777777778,\"#fb9f3a\"],[0.8888888888888888,\"#fdca26\"],[1.0,\"#f0f921\"]],\"diverging\":[[0,\"#8e0152\"],[0.1,\"#c51b7d\"],[0.2,\"#de77ae\"],[0.3,\"#f1b6da\"],[0.4,\"#fde0ef\"],[0.5,\"#f7f7f7\"],[0.6,\"#e6f5d0\"],[0.7,\"#b8e186\"],[0.8,\"#7fbc41\"],[0.9,\"#4d9221\"],[1,\"#276419\"]]},\"xaxis\":{\"gridcolor\":\"white\",\"linecolor\":\"white\",\"ticks\":\"\",\"title\":{\"standoff\":15},\"zerolinecolor\":\"white\",\"automargin\":true,\"zerolinewidth\":2},\"yaxis\":{\"gridcolor\":\"white\",\"linecolor\":\"white\",\"ticks\":\"\",\"title\":{\"standoff\":15},\"zerolinecolor\":\"white\",\"automargin\":true,\"zerolinewidth\":2},\"scene\":{\"xaxis\":{\"backgroundcolor\":\"#E5ECF6\",\"gridcolor\":\"white\",\"linecolor\":\"white\",\"showbackground\":true,\"ticks\":\"\",\"zerolinecolor\":\"white\",\"gridwidth\":2},\"yaxis\":{\"backgroundcolor\":\"#E5ECF6\",\"gridcolor\":\"white\",\"linecolor\":\"white\",\"showbackground\":true,\"ticks\":\"\",\"zerolinecolor\":\"white\",\"gridwidth\":2},\"zaxis\":{\"backgroundcolor\":\"#E5ECF6\",\"gridcolor\":\"white\",\"linecolor\":\"white\",\"showbackground\":true,\"ticks\":\"\",\"zerolinecolor\":\"white\",\"gridwidth\":2}},\"shapedefaults\":{\"line\":{\"color\":\"#2a3f5f\"}},\"annotationdefaults\":{\"arrowcolor\":\"#2a3f5f\",\"arrowhead\":0,\"arrowwidth\":1},\"geo\":{\"bgcolor\":\"white\",\"landcolor\":\"#E5ECF6\",\"subunitcolor\":\"white\",\"showland\":true,\"showlakes\":true,\"lakecolor\":\"white\"},\"title\":{\"x\":0.05},\"mapbox\":{\"style\":\"light\"}}},\"title\":{\"text\":\"Fare Distribution by Survival\"},\"xaxis\":{\"title\":{\"text\":\"Fare\"}},\"yaxis\":{\"title\":{\"text\":\"Density\"}},\"barmode\":\"overlay\",\"bargap\":0.1},                        {\"responsive\": true}                    ).then(function(){\n",
       "                            \n",
       "var gd = document.getElementById('6d3c1c3a-5eb5-4c84-be22-18e29fb8a796');\n",
       "var x = new MutationObserver(function (mutations, observer) {{\n",
       "        var display = window.getComputedStyle(gd).display;\n",
       "        if (!display || display === 'none') {{\n",
       "            console.log([gd, 'removed!']);\n",
       "            Plotly.purge(gd);\n",
       "            observer.disconnect();\n",
       "        }}\n",
       "}});\n",
       "\n",
       "// Listen for the removal of the full notebook cells\n",
       "var notebookContainer = gd.closest('#notebook-container');\n",
       "if (notebookContainer) {{\n",
       "    x.observe(notebookContainer, {childList: true});\n",
       "}}\n",
       "\n",
       "// Listen for the clearing of the current output cell\n",
       "var outputEl = gd.closest('.output');\n",
       "if (outputEl) {{\n",
       "    x.observe(outputEl, {childList: true});\n",
       "}}\n",
       "\n",
       "                        })                };                });            </script>        </div>"
      ]
     },
     "metadata": {},
     "output_type": "display_data"
    }
   ],
   "source": [
    "fig = go.Figure()\n",
    "\n",
    "fig.add_trace(go.Histogram(x=df[df['Survived'] == 0]['Fare'], name='Not Survived', opacity=0.5))\n",
    "fig.add_trace(go.Histogram(x=df[df['Survived'] == 1]['Fare'], name='Survived', opacity=0.5))\n",
    "\n",
    "fig.update_layout(\n",
    "    title='Fare Distribution by Survival',\n",
    "    xaxis_title='Fare',\n",
    "    yaxis_title='Density',\n",
    "    barmode='overlay',  \n",
    "    bargap=0.1,  \n",
    ")\n",
    "\n",
    "fig.show()"
   ]
  },
  {
   "cell_type": "code",
   "execution_count": 35,
   "id": "82fa6fd8",
   "metadata": {
    "execution": {
     "iopub.execute_input": "2024-07-26T18:00:26.782175Z",
     "iopub.status.busy": "2024-07-26T18:00:26.781774Z",
     "iopub.status.idle": "2024-07-26T18:00:26.804443Z",
     "shell.execute_reply": "2024-07-26T18:00:26.802624Z"
    },
    "papermill": {
     "duration": 0.047737,
     "end_time": "2024-07-26T18:00:26.807383",
     "exception": false,
     "start_time": "2024-07-26T18:00:26.759646",
     "status": "completed"
    },
    "tags": []
   },
   "outputs": [
    {
     "data": {
      "text/html": [
       "<div>                            <div id=\"a609f823-aad3-4543-bb84-2f5b6b3de672\" class=\"plotly-graph-div\" style=\"height:525px; width:100%;\"></div>            <script type=\"text/javascript\">                require([\"plotly\"], function(Plotly) {                    window.PLOTLYENV=window.PLOTLYENV || {};                                    if (document.getElementById(\"a609f823-aad3-4543-bb84-2f5b6b3de672\")) {                    Plotly.newPlot(                        \"a609f823-aad3-4543-bb84-2f5b6b3de672\",                        [{\"name\":\"Not Survived\",\"opacity\":0.5,\"x\":[\"Small\",\"Alone\",\"Alone\",\"Alone\",\"Large\",\"Alone\",\"Large\",\"Alone\",\"Large\",\"Small\",\"Alone\",\"Large\",\"Alone\",\"Large\",\"Alone\",\"Alone\",\"Alone\",\"Small\",\"Small\",\"Alone\",\"Small\",\"Small\",\"Small\",\"Alone\",\"Alone\",\"Small\",\"Small\",\"Small\",\"Large\",\"Alone\",\"Small\",\"Alone\",\"Large\",\"Alone\",\"Small\",\"Large\",\"Alone\",\"Alone\",\"Small\",\"Alone\",\"Large\",\"Alone\",\"Small\",\"Alone\",\"Alone\",\"Alone\",\"Alone\",\"Alone\",\"Large\",\"Alone\",\"Alone\",\"Alone\",\"Alone\",\"Small\",\"Small\",\"Alone\",\"Alone\",\"Alone\",\"Small\",\"Alone\",\"Alone\",\"Small\",\"Alone\",\"Small\",\"Alone\",\"Alone\",\"Alone\",\"Small\",\"Alone\",\"Small\",\"Alone\",\"Alone\",\"Alone\",\"Small\",\"Small\",\"Large\",\"Small\",\"Alone\",\"Small\",\"Small\",\"Alone\",\"Alone\",\"Alone\",\"Alone\",\"Small\",\"Alone\",\"Alone\",\"Small\",\"Alone\",\"Alone\",\"Small\",\"Alone\",\"Alone\",\"Small\",\"Large\",\"Small\",\"Alone\",\"Alone\",\"Alone\",\"Small\",\"Alone\",\"Small\",\"Alone\",\"Alone\",\"Large\",\"Small\",\"Alone\",\"Alone\",\"Large\",\"Large\",\"Alone\",\"Alone\",\"Alone\",\"Large\",\"Alone\",\"Alone\",\"Small\",\"Large\",\"Alone\",\"Alone\",\"Alone\",\"Large\",\"Alone\",\"Large\",\"Alone\",\"Small\",\"Alone\",\"Alone\",\"Alone\",\"Small\",\"Alone\",\"Alone\",\"Large\",\"Alone\",\"Alone\",\"Small\",\"Small\",\"Alone\",\"Alone\",\"Alone\",\"Small\",\"Small\",\"Alone\",\"Alone\",\"Alone\",\"Alone\",\"Alone\",\"Alone\",\"Alone\",\"Large\",\"Alone\",\"Alone\",\"Alone\",\"Alone\",\"Small\",\"Alone\",\"Alone\",\"Small\",\"Alone\",\"Alone\",\"Alone\",\"Small\",\"Alone\",\"Small\",\"Alone\",\"Small\",\"Alone\",\"Small\",\"Small\",\"Alone\",\"Small\",\"Alone\",\"Alone\",\"Alone\",\"Large\",\"Alone\",\"Small\",\"Alone\",\"Alone\",\"Large\",\"Alone\",\"Alone\",\"Alone\",\"Alone\",\"Alone\",\"Alone\",\"Alone\",\"Alone\",\"Alone\",\"Alone\",\"Alone\",\"Small\",\"Alone\",\"Alone\",\"Small\",\"Small\",\"Alone\",\"Small\",\"Alone\",\"Alone\",\"Alone\",\"Large\",\"Alone\",\"Alone\",\"Small\",\"Small\",\"Alone\",\"Small\",\"Alone\",\"Alone\",\"Alone\",\"Alone\",\"Alone\",\"Alone\",\"Alone\",\"Small\",\"Small\",\"Alone\",\"Alone\",\"Alone\",\"Large\",\"Small\",\"Small\",\"Alone\",\"Small\",\"Alone\",\"Small\",\"Alone\",\"Alone\",\"Large\",\"Small\",\"Alone\",\"Alone\",\"Alone\",\"Alone\",\"Alone\",\"Large\",\"Alone\",\"Small\",\"Alone\",\"Alone\",\"Alone\",\"Alone\",\"Alone\",\"Small\",\"Small\",\"Alone\",\"Small\",\"Alone\",\"Alone\",\"Large\",\"Alone\",\"Alone\",\"Alone\",\"Alone\",\"Alone\",\"Small\",\"Alone\",\"Alone\",\"Alone\",\"Small\",\"Small\",\"Alone\",\"Alone\",\"Alone\",\"Small\",\"Large\",\"Large\",\"Alone\",\"Alone\",\"Small\",\"Small\",\"Small\",\"Alone\",\"Alone\",\"Alone\",\"Alone\",\"Alone\",\"Alone\",\"Alone\",\"Alone\",\"Alone\",\"Alone\",\"Alone\",\"Alone\",\"Alone\",\"Alone\",\"Alone\",\"Alone\",\"Small\",\"Small\",\"Alone\",\"Large\",\"Alone\",\"Alone\",\"Large\",\"Alone\",\"Alone\",\"Small\",\"Alone\",\"Alone\",\"Alone\",\"Alone\",\"Alone\",\"Alone\",\"Small\",\"Alone\",\"Alone\",\"Alone\",\"Alone\",\"Alone\",\"Small\",\"Alone\",\"Alone\",\"Alone\",\"Alone\",\"Alone\",\"Alone\",\"Alone\",\"Alone\",\"Alone\",\"Alone\",\"Alone\",\"Alone\",\"Small\",\"Alone\",\"Small\",\"Alone\",\"Alone\",\"Alone\",\"Large\",\"Large\",\"Small\",\"Alone\",\"Small\",\"Alone\",\"Alone\",\"Alone\",\"Alone\",\"Alone\",\"Alone\",\"Alone\",\"Alone\",\"Alone\",\"Small\",\"Alone\",\"Large\",\"Alone\",\"Alone\",\"Alone\",\"Small\",\"Alone\",\"Alone\",\"Alone\",\"Alone\",\"Alone\",\"Alone\",\"Alone\",\"Alone\",\"Small\",\"Small\",\"Small\",\"Alone\",\"Alone\",\"Alone\",\"Alone\",\"Alone\",\"Small\",\"Alone\",\"Large\",\"Alone\",\"Alone\",\"Alone\",\"Small\",\"Small\",\"Alone\",\"Small\",\"Alone\",\"Alone\",\"Alone\",\"Alone\",\"Alone\",\"Alone\",\"Alone\",\"Alone\",\"Large\",\"Alone\",\"Small\",\"Large\",\"Small\",\"Alone\",\"Large\",\"Alone\",\"Alone\",\"Alone\",\"Alone\",\"Alone\",\"Small\",\"Alone\",\"Small\",\"Alone\",\"Small\",\"Alone\",\"Alone\",\"Alone\",\"Small\",\"Alone\",\"Alone\",\"Alone\",\"Small\",\"Alone\",\"Alone\",\"Alone\",\"Alone\",\"Large\",\"Alone\",\"Alone\",\"Large\",\"Small\",\"Small\",\"Large\",\"Alone\",\"Alone\",\"Alone\",\"Alone\",\"Alone\",\"Alone\",\"Small\",\"Alone\",\"Small\",\"Alone\",\"Small\",\"Alone\",\"Alone\",\"Alone\",\"Alone\",\"Alone\",\"Alone\",\"Alone\",\"Small\",\"Alone\",\"Alone\",\"Alone\",\"Small\",\"Small\",\"Alone\",\"Alone\",\"Alone\",\"Alone\",\"Alone\",\"Large\",\"Alone\",\"Alone\",\"Small\",\"Small\",\"Small\",\"Small\",\"Small\",\"Alone\",\"Alone\",\"Alone\",\"Alone\",\"Alone\",\"Alone\",\"Alone\",\"Alone\",\"Alone\",\"Alone\",\"Alone\",\"Small\",\"Alone\",\"Alone\",\"Alone\",\"Alone\",\"Alone\",\"Alone\",\"Alone\",\"Alone\",\"Alone\",\"Small\",\"Alone\",\"Alone\",\"Large\",\"Alone\",\"Alone\",\"Alone\",\"Large\",\"Alone\",\"Alone\",\"Alone\",\"Alone\",\"Small\",\"Alone\",\"Alone\",\"Alone\",\"Alone\",\"Alone\",\"Alone\",\"Alone\",\"Alone\",\"Large\",\"Alone\",\"Alone\",\"Alone\",\"Small\",\"Alone\",\"Large\",\"Alone\",\"Large\",\"Alone\",\"Alone\",\"Alone\",\"Alone\",\"Alone\",\"Alone\",\"Alone\",\"Alone\",\"Alone\",\"Alone\",\"Alone\",\"Alone\",\"Large\",\"Alone\",\"Small\",\"Large\",\"Alone\",\"Small\",\"Small\",\"Alone\",\"Small\",\"Small\",\"Large\",\"Alone\",\"Alone\",\"Alone\",\"Alone\",\"Alone\",\"Alone\",\"Alone\",\"Alone\",\"Alone\",\"Alone\",\"Alone\",\"Alone\",\"Alone\",\"Large\",\"Alone\",\"Small\",\"Alone\"],\"type\":\"histogram\"},{\"name\":\"Survived\",\"opacity\":0.5,\"x\":[\"Small\",\"Alone\",\"Small\",\"Small\",\"Small\",\"Small\",\"Alone\",\"Alone\",\"Alone\",\"Alone\",\"Alone\",\"Alone\",\"Alone\",\"Large\",\"Alone\",\"Small\",\"Alone\",\"Alone\",\"Small\",\"Small\",\"Alone\",\"Alone\",\"Small\",\"Small\",\"Alone\",\"Alone\",\"Small\",\"Alone\",\"Small\",\"Alone\",\"Large\",\"Alone\",\"Small\",\"Alone\",\"Alone\",\"Alone\",\"Alone\",\"Small\",\"Large\",\"Small\",\"Small\",\"Alone\",\"Alone\",\"Small\",\"Alone\",\"Small\",\"Alone\",\"Small\",\"Small\",\"Small\",\"Alone\",\"Small\",\"Alone\",\"Small\",\"Alone\",\"Alone\",\"Small\",\"Small\",\"Small\",\"Small\",\"Small\",\"Small\",\"Alone\",\"Alone\",\"Small\",\"Small\",\"Alone\",\"Alone\",\"Alone\",\"Alone\",\"Alone\",\"Alone\",\"Alone\",\"Alone\",\"Small\",\"Alone\",\"Alone\",\"Alone\",\"Small\",\"Alone\",\"Small\",\"Large\",\"Small\",\"Small\",\"Small\",\"Small\",\"Small\",\"Alone\",\"Alone\",\"Alone\",\"Small\",\"Large\",\"Small\",\"Small\",\"Alone\",\"Alone\",\"Small\",\"Alone\",\"Small\",\"Small\",\"Alone\",\"Alone\",\"Alone\",\"Alone\",\"Alone\",\"Small\",\"Alone\",\"Small\",\"Alone\",\"Small\",\"Alone\",\"Small\",\"Alone\",\"Small\",\"Alone\",\"Alone\",\"Large\",\"Alone\",\"Small\",\"Small\",\"Small\",\"Alone\",\"Small\",\"Alone\",\"Alone\",\"Small\",\"Small\",\"Small\",\"Small\",\"Alone\",\"Alone\",\"Small\",\"Large\",\"Alone\",\"Alone\",\"Small\",\"Small\",\"Small\",\"Alone\",\"Alone\",\"Small\",\"Alone\",\"Alone\",\"Alone\",\"Small\",\"Small\",\"Alone\",\"Alone\",\"Small\",\"Small\",\"Alone\",\"Alone\",\"Small\",\"Alone\",\"Small\",\"Small\",\"Alone\",\"Alone\",\"Small\",\"Small\",\"Alone\",\"Small\",\"Small\",\"Small\",\"Alone\",\"Alone\",\"Alone\",\"Small\",\"Small\",\"Small\",\"Large\",\"Small\",\"Alone\",\"Alone\",\"Small\",\"Small\",\"Alone\",\"Small\",\"Alone\",\"Small\",\"Alone\",\"Small\",\"Alone\",\"Alone\",\"Small\",\"Small\",\"Alone\",\"Small\",\"Alone\",\"Small\",\"Small\",\"Small\",\"Small\",\"Alone\",\"Small\",\"Alone\",\"Alone\",\"Alone\",\"Alone\",\"Small\",\"Alone\",\"Small\",\"Alone\",\"Small\",\"Alone\",\"Small\",\"Small\",\"Small\",\"Alone\",\"Small\",\"Small\",\"Small\",\"Small\",\"Alone\",\"Small\",\"Small\",\"Alone\",\"Alone\",\"Small\",\"Small\",\"Small\",\"Alone\",\"Alone\",\"Small\",\"Alone\",\"Alone\",\"Alone\",\"Small\",\"Alone\",\"Small\",\"Small\",\"Small\",\"Small\",\"Small\",\"Alone\",\"Small\",\"Small\",\"Alone\",\"Alone\",\"Small\",\"Alone\",\"Small\",\"Small\",\"Small\",\"Small\",\"Small\",\"Alone\",\"Alone\",\"Alone\",\"Alone\",\"Alone\",\"Alone\",\"Small\",\"Small\",\"Alone\",\"Alone\",\"Small\",\"Alone\",\"Small\",\"Small\",\"Small\",\"Small\",\"Alone\",\"Alone\",\"Small\",\"Alone\",\"Small\",\"Small\",\"Small\",\"Alone\",\"Alone\",\"Small\",\"Alone\",\"Alone\",\"Alone\",\"Alone\",\"Small\",\"Alone\",\"Small\",\"Alone\",\"Alone\",\"Small\",\"Small\",\"Small\",\"Alone\",\"Alone\",\"Alone\",\"Alone\",\"Large\",\"Alone\",\"Alone\",\"Small\",\"Small\",\"Small\",\"Small\",\"Alone\",\"Alone\",\"Small\",\"Small\",\"Large\",\"Alone\",\"Small\",\"Alone\",\"Small\",\"Alone\",\"Small\",\"Alone\",\"Alone\",\"Small\",\"Small\",\"Small\",\"Alone\",\"Small\",\"Small\",\"Alone\",\"Small\",\"Small\",\"Alone\",\"Alone\",\"Small\",\"Small\",\"Small\",\"Alone\",\"Alone\",\"Alone\",\"Small\",\"Small\",\"Small\",\"Small\",\"Alone\",\"Small\",\"Alone\",\"Alone\",\"Small\",\"Small\",\"Small\",\"Small\",\"Alone\",\"Small\",\"Small\",\"Alone\",\"Alone\"],\"type\":\"histogram\"}],                        {\"template\":{\"data\":{\"histogram2dcontour\":[{\"type\":\"histogram2dcontour\",\"colorbar\":{\"outlinewidth\":0,\"ticks\":\"\"},\"colorscale\":[[0.0,\"#0d0887\"],[0.1111111111111111,\"#46039f\"],[0.2222222222222222,\"#7201a8\"],[0.3333333333333333,\"#9c179e\"],[0.4444444444444444,\"#bd3786\"],[0.5555555555555556,\"#d8576b\"],[0.6666666666666666,\"#ed7953\"],[0.7777777777777778,\"#fb9f3a\"],[0.8888888888888888,\"#fdca26\"],[1.0,\"#f0f921\"]]}],\"choropleth\":[{\"type\":\"choropleth\",\"colorbar\":{\"outlinewidth\":0,\"ticks\":\"\"}}],\"histogram2d\":[{\"type\":\"histogram2d\",\"colorbar\":{\"outlinewidth\":0,\"ticks\":\"\"},\"colorscale\":[[0.0,\"#0d0887\"],[0.1111111111111111,\"#46039f\"],[0.2222222222222222,\"#7201a8\"],[0.3333333333333333,\"#9c179e\"],[0.4444444444444444,\"#bd3786\"],[0.5555555555555556,\"#d8576b\"],[0.6666666666666666,\"#ed7953\"],[0.7777777777777778,\"#fb9f3a\"],[0.8888888888888888,\"#fdca26\"],[1.0,\"#f0f921\"]]}],\"heatmap\":[{\"type\":\"heatmap\",\"colorbar\":{\"outlinewidth\":0,\"ticks\":\"\"},\"colorscale\":[[0.0,\"#0d0887\"],[0.1111111111111111,\"#46039f\"],[0.2222222222222222,\"#7201a8\"],[0.3333333333333333,\"#9c179e\"],[0.4444444444444444,\"#bd3786\"],[0.5555555555555556,\"#d8576b\"],[0.6666666666666666,\"#ed7953\"],[0.7777777777777778,\"#fb9f3a\"],[0.8888888888888888,\"#fdca26\"],[1.0,\"#f0f921\"]]}],\"heatmapgl\":[{\"type\":\"heatmapgl\",\"colorbar\":{\"outlinewidth\":0,\"ticks\":\"\"},\"colorscale\":[[0.0,\"#0d0887\"],[0.1111111111111111,\"#46039f\"],[0.2222222222222222,\"#7201a8\"],[0.3333333333333333,\"#9c179e\"],[0.4444444444444444,\"#bd3786\"],[0.5555555555555556,\"#d8576b\"],[0.6666666666666666,\"#ed7953\"],[0.7777777777777778,\"#fb9f3a\"],[0.8888888888888888,\"#fdca26\"],[1.0,\"#f0f921\"]]}],\"contourcarpet\":[{\"type\":\"contourcarpet\",\"colorbar\":{\"outlinewidth\":0,\"ticks\":\"\"}}],\"contour\":[{\"type\":\"contour\",\"colorbar\":{\"outlinewidth\":0,\"ticks\":\"\"},\"colorscale\":[[0.0,\"#0d0887\"],[0.1111111111111111,\"#46039f\"],[0.2222222222222222,\"#7201a8\"],[0.3333333333333333,\"#9c179e\"],[0.4444444444444444,\"#bd3786\"],[0.5555555555555556,\"#d8576b\"],[0.6666666666666666,\"#ed7953\"],[0.7777777777777778,\"#fb9f3a\"],[0.8888888888888888,\"#fdca26\"],[1.0,\"#f0f921\"]]}],\"surface\":[{\"type\":\"surface\",\"colorbar\":{\"outlinewidth\":0,\"ticks\":\"\"},\"colorscale\":[[0.0,\"#0d0887\"],[0.1111111111111111,\"#46039f\"],[0.2222222222222222,\"#7201a8\"],[0.3333333333333333,\"#9c179e\"],[0.4444444444444444,\"#bd3786\"],[0.5555555555555556,\"#d8576b\"],[0.6666666666666666,\"#ed7953\"],[0.7777777777777778,\"#fb9f3a\"],[0.8888888888888888,\"#fdca26\"],[1.0,\"#f0f921\"]]}],\"mesh3d\":[{\"type\":\"mesh3d\",\"colorbar\":{\"outlinewidth\":0,\"ticks\":\"\"}}],\"scatter\":[{\"fillpattern\":{\"fillmode\":\"overlay\",\"size\":10,\"solidity\":0.2},\"type\":\"scatter\"}],\"parcoords\":[{\"type\":\"parcoords\",\"line\":{\"colorbar\":{\"outlinewidth\":0,\"ticks\":\"\"}}}],\"scatterpolargl\":[{\"type\":\"scatterpolargl\",\"marker\":{\"colorbar\":{\"outlinewidth\":0,\"ticks\":\"\"}}}],\"bar\":[{\"error_x\":{\"color\":\"#2a3f5f\"},\"error_y\":{\"color\":\"#2a3f5f\"},\"marker\":{\"line\":{\"color\":\"#E5ECF6\",\"width\":0.5},\"pattern\":{\"fillmode\":\"overlay\",\"size\":10,\"solidity\":0.2}},\"type\":\"bar\"}],\"scattergeo\":[{\"type\":\"scattergeo\",\"marker\":{\"colorbar\":{\"outlinewidth\":0,\"ticks\":\"\"}}}],\"scatterpolar\":[{\"type\":\"scatterpolar\",\"marker\":{\"colorbar\":{\"outlinewidth\":0,\"ticks\":\"\"}}}],\"histogram\":[{\"marker\":{\"pattern\":{\"fillmode\":\"overlay\",\"size\":10,\"solidity\":0.2}},\"type\":\"histogram\"}],\"scattergl\":[{\"type\":\"scattergl\",\"marker\":{\"colorbar\":{\"outlinewidth\":0,\"ticks\":\"\"}}}],\"scatter3d\":[{\"type\":\"scatter3d\",\"line\":{\"colorbar\":{\"outlinewidth\":0,\"ticks\":\"\"}},\"marker\":{\"colorbar\":{\"outlinewidth\":0,\"ticks\":\"\"}}}],\"scattermapbox\":[{\"type\":\"scattermapbox\",\"marker\":{\"colorbar\":{\"outlinewidth\":0,\"ticks\":\"\"}}}],\"scatterternary\":[{\"type\":\"scatterternary\",\"marker\":{\"colorbar\":{\"outlinewidth\":0,\"ticks\":\"\"}}}],\"scattercarpet\":[{\"type\":\"scattercarpet\",\"marker\":{\"colorbar\":{\"outlinewidth\":0,\"ticks\":\"\"}}}],\"carpet\":[{\"aaxis\":{\"endlinecolor\":\"#2a3f5f\",\"gridcolor\":\"white\",\"linecolor\":\"white\",\"minorgridcolor\":\"white\",\"startlinecolor\":\"#2a3f5f\"},\"baxis\":{\"endlinecolor\":\"#2a3f5f\",\"gridcolor\":\"white\",\"linecolor\":\"white\",\"minorgridcolor\":\"white\",\"startlinecolor\":\"#2a3f5f\"},\"type\":\"carpet\"}],\"table\":[{\"cells\":{\"fill\":{\"color\":\"#EBF0F8\"},\"line\":{\"color\":\"white\"}},\"header\":{\"fill\":{\"color\":\"#C8D4E3\"},\"line\":{\"color\":\"white\"}},\"type\":\"table\"}],\"barpolar\":[{\"marker\":{\"line\":{\"color\":\"#E5ECF6\",\"width\":0.5},\"pattern\":{\"fillmode\":\"overlay\",\"size\":10,\"solidity\":0.2}},\"type\":\"barpolar\"}],\"pie\":[{\"automargin\":true,\"type\":\"pie\"}]},\"layout\":{\"autotypenumbers\":\"strict\",\"colorway\":[\"#636efa\",\"#EF553B\",\"#00cc96\",\"#ab63fa\",\"#FFA15A\",\"#19d3f3\",\"#FF6692\",\"#B6E880\",\"#FF97FF\",\"#FECB52\"],\"font\":{\"color\":\"#2a3f5f\"},\"hovermode\":\"closest\",\"hoverlabel\":{\"align\":\"left\"},\"paper_bgcolor\":\"white\",\"plot_bgcolor\":\"#E5ECF6\",\"polar\":{\"bgcolor\":\"#E5ECF6\",\"angularaxis\":{\"gridcolor\":\"white\",\"linecolor\":\"white\",\"ticks\":\"\"},\"radialaxis\":{\"gridcolor\":\"white\",\"linecolor\":\"white\",\"ticks\":\"\"}},\"ternary\":{\"bgcolor\":\"#E5ECF6\",\"aaxis\":{\"gridcolor\":\"white\",\"linecolor\":\"white\",\"ticks\":\"\"},\"baxis\":{\"gridcolor\":\"white\",\"linecolor\":\"white\",\"ticks\":\"\"},\"caxis\":{\"gridcolor\":\"white\",\"linecolor\":\"white\",\"ticks\":\"\"}},\"coloraxis\":{\"colorbar\":{\"outlinewidth\":0,\"ticks\":\"\"}},\"colorscale\":{\"sequential\":[[0.0,\"#0d0887\"],[0.1111111111111111,\"#46039f\"],[0.2222222222222222,\"#7201a8\"],[0.3333333333333333,\"#9c179e\"],[0.4444444444444444,\"#bd3786\"],[0.5555555555555556,\"#d8576b\"],[0.6666666666666666,\"#ed7953\"],[0.7777777777777778,\"#fb9f3a\"],[0.8888888888888888,\"#fdca26\"],[1.0,\"#f0f921\"]],\"sequentialminus\":[[0.0,\"#0d0887\"],[0.1111111111111111,\"#46039f\"],[0.2222222222222222,\"#7201a8\"],[0.3333333333333333,\"#9c179e\"],[0.4444444444444444,\"#bd3786\"],[0.5555555555555556,\"#d8576b\"],[0.6666666666666666,\"#ed7953\"],[0.7777777777777778,\"#fb9f3a\"],[0.8888888888888888,\"#fdca26\"],[1.0,\"#f0f921\"]],\"diverging\":[[0,\"#8e0152\"],[0.1,\"#c51b7d\"],[0.2,\"#de77ae\"],[0.3,\"#f1b6da\"],[0.4,\"#fde0ef\"],[0.5,\"#f7f7f7\"],[0.6,\"#e6f5d0\"],[0.7,\"#b8e186\"],[0.8,\"#7fbc41\"],[0.9,\"#4d9221\"],[1,\"#276419\"]]},\"xaxis\":{\"gridcolor\":\"white\",\"linecolor\":\"white\",\"ticks\":\"\",\"title\":{\"standoff\":15},\"zerolinecolor\":\"white\",\"automargin\":true,\"zerolinewidth\":2},\"yaxis\":{\"gridcolor\":\"white\",\"linecolor\":\"white\",\"ticks\":\"\",\"title\":{\"standoff\":15},\"zerolinecolor\":\"white\",\"automargin\":true,\"zerolinewidth\":2},\"scene\":{\"xaxis\":{\"backgroundcolor\":\"#E5ECF6\",\"gridcolor\":\"white\",\"linecolor\":\"white\",\"showbackground\":true,\"ticks\":\"\",\"zerolinecolor\":\"white\",\"gridwidth\":2},\"yaxis\":{\"backgroundcolor\":\"#E5ECF6\",\"gridcolor\":\"white\",\"linecolor\":\"white\",\"showbackground\":true,\"ticks\":\"\",\"zerolinecolor\":\"white\",\"gridwidth\":2},\"zaxis\":{\"backgroundcolor\":\"#E5ECF6\",\"gridcolor\":\"white\",\"linecolor\":\"white\",\"showbackground\":true,\"ticks\":\"\",\"zerolinecolor\":\"white\",\"gridwidth\":2}},\"shapedefaults\":{\"line\":{\"color\":\"#2a3f5f\"}},\"annotationdefaults\":{\"arrowcolor\":\"#2a3f5f\",\"arrowhead\":0,\"arrowwidth\":1},\"geo\":{\"bgcolor\":\"white\",\"landcolor\":\"#E5ECF6\",\"subunitcolor\":\"white\",\"showland\":true,\"showlakes\":true,\"lakecolor\":\"white\"},\"title\":{\"x\":0.05},\"mapbox\":{\"style\":\"light\"}}},\"title\":{\"text\":\"Family Size Distribution by Survival\"},\"xaxis\":{\"title\":{\"text\":\"Family Size\"}},\"yaxis\":{\"title\":{\"text\":\"Density\"}},\"barmode\":\"overlay\",\"bargap\":0.1},                        {\"responsive\": true}                    ).then(function(){\n",
       "                            \n",
       "var gd = document.getElementById('a609f823-aad3-4543-bb84-2f5b6b3de672');\n",
       "var x = new MutationObserver(function (mutations, observer) {{\n",
       "        var display = window.getComputedStyle(gd).display;\n",
       "        if (!display || display === 'none') {{\n",
       "            console.log([gd, 'removed!']);\n",
       "            Plotly.purge(gd);\n",
       "            observer.disconnect();\n",
       "        }}\n",
       "}});\n",
       "\n",
       "// Listen for the removal of the full notebook cells\n",
       "var notebookContainer = gd.closest('#notebook-container');\n",
       "if (notebookContainer) {{\n",
       "    x.observe(notebookContainer, {childList: true});\n",
       "}}\n",
       "\n",
       "// Listen for the clearing of the current output cell\n",
       "var outputEl = gd.closest('.output');\n",
       "if (outputEl) {{\n",
       "    x.observe(outputEl, {childList: true});\n",
       "}}\n",
       "\n",
       "                        })                };                });            </script>        </div>"
      ]
     },
     "metadata": {},
     "output_type": "display_data"
    }
   ],
   "source": [
    "fig = go.Figure()\n",
    "\n",
    "fig.add_trace(go.Histogram(x=df[df['Survived'] == 0]['Family_size'], name='Not Survived', opacity=0.5))\n",
    "fig.add_trace(go.Histogram(x=df[df['Survived'] == 1]['Family_size'], name='Survived', opacity=0.5))\n",
    "\n",
    "fig.update_layout(\n",
    "    title='Family Size Distribution by Survival',\n",
    "    xaxis_title='Family Size',\n",
    "    yaxis_title='Density',\n",
    "    barmode='overlay',  \n",
    "    bargap=0.1,  \n",
    ")\n",
    "\n",
    "fig.show()"
   ]
  },
  {
   "cell_type": "code",
   "execution_count": 36,
   "id": "cb141a7b",
   "metadata": {
    "execution": {
     "iopub.execute_input": "2024-07-26T18:00:26.850795Z",
     "iopub.status.busy": "2024-07-26T18:00:26.850345Z",
     "iopub.status.idle": "2024-07-26T18:00:27.216787Z",
     "shell.execute_reply": "2024-07-26T18:00:27.215685Z"
    },
    "papermill": {
     "duration": 0.390548,
     "end_time": "2024-07-26T18:00:27.219171",
     "exception": false,
     "start_time": "2024-07-26T18:00:26.828623",
     "status": "completed"
    },
    "tags": []
   },
   "outputs": [
    {
     "data": {
      "text/html": [
       "<div>                            <div id=\"32becd58-1cb0-4d1a-a664-b15840afd87a\" class=\"plotly-graph-div\" style=\"height:400px; width:100%;\"></div>            <script type=\"text/javascript\">                require([\"plotly\"], function(Plotly) {                    window.PLOTLYENV=window.PLOTLYENV || {};                                    if (document.getElementById(\"32becd58-1cb0-4d1a-a664-b15840afd87a\")) {                    Plotly.newPlot(                        \"32becd58-1cb0-4d1a-a664-b15840afd87a\",                        [{\"marker\":{\"color\":\"green\"},\"name\":\"Survived\",\"x\":[\"C\",\"Q\",\"S\"],\"y\":[93,30,219],\"type\":\"bar\",\"xaxis\":\"x\",\"yaxis\":\"y\"},{\"marker\":{\"color\":\"red\"},\"name\":\"Not Survived\",\"x\":[\"C\",\"Q\",\"S\"],\"y\":[75,47,427],\"type\":\"bar\",\"xaxis\":\"x\",\"yaxis\":\"y\"},{\"marker\":{\"color\":\"green\"},\"name\":\"Survived\",\"x\":[1,2,3],\"y\":[136,87,119],\"type\":\"bar\",\"xaxis\":\"x2\",\"yaxis\":\"y2\"},{\"marker\":{\"color\":\"red\"},\"name\":\"Not Survived\",\"x\":[1,2,3],\"y\":[80,97,372],\"type\":\"bar\",\"xaxis\":\"x2\",\"yaxis\":\"y2\"},{\"marker\":{\"color\":\"green\"},\"name\":\"Survived\",\"x\":[\"female\",\"male\"],\"y\":[233,109],\"type\":\"bar\",\"xaxis\":\"x3\",\"yaxis\":\"y3\"},{\"marker\":{\"color\":\"red\"},\"name\":\"Not Survived\",\"x\":[\"female\",\"male\"],\"y\":[81,468],\"type\":\"bar\",\"xaxis\":\"x3\",\"yaxis\":\"y3\"},{\"marker\":{\"color\":\"green\"},\"name\":\"Survived\",\"x\":[\"Master\",\"Miss\",\"Mr\",\"Mrs\",\"Rare\"],\"y\":[23,130,81,100,8],\"type\":\"bar\",\"xaxis\":\"x4\",\"yaxis\":\"y4\"},{\"marker\":{\"color\":\"red\"},\"name\":\"Not Survived\",\"x\":[\"Master\",\"Miss\",\"Mr\",\"Mrs\",\"Rare\"],\"y\":[17,55,436,26,15],\"type\":\"bar\",\"xaxis\":\"x4\",\"yaxis\":\"y4\"}],                        {\"template\":{\"data\":{\"histogram2dcontour\":[{\"type\":\"histogram2dcontour\",\"colorbar\":{\"outlinewidth\":0,\"ticks\":\"\"},\"colorscale\":[[0.0,\"#0d0887\"],[0.1111111111111111,\"#46039f\"],[0.2222222222222222,\"#7201a8\"],[0.3333333333333333,\"#9c179e\"],[0.4444444444444444,\"#bd3786\"],[0.5555555555555556,\"#d8576b\"],[0.6666666666666666,\"#ed7953\"],[0.7777777777777778,\"#fb9f3a\"],[0.8888888888888888,\"#fdca26\"],[1.0,\"#f0f921\"]]}],\"choropleth\":[{\"type\":\"choropleth\",\"colorbar\":{\"outlinewidth\":0,\"ticks\":\"\"}}],\"histogram2d\":[{\"type\":\"histogram2d\",\"colorbar\":{\"outlinewidth\":0,\"ticks\":\"\"},\"colorscale\":[[0.0,\"#0d0887\"],[0.1111111111111111,\"#46039f\"],[0.2222222222222222,\"#7201a8\"],[0.3333333333333333,\"#9c179e\"],[0.4444444444444444,\"#bd3786\"],[0.5555555555555556,\"#d8576b\"],[0.6666666666666666,\"#ed7953\"],[0.7777777777777778,\"#fb9f3a\"],[0.8888888888888888,\"#fdca26\"],[1.0,\"#f0f921\"]]}],\"heatmap\":[{\"type\":\"heatmap\",\"colorbar\":{\"outlinewidth\":0,\"ticks\":\"\"},\"colorscale\":[[0.0,\"#0d0887\"],[0.1111111111111111,\"#46039f\"],[0.2222222222222222,\"#7201a8\"],[0.3333333333333333,\"#9c179e\"],[0.4444444444444444,\"#bd3786\"],[0.5555555555555556,\"#d8576b\"],[0.6666666666666666,\"#ed7953\"],[0.7777777777777778,\"#fb9f3a\"],[0.8888888888888888,\"#fdca26\"],[1.0,\"#f0f921\"]]}],\"heatmapgl\":[{\"type\":\"heatmapgl\",\"colorbar\":{\"outlinewidth\":0,\"ticks\":\"\"},\"colorscale\":[[0.0,\"#0d0887\"],[0.1111111111111111,\"#46039f\"],[0.2222222222222222,\"#7201a8\"],[0.3333333333333333,\"#9c179e\"],[0.4444444444444444,\"#bd3786\"],[0.5555555555555556,\"#d8576b\"],[0.6666666666666666,\"#ed7953\"],[0.7777777777777778,\"#fb9f3a\"],[0.8888888888888888,\"#fdca26\"],[1.0,\"#f0f921\"]]}],\"contourcarpet\":[{\"type\":\"contourcarpet\",\"colorbar\":{\"outlinewidth\":0,\"ticks\":\"\"}}],\"contour\":[{\"type\":\"contour\",\"colorbar\":{\"outlinewidth\":0,\"ticks\":\"\"},\"colorscale\":[[0.0,\"#0d0887\"],[0.1111111111111111,\"#46039f\"],[0.2222222222222222,\"#7201a8\"],[0.3333333333333333,\"#9c179e\"],[0.4444444444444444,\"#bd3786\"],[0.5555555555555556,\"#d8576b\"],[0.6666666666666666,\"#ed7953\"],[0.7777777777777778,\"#fb9f3a\"],[0.8888888888888888,\"#fdca26\"],[1.0,\"#f0f921\"]]}],\"surface\":[{\"type\":\"surface\",\"colorbar\":{\"outlinewidth\":0,\"ticks\":\"\"},\"colorscale\":[[0.0,\"#0d0887\"],[0.1111111111111111,\"#46039f\"],[0.2222222222222222,\"#7201a8\"],[0.3333333333333333,\"#9c179e\"],[0.4444444444444444,\"#bd3786\"],[0.5555555555555556,\"#d8576b\"],[0.6666666666666666,\"#ed7953\"],[0.7777777777777778,\"#fb9f3a\"],[0.8888888888888888,\"#fdca26\"],[1.0,\"#f0f921\"]]}],\"mesh3d\":[{\"type\":\"mesh3d\",\"colorbar\":{\"outlinewidth\":0,\"ticks\":\"\"}}],\"scatter\":[{\"fillpattern\":{\"fillmode\":\"overlay\",\"size\":10,\"solidity\":0.2},\"type\":\"scatter\"}],\"parcoords\":[{\"type\":\"parcoords\",\"line\":{\"colorbar\":{\"outlinewidth\":0,\"ticks\":\"\"}}}],\"scatterpolargl\":[{\"type\":\"scatterpolargl\",\"marker\":{\"colorbar\":{\"outlinewidth\":0,\"ticks\":\"\"}}}],\"bar\":[{\"error_x\":{\"color\":\"#2a3f5f\"},\"error_y\":{\"color\":\"#2a3f5f\"},\"marker\":{\"line\":{\"color\":\"#E5ECF6\",\"width\":0.5},\"pattern\":{\"fillmode\":\"overlay\",\"size\":10,\"solidity\":0.2}},\"type\":\"bar\"}],\"scattergeo\":[{\"type\":\"scattergeo\",\"marker\":{\"colorbar\":{\"outlinewidth\":0,\"ticks\":\"\"}}}],\"scatterpolar\":[{\"type\":\"scatterpolar\",\"marker\":{\"colorbar\":{\"outlinewidth\":0,\"ticks\":\"\"}}}],\"histogram\":[{\"marker\":{\"pattern\":{\"fillmode\":\"overlay\",\"size\":10,\"solidity\":0.2}},\"type\":\"histogram\"}],\"scattergl\":[{\"type\":\"scattergl\",\"marker\":{\"colorbar\":{\"outlinewidth\":0,\"ticks\":\"\"}}}],\"scatter3d\":[{\"type\":\"scatter3d\",\"line\":{\"colorbar\":{\"outlinewidth\":0,\"ticks\":\"\"}},\"marker\":{\"colorbar\":{\"outlinewidth\":0,\"ticks\":\"\"}}}],\"scattermapbox\":[{\"type\":\"scattermapbox\",\"marker\":{\"colorbar\":{\"outlinewidth\":0,\"ticks\":\"\"}}}],\"scatterternary\":[{\"type\":\"scatterternary\",\"marker\":{\"colorbar\":{\"outlinewidth\":0,\"ticks\":\"\"}}}],\"scattercarpet\":[{\"type\":\"scattercarpet\",\"marker\":{\"colorbar\":{\"outlinewidth\":0,\"ticks\":\"\"}}}],\"carpet\":[{\"aaxis\":{\"endlinecolor\":\"#2a3f5f\",\"gridcolor\":\"white\",\"linecolor\":\"white\",\"minorgridcolor\":\"white\",\"startlinecolor\":\"#2a3f5f\"},\"baxis\":{\"endlinecolor\":\"#2a3f5f\",\"gridcolor\":\"white\",\"linecolor\":\"white\",\"minorgridcolor\":\"white\",\"startlinecolor\":\"#2a3f5f\"},\"type\":\"carpet\"}],\"table\":[{\"cells\":{\"fill\":{\"color\":\"#EBF0F8\"},\"line\":{\"color\":\"white\"}},\"header\":{\"fill\":{\"color\":\"#C8D4E3\"},\"line\":{\"color\":\"white\"}},\"type\":\"table\"}],\"barpolar\":[{\"marker\":{\"line\":{\"color\":\"#E5ECF6\",\"width\":0.5},\"pattern\":{\"fillmode\":\"overlay\",\"size\":10,\"solidity\":0.2}},\"type\":\"barpolar\"}],\"pie\":[{\"automargin\":true,\"type\":\"pie\"}]},\"layout\":{\"autotypenumbers\":\"strict\",\"colorway\":[\"#636efa\",\"#EF553B\",\"#00cc96\",\"#ab63fa\",\"#FFA15A\",\"#19d3f3\",\"#FF6692\",\"#B6E880\",\"#FF97FF\",\"#FECB52\"],\"font\":{\"color\":\"#2a3f5f\"},\"hovermode\":\"closest\",\"hoverlabel\":{\"align\":\"left\"},\"paper_bgcolor\":\"white\",\"plot_bgcolor\":\"#E5ECF6\",\"polar\":{\"bgcolor\":\"#E5ECF6\",\"angularaxis\":{\"gridcolor\":\"white\",\"linecolor\":\"white\",\"ticks\":\"\"},\"radialaxis\":{\"gridcolor\":\"white\",\"linecolor\":\"white\",\"ticks\":\"\"}},\"ternary\":{\"bgcolor\":\"#E5ECF6\",\"aaxis\":{\"gridcolor\":\"white\",\"linecolor\":\"white\",\"ticks\":\"\"},\"baxis\":{\"gridcolor\":\"white\",\"linecolor\":\"white\",\"ticks\":\"\"},\"caxis\":{\"gridcolor\":\"white\",\"linecolor\":\"white\",\"ticks\":\"\"}},\"coloraxis\":{\"colorbar\":{\"outlinewidth\":0,\"ticks\":\"\"}},\"colorscale\":{\"sequential\":[[0.0,\"#0d0887\"],[0.1111111111111111,\"#46039f\"],[0.2222222222222222,\"#7201a8\"],[0.3333333333333333,\"#9c179e\"],[0.4444444444444444,\"#bd3786\"],[0.5555555555555556,\"#d8576b\"],[0.6666666666666666,\"#ed7953\"],[0.7777777777777778,\"#fb9f3a\"],[0.8888888888888888,\"#fdca26\"],[1.0,\"#f0f921\"]],\"sequentialminus\":[[0.0,\"#0d0887\"],[0.1111111111111111,\"#46039f\"],[0.2222222222222222,\"#7201a8\"],[0.3333333333333333,\"#9c179e\"],[0.4444444444444444,\"#bd3786\"],[0.5555555555555556,\"#d8576b\"],[0.6666666666666666,\"#ed7953\"],[0.7777777777777778,\"#fb9f3a\"],[0.8888888888888888,\"#fdca26\"],[1.0,\"#f0f921\"]],\"diverging\":[[0,\"#8e0152\"],[0.1,\"#c51b7d\"],[0.2,\"#de77ae\"],[0.3,\"#f1b6da\"],[0.4,\"#fde0ef\"],[0.5,\"#f7f7f7\"],[0.6,\"#e6f5d0\"],[0.7,\"#b8e186\"],[0.8,\"#7fbc41\"],[0.9,\"#4d9221\"],[1,\"#276419\"]]},\"xaxis\":{\"gridcolor\":\"white\",\"linecolor\":\"white\",\"ticks\":\"\",\"title\":{\"standoff\":15},\"zerolinecolor\":\"white\",\"automargin\":true,\"zerolinewidth\":2},\"yaxis\":{\"gridcolor\":\"white\",\"linecolor\":\"white\",\"ticks\":\"\",\"title\":{\"standoff\":15},\"zerolinecolor\":\"white\",\"automargin\":true,\"zerolinewidth\":2},\"scene\":{\"xaxis\":{\"backgroundcolor\":\"#E5ECF6\",\"gridcolor\":\"white\",\"linecolor\":\"white\",\"showbackground\":true,\"ticks\":\"\",\"zerolinecolor\":\"white\",\"gridwidth\":2},\"yaxis\":{\"backgroundcolor\":\"#E5ECF6\",\"gridcolor\":\"white\",\"linecolor\":\"white\",\"showbackground\":true,\"ticks\":\"\",\"zerolinecolor\":\"white\",\"gridwidth\":2},\"zaxis\":{\"backgroundcolor\":\"#E5ECF6\",\"gridcolor\":\"white\",\"linecolor\":\"white\",\"showbackground\":true,\"ticks\":\"\",\"zerolinecolor\":\"white\",\"gridwidth\":2}},\"shapedefaults\":{\"line\":{\"color\":\"#2a3f5f\"}},\"annotationdefaults\":{\"arrowcolor\":\"#2a3f5f\",\"arrowhead\":0,\"arrowwidth\":1},\"geo\":{\"bgcolor\":\"white\",\"landcolor\":\"#E5ECF6\",\"subunitcolor\":\"white\",\"showland\":true,\"showlakes\":true,\"lakecolor\":\"white\"},\"title\":{\"x\":0.05},\"mapbox\":{\"style\":\"light\"}}},\"xaxis\":{\"anchor\":\"y\",\"domain\":[0.0,0.2125],\"title\":{\"text\":\"Embarked\"}},\"yaxis\":{\"anchor\":\"x\",\"domain\":[0.0,1.0],\"title\":{\"text\":\"Count\"}},\"xaxis2\":{\"anchor\":\"y2\",\"domain\":[0.2625,0.475],\"title\":{\"text\":\"Pclass\"}},\"yaxis2\":{\"anchor\":\"x2\",\"domain\":[0.0,1.0],\"title\":{\"text\":\"Count\"}},\"xaxis3\":{\"anchor\":\"y3\",\"domain\":[0.525,0.7375],\"title\":{\"text\":\"Sex\"}},\"yaxis3\":{\"anchor\":\"x3\",\"domain\":[0.0,1.0],\"title\":{\"text\":\"Count\"}},\"xaxis4\":{\"anchor\":\"y4\",\"domain\":[0.7875,1.0],\"title\":{\"text\":\"Title\"}},\"yaxis4\":{\"anchor\":\"x4\",\"domain\":[0.0,1.0],\"title\":{\"text\":\"Count\"}},\"annotations\":[{\"font\":{\"size\":16},\"showarrow\":false,\"text\":\"Embarked\",\"x\":0.10625,\"xanchor\":\"center\",\"xref\":\"paper\",\"y\":1.0,\"yanchor\":\"bottom\",\"yref\":\"paper\"},{\"font\":{\"size\":16},\"showarrow\":false,\"text\":\"Pclass\",\"x\":0.36875,\"xanchor\":\"center\",\"xref\":\"paper\",\"y\":1.0,\"yanchor\":\"bottom\",\"yref\":\"paper\"},{\"font\":{\"size\":16},\"showarrow\":false,\"text\":\"Sex\",\"x\":0.6312500000000001,\"xanchor\":\"center\",\"xref\":\"paper\",\"y\":1.0,\"yanchor\":\"bottom\",\"yref\":\"paper\"},{\"font\":{\"size\":16},\"showarrow\":false,\"text\":\"Title\",\"x\":0.89375,\"xanchor\":\"center\",\"xref\":\"paper\",\"y\":1.0,\"yanchor\":\"bottom\",\"yref\":\"paper\"}],\"title\":{\"text\":\"Countplot of Categorical Variables by Survival\"},\"height\":400,\"showlegend\":true,\"barmode\":\"group\"},                        {\"responsive\": true}                    ).then(function(){\n",
       "                            \n",
       "var gd = document.getElementById('32becd58-1cb0-4d1a-a664-b15840afd87a');\n",
       "var x = new MutationObserver(function (mutations, observer) {{\n",
       "        var display = window.getComputedStyle(gd).display;\n",
       "        if (!display || display === 'none') {{\n",
       "            console.log([gd, 'removed!']);\n",
       "            Plotly.purge(gd);\n",
       "            observer.disconnect();\n",
       "        }}\n",
       "}});\n",
       "\n",
       "// Listen for the removal of the full notebook cells\n",
       "var notebookContainer = gd.closest('#notebook-container');\n",
       "if (notebookContainer) {{\n",
       "    x.observe(notebookContainer, {childList: true});\n",
       "}}\n",
       "\n",
       "// Listen for the clearing of the current output cell\n",
       "var outputEl = gd.closest('.output');\n",
       "if (outputEl) {{\n",
       "    x.observe(outputEl, {childList: true});\n",
       "}}\n",
       "\n",
       "                        })                };                });            </script>        </div>"
      ]
     },
     "metadata": {},
     "output_type": "display_data"
    }
   ],
   "source": [
    "from plotly.subplots import make_subplots\n",
    "col = ['Embarked', 'Pclass', 'Sex', 'Title']\n",
    "\n",
    "fig = make_subplots(rows=1, cols=len(col), subplot_titles=col)\n",
    "\n",
    "for i, c in enumerate(col, start=1):\n",
    "    grouped_data = df.groupby([c, 'Survived']).size().reset_index(name='Count')\n",
    "    \n",
    "    survived_data = grouped_data[grouped_data['Survived'] == 1]\n",
    "    not_survived_data = grouped_data[grouped_data['Survived'] == 0]\n",
    "    \n",
    "    fig.add_trace(go.Bar(x=survived_data[c], y=survived_data['Count'], name='Survived', marker_color='green'), row=1, col=i)\n",
    "    fig.add_trace(go.Bar(x=not_survived_data[c], y=not_survived_data['Count'], name='Not Survived', marker_color='red'), row=1, col=i)\n",
    "    \n",
    "    fig.update_xaxes(title_text=c, row=1, col=i)\n",
    "    fig.update_yaxes(title_text='Count', row=1, col=i)\n",
    "\n",
    "# Update figure layout\n",
    "fig.update_layout(\n",
    "    title='Countplot of Categorical Variables by Survival',\n",
    "    height=400,  \n",
    "    showlegend=True,\n",
    "    barmode='group',  \n",
    ")\n",
    "\n",
    "# Show figure\n",
    "fig.show()"
   ]
  },
  {
   "cell_type": "code",
   "execution_count": 37,
   "id": "d4414dca",
   "metadata": {
    "execution": {
     "iopub.execute_input": "2024-07-26T18:00:27.260889Z",
     "iopub.status.busy": "2024-07-26T18:00:27.260510Z",
     "iopub.status.idle": "2024-07-26T18:00:34.482635Z",
     "shell.execute_reply": "2024-07-26T18:00:34.481533Z"
    },
    "papermill": {
     "duration": 7.248884,
     "end_time": "2024-07-26T18:00:34.488276",
     "exception": false,
     "start_time": "2024-07-26T18:00:27.239392",
     "status": "completed"
    },
    "tags": []
   },
   "outputs": [
    {
     "data": {
      "text/plain": [
       "<seaborn.axisgrid.PairGrid at 0x7e9e1a1a7f40>"
      ]
     },
     "execution_count": 37,
     "metadata": {},
     "output_type": "execute_result"
    },
    {
     "data": {
      "image/png": "[encoded data removed]",
      "text/plain": [
       "<Figure size 1072.11x1000 with 20 Axes>"
      ]
     },
     "metadata": {},
     "output_type": "display_data"
    }
   ],
   "source": [
    "sns.pairplot(df,hue='Survived')"
   ]
  },
  {
   "cell_type": "code",
   "execution_count": 38,
   "id": "c4993cc9",
   "metadata": {
    "execution": {
     "iopub.execute_input": "2024-07-26T18:00:34.542054Z",
     "iopub.status.busy": "2024-07-26T18:00:34.541339Z",
     "iopub.status.idle": "2024-07-26T18:00:34.997945Z",
     "shell.execute_reply": "2024-07-26T18:00:34.996587Z"
    },
    "papermill": {
     "duration": 0.486912,
     "end_time": "2024-07-26T18:00:35.001121",
     "exception": false,
     "start_time": "2024-07-26T18:00:34.514209",
     "status": "completed"
    },
    "tags": []
   },
   "outputs": [
    {
     "data": {
      "image/png": "[encoded data removed]",
      "text/plain": [
       "<Figure size 1400x1200 with 2 Axes>"
      ]
     },
     "metadata": {},
     "output_type": "display_data"
    }
   ],
   "source": [
    "def correlation_heatmap(df):\n",
    "    _ , ax = plt.subplots(figsize =(14, 12))\n",
    "    colormap = sns.diverging_palette(220, 10, as_cmap = True)\n",
    "    \n",
    "    _ = sns.heatmap(\n",
    "        df.corr(numeric_only=True), \n",
    "        cmap = colormap,\n",
    "        square=True, \n",
    "        cbar_kws={'shrink':.9 }, \n",
    "        ax=ax,\n",
    "        annot=True, \n",
    "        linewidths=0.1,vmax=1.0, linecolor='white',\n",
    "        annot_kws={'fontsize':12 }\n",
    "    )\n",
    "    \n",
    "    plt.title('Pearson Correlation of Features', y=1.05, size=15)\n",
    "\n",
    "correlation_heatmap(df)\n"
   ]
  },
  {
   "cell_type": "markdown",
   "id": "ba2e122d",
   "metadata": {
    "papermill": {
     "duration": 0.041742,
     "end_time": "2024-07-26T18:00:35.077474",
     "exception": false,
     "start_time": "2024-07-26T18:00:35.035732",
     "status": "completed"
    },
    "tags": []
   },
   "source": [
    "# Feature Engineering¶"
   ]
  },
  {
   "cell_type": "code",
   "execution_count": 39,
   "id": "3e0d9f13",
   "metadata": {
    "execution": {
     "iopub.execute_input": "2024-07-26T18:00:35.153506Z",
     "iopub.status.busy": "2024-07-26T18:00:35.153113Z",
     "iopub.status.idle": "2024-07-26T18:00:36.137723Z",
     "shell.execute_reply": "2024-07-26T18:00:36.136550Z"
    },
    "papermill": {
     "duration": 1.020381,
     "end_time": "2024-07-26T18:00:36.140477",
     "exception": false,
     "start_time": "2024-07-26T18:00:35.120096",
     "status": "completed"
    },
    "tags": []
   },
   "outputs": [],
   "source": [
    "from sklearn.model_selection import train_test_split,GridSearchCV\n",
    "from sklearn.compose import ColumnTransformer\n",
    "from sklearn.preprocessing import OneHotEncoder\n",
    "from sklearn.preprocessing import OrdinalEncoder\n",
    "from sklearn.preprocessing import MinMaxScaler,StandardScaler\n",
    "from sklearn.pipeline import Pipeline,make_pipeline\n",
    "from sklearn.feature_selection import SelectKBest,chi2\n",
    "from sklearn.preprocessing import MinMaxScaler\n",
    "from sklearn.preprocessing import Binarizer\n",
    "from sklearn.preprocessing import KBinsDiscretizer\n",
    "from sklearn.preprocessing import MultiLabelBinarizer\n",
    "from sklearn.metrics import accuracy_score\n",
    "from sklearn import ensemble\n",
    "from sklearn import gaussian_process\n",
    "from sklearn import linear_model\n",
    "from sklearn import naive_bayes\n",
    "from sklearn import neighbors\n",
    "from sklearn import svm\n",
    "from sklearn import tree\n",
    "from sklearn import discriminant_analysis\n",
    "from xgboost import XGBClassifier\n",
    "from sklearn.model_selection import cross_val_score\n"
   ]
  },
  {
   "cell_type": "code",
   "execution_count": 40,
   "id": "15234723",
   "metadata": {
    "execution": {
     "iopub.execute_input": "2024-07-26T18:00:36.202058Z",
     "iopub.status.busy": "2024-07-26T18:00:36.201541Z",
     "iopub.status.idle": "2024-07-26T18:00:36.222877Z",
     "shell.execute_reply": "2024-07-26T18:00:36.221419Z"
    },
    "papermill": {
     "duration": 0.055822,
     "end_time": "2024-07-26T18:00:36.225318",
     "exception": false,
     "start_time": "2024-07-26T18:00:36.169496",
     "status": "completed"
    },
    "tags": []
   },
   "outputs": [
    {
     "data": {
      "text/html": [
       "<div>\n",
       "<style scoped>\n",
       "    .dataframe tbody tr th:only-of-type {\n",
       "        vertical-align: middle;\n",
       "    }\n",
       "\n",
       "    .dataframe tbody tr th {\n",
       "        vertical-align: top;\n",
       "    }\n",
       "\n",
       "    .dataframe thead th {\n",
       "        text-align: right;\n",
       "    }\n",
       "</style>\n",
       "<table border=\"1\" class=\"dataframe\">\n",
       "  <thead>\n",
       "    <tr style=\"text-align: right;\">\n",
       "      <th></th>\n",
       "      <th>Age</th>\n",
       "      <th>Embarked</th>\n",
       "      <th>Fare</th>\n",
       "      <th>PassengerId</th>\n",
       "      <th>Pclass</th>\n",
       "      <th>Sex</th>\n",
       "      <th>Survived</th>\n",
       "      <th>Title</th>\n",
       "      <th>Family_size</th>\n",
       "    </tr>\n",
       "  </thead>\n",
       "  <tbody>\n",
       "    <tr>\n",
       "      <th>0</th>\n",
       "      <td>22</td>\n",
       "      <td>S</td>\n",
       "      <td>7.2500</td>\n",
       "      <td>1</td>\n",
       "      <td>3</td>\n",
       "      <td>male</td>\n",
       "      <td>0.0</td>\n",
       "      <td>Mr</td>\n",
       "      <td>Small</td>\n",
       "    </tr>\n",
       "    <tr>\n",
       "      <th>1</th>\n",
       "      <td>38</td>\n",
       "      <td>C</td>\n",
       "      <td>71.2833</td>\n",
       "      <td>2</td>\n",
       "      <td>1</td>\n",
       "      <td>female</td>\n",
       "      <td>1.0</td>\n",
       "      <td>Mrs</td>\n",
       "      <td>Small</td>\n",
       "    </tr>\n",
       "    <tr>\n",
       "      <th>2</th>\n",
       "      <td>26</td>\n",
       "      <td>S</td>\n",
       "      <td>7.9250</td>\n",
       "      <td>3</td>\n",
       "      <td>3</td>\n",
       "      <td>female</td>\n",
       "      <td>1.0</td>\n",
       "      <td>Miss</td>\n",
       "      <td>Alone</td>\n",
       "    </tr>\n",
       "    <tr>\n",
       "      <th>3</th>\n",
       "      <td>35</td>\n",
       "      <td>S</td>\n",
       "      <td>53.1000</td>\n",
       "      <td>4</td>\n",
       "      <td>1</td>\n",
       "      <td>female</td>\n",
       "      <td>1.0</td>\n",
       "      <td>Mrs</td>\n",
       "      <td>Small</td>\n",
       "    </tr>\n",
       "    <tr>\n",
       "      <th>4</th>\n",
       "      <td>35</td>\n",
       "      <td>S</td>\n",
       "      <td>8.0500</td>\n",
       "      <td>5</td>\n",
       "      <td>3</td>\n",
       "      <td>male</td>\n",
       "      <td>0.0</td>\n",
       "      <td>Mr</td>\n",
       "      <td>Alone</td>\n",
       "    </tr>\n",
       "  </tbody>\n",
       "</table>\n",
       "</div>"
      ],
      "text/plain": [
       "   Age Embarked     Fare  PassengerId  Pclass     Sex  Survived Title  \\\n",
       "0   22        S   7.2500            1       3    male       0.0    Mr   \n",
       "1   38        C  71.2833            2       1  female       1.0   Mrs   \n",
       "2   26        S   7.9250            3       3  female       1.0  Miss   \n",
       "3   35        S  53.1000            4       1  female       1.0   Mrs   \n",
       "4   35        S   8.0500            5       3    male       0.0    Mr   \n",
       "\n",
       "  Family_size  \n",
       "0       Small  \n",
       "1       Small  \n",
       "2       Alone  \n",
       "3       Small  \n",
       "4       Alone  "
      ]
     },
     "execution_count": 40,
     "metadata": {},
     "output_type": "execute_result"
    }
   ],
   "source": [
    "df.head()"
   ]
  },
  {
   "cell_type": "markdown",
   "id": "a391ee43",
   "metadata": {
    "papermill": {
     "duration": 0.035231,
     "end_time": "2024-07-26T18:00:36.290112",
     "exception": false,
     "start_time": "2024-07-26T18:00:36.254881",
     "status": "completed"
    },
    "tags": []
   },
   "source": [
    "<h3 style=\"background-color: #111; padding: 15px; font: bold 22px arial; color: lightgreen; border: 2px solid lime; border-radius: 8px\">\n",
    "♠ Separating the Data into Train and Test Sets 🧪</h3>\n",
    "\n",
    "**We will divide the data into training and testing sets to evaluate the model's performance.**\n"
   ]
  },
  {
   "cell_type": "code",
   "execution_count": 41,
   "id": "f4e3c86d",
   "metadata": {
    "execution": {
     "iopub.execute_input": "2024-07-26T18:00:36.350802Z",
     "iopub.status.busy": "2024-07-26T18:00:36.350407Z",
     "iopub.status.idle": "2024-07-26T18:00:36.356288Z",
     "shell.execute_reply": "2024-07-26T18:00:36.355023Z"
    },
    "papermill": {
     "duration": 0.039555,
     "end_time": "2024-07-26T18:00:36.358733",
     "exception": false,
     "start_time": "2024-07-26T18:00:36.319178",
     "status": "completed"
    },
    "tags": []
   },
   "outputs": [],
   "source": [
    "train = df.loc[:890]\n",
    "test = df.loc[891:]"
   ]
  },
  {
   "cell_type": "code",
   "execution_count": 42,
   "id": "05f7d698",
   "metadata": {
    "execution": {
     "iopub.execute_input": "2024-07-26T18:00:36.419551Z",
     "iopub.status.busy": "2024-07-26T18:00:36.419133Z",
     "iopub.status.idle": "2024-07-26T18:00:36.435509Z",
     "shell.execute_reply": "2024-07-26T18:00:36.434011Z"
    },
    "papermill": {
     "duration": 0.049465,
     "end_time": "2024-07-26T18:00:36.438324",
     "exception": false,
     "start_time": "2024-07-26T18:00:36.388859",
     "status": "completed"
    },
    "tags": []
   },
   "outputs": [
    {
     "data": {
      "text/html": [
       "<div>\n",
       "<style scoped>\n",
       "    .dataframe tbody tr th:only-of-type {\n",
       "        vertical-align: middle;\n",
       "    }\n",
       "\n",
       "    .dataframe tbody tr th {\n",
       "        vertical-align: top;\n",
       "    }\n",
       "\n",
       "    .dataframe thead th {\n",
       "        text-align: right;\n",
       "    }\n",
       "</style>\n",
       "<table border=\"1\" class=\"dataframe\">\n",
       "  <thead>\n",
       "    <tr style=\"text-align: right;\">\n",
       "      <th></th>\n",
       "      <th>Age</th>\n",
       "      <th>Embarked</th>\n",
       "      <th>Fare</th>\n",
       "      <th>PassengerId</th>\n",
       "      <th>Pclass</th>\n",
       "      <th>Sex</th>\n",
       "      <th>Survived</th>\n",
       "      <th>Title</th>\n",
       "      <th>Family_size</th>\n",
       "    </tr>\n",
       "  </thead>\n",
       "  <tbody>\n",
       "    <tr>\n",
       "      <th>891</th>\n",
       "      <td>34</td>\n",
       "      <td>Q</td>\n",
       "      <td>7.8292</td>\n",
       "      <td>892</td>\n",
       "      <td>3</td>\n",
       "      <td>male</td>\n",
       "      <td>NaN</td>\n",
       "      <td>Mr</td>\n",
       "      <td>Alone</td>\n",
       "    </tr>\n",
       "    <tr>\n",
       "      <th>892</th>\n",
       "      <td>47</td>\n",
       "      <td>S</td>\n",
       "      <td>7.0000</td>\n",
       "      <td>893</td>\n",
       "      <td>3</td>\n",
       "      <td>female</td>\n",
       "      <td>NaN</td>\n",
       "      <td>Mrs</td>\n",
       "      <td>Small</td>\n",
       "    </tr>\n",
       "    <tr>\n",
       "      <th>893</th>\n",
       "      <td>62</td>\n",
       "      <td>Q</td>\n",
       "      <td>9.6875</td>\n",
       "      <td>894</td>\n",
       "      <td>2</td>\n",
       "      <td>male</td>\n",
       "      <td>NaN</td>\n",
       "      <td>Mr</td>\n",
       "      <td>Alone</td>\n",
       "    </tr>\n",
       "    <tr>\n",
       "      <th>894</th>\n",
       "      <td>27</td>\n",
       "      <td>S</td>\n",
       "      <td>8.6625</td>\n",
       "      <td>895</td>\n",
       "      <td>3</td>\n",
       "      <td>male</td>\n",
       "      <td>NaN</td>\n",
       "      <td>Mr</td>\n",
       "      <td>Alone</td>\n",
       "    </tr>\n",
       "    <tr>\n",
       "      <th>895</th>\n",
       "      <td>22</td>\n",
       "      <td>S</td>\n",
       "      <td>12.2875</td>\n",
       "      <td>896</td>\n",
       "      <td>3</td>\n",
       "      <td>female</td>\n",
       "      <td>NaN</td>\n",
       "      <td>Mrs</td>\n",
       "      <td>Small</td>\n",
       "    </tr>\n",
       "  </tbody>\n",
       "</table>\n",
       "</div>"
      ],
      "text/plain": [
       "     Age Embarked     Fare  PassengerId  Pclass     Sex  Survived Title  \\\n",
       "891   34        Q   7.8292          892       3    male       NaN    Mr   \n",
       "892   47        S   7.0000          893       3  female       NaN   Mrs   \n",
       "893   62        Q   9.6875          894       2    male       NaN    Mr   \n",
       "894   27        S   8.6625          895       3    male       NaN    Mr   \n",
       "895   22        S  12.2875          896       3  female       NaN   Mrs   \n",
       "\n",
       "    Family_size  \n",
       "891       Alone  \n",
       "892       Small  \n",
       "893       Alone  \n",
       "894       Alone  \n",
       "895       Small  "
      ]
     },
     "execution_count": 42,
     "metadata": {},
     "output_type": "execute_result"
    }
   ],
   "source": [
    "test.head()"
   ]
  },
  {
   "cell_type": "code",
   "execution_count": 43,
   "id": "9a7a0e8b",
   "metadata": {
    "execution": {
     "iopub.execute_input": "2024-07-26T18:00:36.497175Z",
     "iopub.status.busy": "2024-07-26T18:00:36.496511Z",
     "iopub.status.idle": "2024-07-26T18:00:36.502742Z",
     "shell.execute_reply": "2024-07-26T18:00:36.501709Z"
    },
    "papermill": {
     "duration": 0.038409,
     "end_time": "2024-07-26T18:00:36.505232",
     "exception": false,
     "start_time": "2024-07-26T18:00:36.466823",
     "status": "completed"
    },
    "tags": []
   },
   "outputs": [],
   "source": [
    "test.drop(columns=['Survived'],inplace=True)"
   ]
  },
  {
   "cell_type": "code",
   "execution_count": 44,
   "id": "edf100e8",
   "metadata": {
    "execution": {
     "iopub.execute_input": "2024-07-26T18:00:36.564935Z",
     "iopub.status.busy": "2024-07-26T18:00:36.563519Z",
     "iopub.status.idle": "2024-07-26T18:00:36.570971Z",
     "shell.execute_reply": "2024-07-26T18:00:36.569891Z"
    },
    "papermill": {
     "duration": 0.039427,
     "end_time": "2024-07-26T18:00:36.573495",
     "exception": false,
     "start_time": "2024-07-26T18:00:36.534068",
     "status": "completed"
    },
    "tags": []
   },
   "outputs": [],
   "source": [
    "train['Survived'] = train['Survived'].astype('int64')"
   ]
  },
  {
   "cell_type": "code",
   "execution_count": 45,
   "id": "ad128fe4",
   "metadata": {
    "execution": {
     "iopub.execute_input": "2024-07-26T18:00:36.633592Z",
     "iopub.status.busy": "2024-07-26T18:00:36.633136Z",
     "iopub.status.idle": "2024-07-26T18:00:36.647560Z",
     "shell.execute_reply": "2024-07-26T18:00:36.646339Z"
    },
    "papermill": {
     "duration": 0.047301,
     "end_time": "2024-07-26T18:00:36.649881",
     "exception": false,
     "start_time": "2024-07-26T18:00:36.602580",
     "status": "completed"
    },
    "tags": []
   },
   "outputs": [
    {
     "data": {
      "text/html": [
       "<div>\n",
       "<style scoped>\n",
       "    .dataframe tbody tr th:only-of-type {\n",
       "        vertical-align: middle;\n",
       "    }\n",
       "\n",
       "    .dataframe tbody tr th {\n",
       "        vertical-align: top;\n",
       "    }\n",
       "\n",
       "    .dataframe thead th {\n",
       "        text-align: right;\n",
       "    }\n",
       "</style>\n",
       "<table border=\"1\" class=\"dataframe\">\n",
       "  <thead>\n",
       "    <tr style=\"text-align: right;\">\n",
       "      <th></th>\n",
       "      <th>Age</th>\n",
       "      <th>Embarked</th>\n",
       "      <th>Fare</th>\n",
       "      <th>PassengerId</th>\n",
       "      <th>Pclass</th>\n",
       "      <th>Sex</th>\n",
       "      <th>Survived</th>\n",
       "      <th>Title</th>\n",
       "      <th>Family_size</th>\n",
       "    </tr>\n",
       "  </thead>\n",
       "  <tbody>\n",
       "    <tr>\n",
       "      <th>0</th>\n",
       "      <td>22</td>\n",
       "      <td>S</td>\n",
       "      <td>7.2500</td>\n",
       "      <td>1</td>\n",
       "      <td>3</td>\n",
       "      <td>male</td>\n",
       "      <td>0</td>\n",
       "      <td>Mr</td>\n",
       "      <td>Small</td>\n",
       "    </tr>\n",
       "    <tr>\n",
       "      <th>1</th>\n",
       "      <td>38</td>\n",
       "      <td>C</td>\n",
       "      <td>71.2833</td>\n",
       "      <td>2</td>\n",
       "      <td>1</td>\n",
       "      <td>female</td>\n",
       "      <td>1</td>\n",
       "      <td>Mrs</td>\n",
       "      <td>Small</td>\n",
       "    </tr>\n",
       "    <tr>\n",
       "      <th>2</th>\n",
       "      <td>26</td>\n",
       "      <td>S</td>\n",
       "      <td>7.9250</td>\n",
       "      <td>3</td>\n",
       "      <td>3</td>\n",
       "      <td>female</td>\n",
       "      <td>1</td>\n",
       "      <td>Miss</td>\n",
       "      <td>Alone</td>\n",
       "    </tr>\n",
       "    <tr>\n",
       "      <th>3</th>\n",
       "      <td>35</td>\n",
       "      <td>S</td>\n",
       "      <td>53.1000</td>\n",
       "      <td>4</td>\n",
       "      <td>1</td>\n",
       "      <td>female</td>\n",
       "      <td>1</td>\n",
       "      <td>Mrs</td>\n",
       "      <td>Small</td>\n",
       "    </tr>\n",
       "    <tr>\n",
       "      <th>4</th>\n",
       "      <td>35</td>\n",
       "      <td>S</td>\n",
       "      <td>8.0500</td>\n",
       "      <td>5</td>\n",
       "      <td>3</td>\n",
       "      <td>male</td>\n",
       "      <td>0</td>\n",
       "      <td>Mr</td>\n",
       "      <td>Alone</td>\n",
       "    </tr>\n",
       "  </tbody>\n",
       "</table>\n",
       "</div>"
      ],
      "text/plain": [
       "   Age Embarked     Fare  PassengerId  Pclass     Sex  Survived Title  \\\n",
       "0   22        S   7.2500            1       3    male         0    Mr   \n",
       "1   38        C  71.2833            2       1  female         1   Mrs   \n",
       "2   26        S   7.9250            3       3  female         1  Miss   \n",
       "3   35        S  53.1000            4       1  female         1   Mrs   \n",
       "4   35        S   8.0500            5       3    male         0    Mr   \n",
       "\n",
       "  Family_size  \n",
       "0       Small  \n",
       "1       Small  \n",
       "2       Alone  \n",
       "3       Small  \n",
       "4       Alone  "
      ]
     },
     "execution_count": 45,
     "metadata": {},
     "output_type": "execute_result"
    }
   ],
   "source": [
    "train.head()"
   ]
  },
  {
   "cell_type": "code",
   "execution_count": 46,
   "id": "bd8f639c",
   "metadata": {
    "execution": {
     "iopub.execute_input": "2024-07-26T18:00:36.711302Z",
     "iopub.status.busy": "2024-07-26T18:00:36.710923Z",
     "iopub.status.idle": "2024-07-26T18:00:36.717966Z",
     "shell.execute_reply": "2024-07-26T18:00:36.716796Z"
    },
    "papermill": {
     "duration": 0.041345,
     "end_time": "2024-07-26T18:00:36.720304",
     "exception": false,
     "start_time": "2024-07-26T18:00:36.678959",
     "status": "completed"
    },
    "tags": []
   },
   "outputs": [
    {
     "data": {
      "text/plain": [
       "((891, 9), (418, 8))"
      ]
     },
     "execution_count": 46,
     "metadata": {},
     "output_type": "execute_result"
    }
   ],
   "source": [
    "train.shape,test.shape"
   ]
  },
  {
   "cell_type": "code",
   "execution_count": 47,
   "id": "72de1341",
   "metadata": {
    "execution": {
     "iopub.execute_input": "2024-07-26T18:00:36.780765Z",
     "iopub.status.busy": "2024-07-26T18:00:36.780351Z",
     "iopub.status.idle": "2024-07-26T18:00:36.786812Z",
     "shell.execute_reply": "2024-07-26T18:00:36.785550Z"
    },
    "papermill": {
     "duration": 0.040248,
     "end_time": "2024-07-26T18:00:36.789376",
     "exception": false,
     "start_time": "2024-07-26T18:00:36.749128",
     "status": "completed"
    },
    "tags": []
   },
   "outputs": [],
   "source": [
    "train = train.drop(\"PassengerId\", axis=1)"
   ]
  },
  {
   "cell_type": "code",
   "execution_count": 48,
   "id": "b750ea63",
   "metadata": {
    "execution": {
     "iopub.execute_input": "2024-07-26T18:00:36.854139Z",
     "iopub.status.busy": "2024-07-26T18:00:36.853361Z",
     "iopub.status.idle": "2024-07-26T18:00:36.862390Z",
     "shell.execute_reply": "2024-07-26T18:00:36.861081Z"
    },
    "papermill": {
     "duration": 0.044456,
     "end_time": "2024-07-26T18:00:36.864931",
     "exception": false,
     "start_time": "2024-07-26T18:00:36.820475",
     "status": "completed"
    },
    "tags": []
   },
   "outputs": [],
   "source": [
    "X_train = train.drop(\"Survived\", axis=1)\n",
    "y_train = train[\"Survived\"]"
   ]
  },
  {
   "cell_type": "code",
   "execution_count": 49,
   "id": "5e26110f",
   "metadata": {
    "execution": {
     "iopub.execute_input": "2024-07-26T18:00:36.928102Z",
     "iopub.status.busy": "2024-07-26T18:00:36.927721Z",
     "iopub.status.idle": "2024-07-26T18:00:36.941234Z",
     "shell.execute_reply": "2024-07-26T18:00:36.940018Z"
    },
    "papermill": {
     "duration": 0.046999,
     "end_time": "2024-07-26T18:00:36.943811",
     "exception": false,
     "start_time": "2024-07-26T18:00:36.896812",
     "status": "completed"
    },
    "tags": []
   },
   "outputs": [
    {
     "data": {
      "text/html": [
       "<div>\n",
       "<style scoped>\n",
       "    .dataframe tbody tr th:only-of-type {\n",
       "        vertical-align: middle;\n",
       "    }\n",
       "\n",
       "    .dataframe tbody tr th {\n",
       "        vertical-align: top;\n",
       "    }\n",
       "\n",
       "    .dataframe thead th {\n",
       "        text-align: right;\n",
       "    }\n",
       "</style>\n",
       "<table border=\"1\" class=\"dataframe\">\n",
       "  <thead>\n",
       "    <tr style=\"text-align: right;\">\n",
       "      <th></th>\n",
       "      <th>Age</th>\n",
       "      <th>Embarked</th>\n",
       "      <th>Fare</th>\n",
       "      <th>Pclass</th>\n",
       "      <th>Sex</th>\n",
       "      <th>Title</th>\n",
       "      <th>Family_size</th>\n",
       "    </tr>\n",
       "  </thead>\n",
       "  <tbody>\n",
       "    <tr>\n",
       "      <th>0</th>\n",
       "      <td>22</td>\n",
       "      <td>S</td>\n",
       "      <td>7.2500</td>\n",
       "      <td>3</td>\n",
       "      <td>male</td>\n",
       "      <td>Mr</td>\n",
       "      <td>Small</td>\n",
       "    </tr>\n",
       "    <tr>\n",
       "      <th>1</th>\n",
       "      <td>38</td>\n",
       "      <td>C</td>\n",
       "      <td>71.2833</td>\n",
       "      <td>1</td>\n",
       "      <td>female</td>\n",
       "      <td>Mrs</td>\n",
       "      <td>Small</td>\n",
       "    </tr>\n",
       "    <tr>\n",
       "      <th>2</th>\n",
       "      <td>26</td>\n",
       "      <td>S</td>\n",
       "      <td>7.9250</td>\n",
       "      <td>3</td>\n",
       "      <td>female</td>\n",
       "      <td>Miss</td>\n",
       "      <td>Alone</td>\n",
       "    </tr>\n",
       "    <tr>\n",
       "      <th>3</th>\n",
       "      <td>35</td>\n",
       "      <td>S</td>\n",
       "      <td>53.1000</td>\n",
       "      <td>1</td>\n",
       "      <td>female</td>\n",
       "      <td>Mrs</td>\n",
       "      <td>Small</td>\n",
       "    </tr>\n",
       "    <tr>\n",
       "      <th>4</th>\n",
       "      <td>35</td>\n",
       "      <td>S</td>\n",
       "      <td>8.0500</td>\n",
       "      <td>3</td>\n",
       "      <td>male</td>\n",
       "      <td>Mr</td>\n",
       "      <td>Alone</td>\n",
       "    </tr>\n",
       "  </tbody>\n",
       "</table>\n",
       "</div>"
      ],
      "text/plain": [
       "   Age Embarked     Fare  Pclass     Sex Title Family_size\n",
       "0   22        S   7.2500       3    male    Mr       Small\n",
       "1   38        C  71.2833       1  female   Mrs       Small\n",
       "2   26        S   7.9250       3  female  Miss       Alone\n",
       "3   35        S  53.1000       1  female   Mrs       Small\n",
       "4   35        S   8.0500       3    male    Mr       Alone"
      ]
     },
     "execution_count": 49,
     "metadata": {},
     "output_type": "execute_result"
    }
   ],
   "source": [
    "X_train.head()"
   ]
  },
  {
   "cell_type": "code",
   "execution_count": 50,
   "id": "defa974e",
   "metadata": {
    "execution": {
     "iopub.execute_input": "2024-07-26T18:00:37.004760Z",
     "iopub.status.busy": "2024-07-26T18:00:37.004330Z",
     "iopub.status.idle": "2024-07-26T18:00:37.011200Z",
     "shell.execute_reply": "2024-07-26T18:00:37.010199Z"
    },
    "papermill": {
     "duration": 0.040299,
     "end_time": "2024-07-26T18:00:37.013545",
     "exception": false,
     "start_time": "2024-07-26T18:00:36.973246",
     "status": "completed"
    },
    "tags": []
   },
   "outputs": [
    {
     "data": {
      "text/plain": [
       "((891, 7), (891,))"
      ]
     },
     "execution_count": 50,
     "metadata": {},
     "output_type": "execute_result"
    }
   ],
   "source": [
    "X_train.shape,y_train.shape"
   ]
  },
  {
   "cell_type": "markdown",
   "id": "11df6592",
   "metadata": {
    "papermill": {
     "duration": 0.029122,
     "end_time": "2024-07-26T18:00:37.072175",
     "exception": false,
     "start_time": "2024-07-26T18:00:37.043053",
     "status": "completed"
    },
    "tags": []
   },
   "source": [
    "<h3 style=\"background-color: #111; padding: 15px; font: bold 22px arial; color: lightgreen; border: 2px solid lime; border-radius: 8px\">\n",
    "♠ Creating a Pipeline with Column Transformer 🔄</h3>\n",
    "\n",
    "**We will build a pipeline that incorporates a Column Transformer to streamline preprocessing and feature engineering.**\n"
   ]
  },
  {
   "cell_type": "code",
   "execution_count": 51,
   "id": "952ec55f",
   "metadata": {
    "execution": {
     "iopub.execute_input": "2024-07-26T18:00:37.134490Z",
     "iopub.status.busy": "2024-07-26T18:00:37.134082Z",
     "iopub.status.idle": "2024-07-26T18:00:37.140865Z",
     "shell.execute_reply": "2024-07-26T18:00:37.139734Z"
    },
    "papermill": {
     "duration": 0.041556,
     "end_time": "2024-07-26T18:00:37.143238",
     "exception": false,
     "start_time": "2024-07-26T18:00:37.101682",
     "status": "completed"
    },
    "tags": []
   },
   "outputs": [],
   "source": [
    "num_cat_tranformation=ColumnTransformer([\n",
    "                                    ('scaling',MinMaxScaler(),[0,2]),\n",
    "                                    ('onehotencolding1',OneHotEncoder(),[1,3]),\n",
    "                                    ('ordinal',OrdinalEncoder(),[4]),\n",
    "                                    ('onehotencolding2',OneHotEncoder(),[5,6])\n",
    "                                    ],remainder='passthrough')"
   ]
  },
  {
   "cell_type": "code",
   "execution_count": 52,
   "id": "6164c03c",
   "metadata": {
    "execution": {
     "iopub.execute_input": "2024-07-26T18:00:37.204656Z",
     "iopub.status.busy": "2024-07-26T18:00:37.204235Z",
     "iopub.status.idle": "2024-07-26T18:00:37.210011Z",
     "shell.execute_reply": "2024-07-26T18:00:37.208949Z"
    },
    "papermill": {
     "duration": 0.039451,
     "end_time": "2024-07-26T18:00:37.212295",
     "exception": false,
     "start_time": "2024-07-26T18:00:37.172844",
     "status": "completed"
    },
    "tags": []
   },
   "outputs": [],
   "source": [
    "bins=ColumnTransformer([\n",
    "                        ('Kbins',KBinsDiscretizer(n_bins=15,encode='ordinal',strategy='quantile'),[0,2]),\n",
    "                        ],remainder='passthrough')"
   ]
  },
  {
   "cell_type": "code",
   "execution_count": 53,
   "id": "5ebdb9f6",
   "metadata": {
    "execution": {
     "iopub.execute_input": "2024-07-26T18:00:37.274775Z",
     "iopub.status.busy": "2024-07-26T18:00:37.274371Z",
     "iopub.status.idle": "2024-07-26T18:00:37.279779Z",
     "shell.execute_reply": "2024-07-26T18:00:37.278517Z"
    },
    "papermill": {
     "duration": 0.039467,
     "end_time": "2024-07-26T18:00:37.282226",
     "exception": false,
     "start_time": "2024-07-26T18:00:37.242759",
     "status": "completed"
    },
    "tags": []
   },
   "outputs": [],
   "source": [
    "from sklearn import set_config\n",
    "set_config(display='diagram')"
   ]
  },
  {
   "cell_type": "code",
   "execution_count": 54,
   "id": "f6e9e8d2",
   "metadata": {
    "execution": {
     "iopub.execute_input": "2024-07-26T18:00:37.346270Z",
     "iopub.status.busy": "2024-07-26T18:00:37.345894Z",
     "iopub.status.idle": "2024-07-26T18:00:37.354215Z",
     "shell.execute_reply": "2024-07-26T18:00:37.353063Z"
    },
    "papermill": {
     "duration": 0.044039,
     "end_time": "2024-07-26T18:00:37.356902",
     "exception": false,
     "start_time": "2024-07-26T18:00:37.312863",
     "status": "completed"
    },
    "tags": []
   },
   "outputs": [],
   "source": [
    "from sklearn.model_selection import train_test_split\n",
    "X_train, X_test, y_train, y_test=train_test_split(X_train,y_train,test_size=0.2)"
   ]
  },
  {
   "cell_type": "code",
   "execution_count": 55,
   "id": "9bc33a82",
   "metadata": {
    "execution": {
     "iopub.execute_input": "2024-07-26T18:00:37.419950Z",
     "iopub.status.busy": "2024-07-26T18:00:37.419591Z",
     "iopub.status.idle": "2024-07-26T18:00:37.425242Z",
     "shell.execute_reply": "2024-07-26T18:00:37.423986Z"
    },
    "papermill": {
     "duration": 0.04003,
     "end_time": "2024-07-26T18:00:37.427739",
     "exception": false,
     "start_time": "2024-07-26T18:00:37.387709",
     "status": "completed"
    },
    "tags": []
   },
   "outputs": [],
   "source": [
    "def create_pipeline(algo):\n",
    "    return Pipeline([\n",
    "        ('num_cat_transformation', num_cat_tranformation),\n",
    "        ('bins', bins),\n",
    "        ('classifier', algo)\n",
    "    ])"
   ]
  },
  {
   "cell_type": "markdown",
   "id": "3e96bdd5",
   "metadata": {
    "papermill": {
     "duration": 0.030033,
     "end_time": "2024-07-26T18:00:37.488154",
     "exception": false,
     "start_time": "2024-07-26T18:00:37.458121",
     "status": "completed"
    },
    "tags": []
   },
   "source": [
    "# Model Training"
   ]
  },
  {
   "cell_type": "markdown",
   "id": "33d978de",
   "metadata": {
    "papermill": {
     "duration": 0.031503,
     "end_time": "2024-07-26T18:00:37.549444",
     "exception": false,
     "start_time": "2024-07-26T18:00:37.517941",
     "status": "completed"
    },
    "tags": []
   },
   "source": [
    "<h3 style=\"background-color: #111; padding: 15px; font: bold 22px arial; color: lightgreen; border: 2px solid lime; border-radius: 8px\">\n",
    "♠ Evaluating Various Machine Learning Models to Find the Best Performer 🤖</h3>\n",
    "\n",
    "**We will test different machine learning models to identify which one provides the best performance for our data.**\n"
   ]
  },
  {
   "cell_type": "code",
   "execution_count": 56,
   "id": "b967c3fe",
   "metadata": {
    "execution": {
     "iopub.execute_input": "2024-07-26T18:00:37.612940Z",
     "iopub.status.busy": "2024-07-26T18:00:37.612569Z",
     "iopub.status.idle": "2024-07-26T18:00:37.620798Z",
     "shell.execute_reply": "2024-07-26T18:00:37.619572Z"
    },
    "papermill": {
     "duration": 0.042603,
     "end_time": "2024-07-26T18:00:37.623229",
     "exception": false,
     "start_time": "2024-07-26T18:00:37.580626",
     "status": "completed"
    },
    "tags": []
   },
   "outputs": [],
   "source": [
    "algorithms=[\n",
    "    # Ensemble Methods\n",
    "    ensemble.AdaBoostClassifier(),\n",
    "    ensemble.BaggingClassifier(),\n",
    "    ensemble.ExtraTreesClassifier(),\n",
    "    ensemble.GradientBoostingClassifier(),\n",
    "    ensemble.RandomForestClassifier(),\n",
    "\n",
    "    # Gaussian Processes\n",
    "    gaussian_process.GaussianProcessClassifier(),\n",
    "    \n",
    "    # GLM\n",
    "    linear_model.LogisticRegressionCV(),\n",
    "    linear_model.PassiveAggressiveClassifier(),\n",
    "    linear_model.RidgeClassifierCV(),\n",
    "    linear_model.SGDClassifier(),\n",
    "    linear_model.Perceptron(),\n",
    "    \n",
    "    # Naive Bayes\n",
    "    naive_bayes.BernoulliNB(),\n",
    "    naive_bayes.GaussianNB(),\n",
    "    \n",
    "    # Nearest Neighbor\n",
    "    neighbors.KNeighborsClassifier(),\n",
    "    \n",
    "    # SVM\n",
    "    svm.SVC(probability=True),\n",
    "    svm.NuSVC(probability=True),\n",
    "    svm.LinearSVC(),\n",
    "    \n",
    "    # Trees    \n",
    "    tree.DecisionTreeClassifier(),\n",
    "    tree.ExtraTreeClassifier(),\n",
    "    \n",
    "    # Discriminant Analysis\n",
    "    discriminant_analysis.LinearDiscriminantAnalysis(),\n",
    "    discriminant_analysis.QuadraticDiscriminantAnalysis(),\n",
    "    \n",
    "    # XGBoost\n",
    "    XGBClassifier()\n",
    "]"
   ]
  },
  {
   "cell_type": "code",
   "execution_count": 57,
   "id": "8d737052",
   "metadata": {
    "execution": {
     "iopub.execute_input": "2024-07-26T18:00:37.684255Z",
     "iopub.status.busy": "2024-07-26T18:00:37.683877Z",
     "iopub.status.idle": "2024-07-26T18:00:49.554822Z",
     "shell.execute_reply": "2024-07-26T18:00:49.553930Z"
    },
    "papermill": {
     "duration": 11.904531,
     "end_time": "2024-07-26T18:00:49.557448",
     "exception": false,
     "start_time": "2024-07-26T18:00:37.652917",
     "status": "completed"
    },
    "tags": []
   },
   "outputs": [],
   "source": [
    "model_names = []\n",
    "CV_Accuracy=[]\n",
    "for algo in algorithms:\n",
    "    pipeline = create_pipeline(algo)\n",
    "    scores = cross_val_score(pipeline, X_train, y_train, cv=5)\n",
    "    model_names.append(algo.__class__.__name__)\n",
    "    CV_Accuracy.append(scores.mean())\n",
    "    \n",
    "#     print(f'Model: {algo.__class__.__name__}, CV Accuracy: {scores.mean()}')\n",
    "#     print('\\n')"
   ]
  },
  {
   "cell_type": "code",
   "execution_count": 58,
   "id": "1268e429",
   "metadata": {
    "execution": {
     "iopub.execute_input": "2024-07-26T18:00:49.618795Z",
     "iopub.status.busy": "2024-07-26T18:00:49.618393Z",
     "iopub.status.idle": "2024-07-26T18:00:49.623870Z",
     "shell.execute_reply": "2024-07-26T18:00:49.622740Z"
    },
    "papermill": {
     "duration": 0.038575,
     "end_time": "2024-07-26T18:00:49.626117",
     "exception": false,
     "start_time": "2024-07-26T18:00:49.587542",
     "status": "completed"
    },
    "tags": []
   },
   "outputs": [],
   "source": [
    "model_df = pd.DataFrame({\n",
    "    'Model': model_names,\n",
    "    'Accuracy': CV_Accuracy})"
   ]
  },
  {
   "cell_type": "code",
   "execution_count": 59,
   "id": "62a23caf",
   "metadata": {
    "execution": {
     "iopub.execute_input": "2024-07-26T18:00:49.687671Z",
     "iopub.status.busy": "2024-07-26T18:00:49.687239Z",
     "iopub.status.idle": "2024-07-26T18:00:49.693821Z",
     "shell.execute_reply": "2024-07-26T18:00:49.692733Z"
    },
    "papermill": {
     "duration": 0.040349,
     "end_time": "2024-07-26T18:00:49.696285",
     "exception": false,
     "start_time": "2024-07-26T18:00:49.655936",
     "status": "completed"
    },
    "tags": []
   },
   "outputs": [],
   "source": [
    "model_df.sort_values(by='Accuracy', ascending=False, inplace=True)"
   ]
  },
  {
   "cell_type": "markdown",
   "id": "9750b9e8",
   "metadata": {
    "papermill": {
     "duration": 0.03069,
     "end_time": "2024-07-26T18:00:49.756868",
     "exception": false,
     "start_time": "2024-07-26T18:00:49.726178",
     "status": "completed"
    },
    "tags": []
   },
   "source": [
    "<h3 style=\"background-color: #111; padding: 15px; font: bold 22px arial; color: lightgreen; border: 2px solid lime; border-radius: 8px\">\n",
    "♠ Tuning the Top 3 Machine Learning Models for Better Results 🔧</h3>\n",
    "\n",
    "**We will focus on tuning the top 3 performing models from our data frame to enhance their performance and achieve better results.**\n"
   ]
  },
  {
   "cell_type": "code",
   "execution_count": 60,
   "id": "6be5783f",
   "metadata": {
    "execution": {
     "iopub.execute_input": "2024-07-26T18:00:49.819201Z",
     "iopub.status.busy": "2024-07-26T18:00:49.818807Z",
     "iopub.status.idle": "2024-07-26T18:00:49.831138Z",
     "shell.execute_reply": "2024-07-26T18:00:49.829981Z"
    },
    "papermill": {
     "duration": 0.046363,
     "end_time": "2024-07-26T18:00:49.833700",
     "exception": false,
     "start_time": "2024-07-26T18:00:49.787337",
     "status": "completed"
    },
    "tags": []
   },
   "outputs": [
    {
     "data": {
      "text/html": [
       "<div>\n",
       "<style scoped>\n",
       "    .dataframe tbody tr th:only-of-type {\n",
       "        vertical-align: middle;\n",
       "    }\n",
       "\n",
       "    .dataframe tbody tr th {\n",
       "        vertical-align: top;\n",
       "    }\n",
       "\n",
       "    .dataframe thead th {\n",
       "        text-align: right;\n",
       "    }\n",
       "</style>\n",
       "<table border=\"1\" class=\"dataframe\">\n",
       "  <thead>\n",
       "    <tr style=\"text-align: right;\">\n",
       "      <th></th>\n",
       "      <th>Model</th>\n",
       "      <th>Accuracy</th>\n",
       "    </tr>\n",
       "  </thead>\n",
       "  <tbody>\n",
       "    <tr>\n",
       "      <th>0</th>\n",
       "      <td>AdaBoostClassifier</td>\n",
       "      <td>0.825746</td>\n",
       "    </tr>\n",
       "    <tr>\n",
       "      <th>16</th>\n",
       "      <td>LinearSVC</td>\n",
       "      <td>0.824298</td>\n",
       "    </tr>\n",
       "    <tr>\n",
       "      <th>6</th>\n",
       "      <td>LogisticRegressionCV</td>\n",
       "      <td>0.822929</td>\n",
       "    </tr>\n",
       "    <tr>\n",
       "      <th>19</th>\n",
       "      <td>LinearDiscriminantAnalysis</td>\n",
       "      <td>0.822900</td>\n",
       "    </tr>\n",
       "    <tr>\n",
       "      <th>8</th>\n",
       "      <td>RidgeClassifierCV</td>\n",
       "      <td>0.822900</td>\n",
       "    </tr>\n",
       "    <tr>\n",
       "      <th>21</th>\n",
       "      <td>XGBClassifier</td>\n",
       "      <td>0.821540</td>\n",
       "    </tr>\n",
       "    <tr>\n",
       "      <th>12</th>\n",
       "      <td>GaussianNB</td>\n",
       "      <td>0.820112</td>\n",
       "    </tr>\n",
       "    <tr>\n",
       "      <th>5</th>\n",
       "      <td>GaussianProcessClassifier</td>\n",
       "      <td>0.815887</td>\n",
       "    </tr>\n",
       "    <tr>\n",
       "      <th>15</th>\n",
       "      <td>NuSVC</td>\n",
       "      <td>0.815857</td>\n",
       "    </tr>\n",
       "    <tr>\n",
       "      <th>3</th>\n",
       "      <td>GradientBoostingClassifier</td>\n",
       "      <td>0.814478</td>\n",
       "    </tr>\n",
       "    <tr>\n",
       "      <th>14</th>\n",
       "      <td>SVC</td>\n",
       "      <td>0.810243</td>\n",
       "    </tr>\n",
       "    <tr>\n",
       "      <th>7</th>\n",
       "      <td>PassiveAggressiveClassifier</td>\n",
       "      <td>0.804698</td>\n",
       "    </tr>\n",
       "    <tr>\n",
       "      <th>1</th>\n",
       "      <td>BaggingClassifier</td>\n",
       "      <td>0.797685</td>\n",
       "    </tr>\n",
       "    <tr>\n",
       "      <th>13</th>\n",
       "      <td>KNeighborsClassifier</td>\n",
       "      <td>0.794888</td>\n",
       "    </tr>\n",
       "    <tr>\n",
       "      <th>11</th>\n",
       "      <td>BernoulliNB</td>\n",
       "      <td>0.794819</td>\n",
       "    </tr>\n",
       "    <tr>\n",
       "      <th>17</th>\n",
       "      <td>DecisionTreeClassifier</td>\n",
       "      <td>0.789254</td>\n",
       "    </tr>\n",
       "    <tr>\n",
       "      <th>2</th>\n",
       "      <td>ExtraTreesClassifier</td>\n",
       "      <td>0.778056</td>\n",
       "    </tr>\n",
       "    <tr>\n",
       "      <th>4</th>\n",
       "      <td>RandomForestClassifier</td>\n",
       "      <td>0.778007</td>\n",
       "    </tr>\n",
       "    <tr>\n",
       "      <th>10</th>\n",
       "      <td>Perceptron</td>\n",
       "      <td>0.768226</td>\n",
       "    </tr>\n",
       "    <tr>\n",
       "      <th>18</th>\n",
       "      <td>ExtraTreeClassifier</td>\n",
       "      <td>0.766847</td>\n",
       "    </tr>\n",
       "    <tr>\n",
       "      <th>9</th>\n",
       "      <td>SGDClassifier</td>\n",
       "      <td>0.710795</td>\n",
       "    </tr>\n",
       "    <tr>\n",
       "      <th>20</th>\n",
       "      <td>QuadraticDiscriminantAnalysis</td>\n",
       "      <td>0.623520</td>\n",
       "    </tr>\n",
       "  </tbody>\n",
       "</table>\n",
       "</div>"
      ],
      "text/plain": [
       "                            Model  Accuracy\n",
       "0              AdaBoostClassifier  0.825746\n",
       "16                      LinearSVC  0.824298\n",
       "6            LogisticRegressionCV  0.822929\n",
       "19     LinearDiscriminantAnalysis  0.822900\n",
       "8               RidgeClassifierCV  0.822900\n",
       "21                  XGBClassifier  0.821540\n",
       "12                     GaussianNB  0.820112\n",
       "5       GaussianProcessClassifier  0.815887\n",
       "15                          NuSVC  0.815857\n",
       "3      GradientBoostingClassifier  0.814478\n",
       "14                            SVC  0.810243\n",
       "7     PassiveAggressiveClassifier  0.804698\n",
       "1               BaggingClassifier  0.797685\n",
       "13           KNeighborsClassifier  0.794888\n",
       "11                    BernoulliNB  0.794819\n",
       "17         DecisionTreeClassifier  0.789254\n",
       "2            ExtraTreesClassifier  0.778056\n",
       "4          RandomForestClassifier  0.778007\n",
       "10                     Perceptron  0.768226\n",
       "18            ExtraTreeClassifier  0.766847\n",
       "9                   SGDClassifier  0.710795\n",
       "20  QuadraticDiscriminantAnalysis  0.623520"
      ]
     },
     "execution_count": 60,
     "metadata": {},
     "output_type": "execute_result"
    }
   ],
   "source": [
    "model_df"
   ]
  },
  {
   "cell_type": "code",
   "execution_count": 61,
   "id": "de9c02d5",
   "metadata": {
    "execution": {
     "iopub.execute_input": "2024-07-26T18:00:49.895903Z",
     "iopub.status.busy": "2024-07-26T18:00:49.895445Z",
     "iopub.status.idle": "2024-07-26T18:00:49.901708Z",
     "shell.execute_reply": "2024-07-26T18:00:49.900699Z"
    },
    "papermill": {
     "duration": 0.03983,
     "end_time": "2024-07-26T18:00:49.904006",
     "exception": false,
     "start_time": "2024-07-26T18:00:49.864176",
     "status": "completed"
    },
    "tags": []
   },
   "outputs": [],
   "source": [
    "algo1 = ensemble.RandomForestClassifier(criterion='gini',\n",
    "                                           n_estimators=1750,\n",
    "                                           max_depth=7,\n",
    "                                           min_samples_split=6,\n",
    "                                           min_samples_leaf=6,\n",
    "                                           max_features='auto',\n",
    "                                           oob_score=True,\n",
    "                                           random_state=42,\n",
    "                                           n_jobs=-1,\n",
    "                                           verbose=1) \n",
    "\n",
    "algo2 =ensemble.GradientBoostingClassifier(max_depth= 1, max_features='auto', n_estimators=3, random_state=42, warm_start= True)\n",
    "algo3=linear_model.RidgeClassifierCV()"
   ]
  },
  {
   "cell_type": "code",
   "execution_count": 62,
   "id": "98911dd9",
   "metadata": {
    "execution": {
     "iopub.execute_input": "2024-07-26T18:00:49.966630Z",
     "iopub.status.busy": "2024-07-26T18:00:49.966229Z",
     "iopub.status.idle": "2024-07-26T18:00:49.971237Z",
     "shell.execute_reply": "2024-07-26T18:00:49.970151Z"
    },
    "papermill": {
     "duration": 0.038862,
     "end_time": "2024-07-26T18:00:49.973593",
     "exception": false,
     "start_time": "2024-07-26T18:00:49.934731",
     "status": "completed"
    },
    "tags": []
   },
   "outputs": [],
   "source": [
    "pipe1=Pipeline([\n",
    "        ('num_cat_transformation', num_cat_tranformation),\n",
    "        ('bins', bins),\n",
    "        ('classifier', algo1)\n",
    "    ])"
   ]
  },
  {
   "cell_type": "code",
   "execution_count": 63,
   "id": "93b561b5",
   "metadata": {
    "execution": {
     "iopub.execute_input": "2024-07-26T18:00:50.036296Z",
     "iopub.status.busy": "2024-07-26T18:00:50.035906Z",
     "iopub.status.idle": "2024-07-26T18:00:56.642804Z",
     "shell.execute_reply": "2024-07-26T18:00:56.641701Z"
    },
    "papermill": {
     "duration": 6.641531,
     "end_time": "2024-07-26T18:00:56.645436",
     "exception": false,
     "start_time": "2024-07-26T18:00:50.003905",
     "status": "completed"
    },
    "tags": []
   },
   "outputs": [
    {
     "name": "stderr",
     "output_type": "stream",
     "text": [
      "[Parallel(n_jobs=-1)]: Using backend ThreadingBackend with 4 concurrent workers.\n",
      "[Parallel(n_jobs=-1)]: Done  42 tasks      | elapsed:    0.1s\n",
      "[Parallel(n_jobs=-1)]: Done 192 tasks      | elapsed:    0.6s\n",
      "[Parallel(n_jobs=-1)]: Done 442 tasks      | elapsed:    1.3s\n",
      "[Parallel(n_jobs=-1)]: Done 792 tasks      | elapsed:    2.2s\n",
      "[Parallel(n_jobs=-1)]: Done 1242 tasks      | elapsed:    3.5s\n",
      "[Parallel(n_jobs=-1)]: Done 1750 out of 1750 | elapsed:    5.0s finished\n"
     ]
    },
    {
     "data": {
      "text/html": [
       "<style>#sk-container-id-1 {color: black;background-color: white;}#sk-container-id-1 pre{padding: 0;}#sk-container-id-1 div.sk-toggleable {background-color: white;}#sk-container-id-1 label.sk-toggleable__label {cursor: pointer;display: block;width: 100%;margin-bottom: 0;padding: 0.3em;box-sizing: border-box;text-align: center;}#sk-container-id-1 label.sk-toggleable__label-arrow:before {content: \"▸\";float: left;margin-right: 0.25em;color: #696969;}#sk-container-id-1 label.sk-toggleable__label-arrow:hover:before {color: black;}#sk-container-id-1 div.sk-estimator:hover label.sk-toggleable__label-arrow:before {color: black;}#sk-container-id-1 div.sk-toggleable__content {max-height: 0;max-width: 0;overflow: hidden;text-align: left;background-color: #f0f8ff;}#sk-container-id-1 div.sk-toggleable__content pre {margin: 0.2em;color: black;border-radius: 0.25em;background-color: #f0f8ff;}#sk-container-id-1 input.sk-toggleable__control:checked~div.sk-toggleable__content {max-height: 200px;max-width: 100%;overflow: auto;}#sk-container-id-1 input.sk-toggleable__control:checked~label.sk-toggleable__label-arrow:before {content: \"▾\";}#sk-container-id-1 div.sk-estimator input.sk-toggleable__control:checked~label.sk-toggleable__label {background-color: #d4ebff;}#sk-container-id-1 div.sk-label input.sk-toggleable__control:checked~label.sk-toggleable__label {background-color: #d4ebff;}#sk-container-id-1 input.sk-hidden--visually {border: 0;clip: rect(1px 1px 1px 1px);clip: rect(1px, 1px, 1px, 1px);height: 1px;margin: -1px;overflow: hidden;padding: 0;position: absolute;width: 1px;}#sk-container-id-1 div.sk-estimator {font-family: monospace;background-color: #f0f8ff;border: 1px dotted black;border-radius: 0.25em;box-sizing: border-box;margin-bottom: 0.5em;}#sk-container-id-1 div.sk-estimator:hover {background-color: #d4ebff;}#sk-container-id-1 div.sk-parallel-item::after {content: \"\";width: 100%;border-bottom: 1px solid gray;flex-grow: 1;}#sk-container-id-1 div.sk-label:hover label.sk-toggleable__label {background-color: #d4ebff;}#sk-container-id-1 div.sk-serial::before {content: \"\";position: absolute;border-left: 1px solid gray;box-sizing: border-box;top: 0;bottom: 0;left: 50%;z-index: 0;}#sk-container-id-1 div.sk-serial {display: flex;flex-direction: column;align-items: center;background-color: white;padding-right: 0.2em;padding-left: 0.2em;position: relative;}#sk-container-id-1 div.sk-item {position: relative;z-index: 1;}#sk-container-id-1 div.sk-parallel {display: flex;align-items: stretch;justify-content: center;background-color: white;position: relative;}#sk-container-id-1 div.sk-item::before, #sk-container-id-1 div.sk-parallel-item::before {content: \"\";position: absolute;border-left: 1px solid gray;box-sizing: border-box;top: 0;bottom: 0;left: 50%;z-index: -1;}#sk-container-id-1 div.sk-parallel-item {display: flex;flex-direction: column;z-index: 1;position: relative;background-color: white;}#sk-container-id-1 div.sk-parallel-item:first-child::after {align-self: flex-end;width: 50%;}#sk-container-id-1 div.sk-parallel-item:last-child::after {align-self: flex-start;width: 50%;}#sk-container-id-1 div.sk-parallel-item:only-child::after {width: 0;}#sk-container-id-1 div.sk-dashed-wrapped {border: 1px dashed gray;margin: 0 0.4em 0.5em 0.4em;box-sizing: border-box;padding-bottom: 0.4em;background-color: white;}#sk-container-id-1 div.sk-label label {font-family: monospace;font-weight: bold;display: inline-block;line-height: 1.2em;}#sk-container-id-1 div.sk-label-container {text-align: center;}#sk-container-id-1 div.sk-container {/* jupyter's `normalize.less` sets `[hidden] { display: none; }` but bootstrap.min.css set `[hidden] { display: none !important; }` so we also need the `!important` here to be able to override the default hidden behavior on the sphinx rendered scikit-learn.org. See: https://github.com/scikit-learn/scikit-learn/issues/21755 */display: inline-block !important;position: relative;}#sk-container-id-1 div.sk-text-repr-fallback {display: none;}</style><div id=\"sk-container-id-1\" class=\"sk-top-container\"><div class=\"sk-text-repr-fallback\"><pre>Pipeline(steps=[(&#x27;num_cat_transformation&#x27;,\n",
       "                 ColumnTransformer(remainder=&#x27;passthrough&#x27;,\n",
       "                                   transformers=[(&#x27;scaling&#x27;, MinMaxScaler(),\n",
       "                                                  [0, 2]),\n",
       "                                                 (&#x27;onehotencolding1&#x27;,\n",
       "                                                  OneHotEncoder(), [1, 3]),\n",
       "                                                 (&#x27;ordinal&#x27;, OrdinalEncoder(),\n",
       "                                                  [4]),\n",
       "                                                 (&#x27;onehotencolding2&#x27;,\n",
       "                                                  OneHotEncoder(), [5, 6])])),\n",
       "                (&#x27;bins&#x27;,\n",
       "                 ColumnTransformer(remainder=&#x27;passthrough&#x27;,\n",
       "                                   transformers=[(&#x27;Kbins&#x27;,\n",
       "                                                  KBinsDiscretizer(encode=&#x27;ordinal&#x27;,\n",
       "                                                                   n_bins=15),\n",
       "                                                  [0, 2])])),\n",
       "                (&#x27;classifier&#x27;,\n",
       "                 RandomForestClassifier(max_depth=7, max_features=&#x27;auto&#x27;,\n",
       "                                        min_samples_leaf=6, min_samples_split=6,\n",
       "                                        n_estimators=1750, n_jobs=-1,\n",
       "                                        oob_score=True, random_state=42,\n",
       "                                        verbose=1))])</pre><b>In a Jupyter environment, please rerun this cell to show the HTML representation or trust the notebook. <br />On GitHub, the HTML representation is unable to render, please try loading this page with nbviewer.org.</b></div><div class=\"sk-container\" hidden><div class=\"sk-item sk-dashed-wrapped\"><div class=\"sk-label-container\"><div class=\"sk-label sk-toggleable\"><input class=\"sk-toggleable__control sk-hidden--visually\" id=\"sk-estimator-id-1\" type=\"checkbox\" ><label for=\"sk-estimator-id-1\" class=\"sk-toggleable__label sk-toggleable__label-arrow\">Pipeline</label><div class=\"sk-toggleable__content\"><pre>Pipeline(steps=[(&#x27;num_cat_transformation&#x27;,\n",
       "                 ColumnTransformer(remainder=&#x27;passthrough&#x27;,\n",
       "                                   transformers=[(&#x27;scaling&#x27;, MinMaxScaler(),\n",
       "                                                  [0, 2]),\n",
       "                                                 (&#x27;onehotencolding1&#x27;,\n",
       "                                                  OneHotEncoder(), [1, 3]),\n",
       "                                                 (&#x27;ordinal&#x27;, OrdinalEncoder(),\n",
       "                                                  [4]),\n",
       "                                                 (&#x27;onehotencolding2&#x27;,\n",
       "                                                  OneHotEncoder(), [5, 6])])),\n",
       "                (&#x27;bins&#x27;,\n",
       "                 ColumnTransformer(remainder=&#x27;passthrough&#x27;,\n",
       "                                   transformers=[(&#x27;Kbins&#x27;,\n",
       "                                                  KBinsDiscretizer(encode=&#x27;ordinal&#x27;,\n",
       "                                                                   n_bins=15),\n",
       "                                                  [0, 2])])),\n",
       "                (&#x27;classifier&#x27;,\n",
       "                 RandomForestClassifier(max_depth=7, max_features=&#x27;auto&#x27;,\n",
       "                                        min_samples_leaf=6, min_samples_split=6,\n",
       "                                        n_estimators=1750, n_jobs=-1,\n",
       "                                        oob_score=True, random_state=42,\n",
       "                                        verbose=1))])</pre></div></div></div><div class=\"sk-serial\"><div class=\"sk-item sk-dashed-wrapped\"><div class=\"sk-label-container\"><div class=\"sk-label sk-toggleable\"><input class=\"sk-toggleable__control sk-hidden--visually\" id=\"sk-estimator-id-2\" type=\"checkbox\" ><label for=\"sk-estimator-id-2\" class=\"sk-toggleable__label sk-toggleable__label-arrow\">num_cat_transformation: ColumnTransformer</label><div class=\"sk-toggleable__content\"><pre>ColumnTransformer(remainder=&#x27;passthrough&#x27;,\n",
       "                  transformers=[(&#x27;scaling&#x27;, MinMaxScaler(), [0, 2]),\n",
       "                                (&#x27;onehotencolding1&#x27;, OneHotEncoder(), [1, 3]),\n",
       "                                (&#x27;ordinal&#x27;, OrdinalEncoder(), [4]),\n",
       "                                (&#x27;onehotencolding2&#x27;, OneHotEncoder(), [5, 6])])</pre></div></div></div><div class=\"sk-parallel\"><div class=\"sk-parallel-item\"><div class=\"sk-item\"><div class=\"sk-label-container\"><div class=\"sk-label sk-toggleable\"><input class=\"sk-toggleable__control sk-hidden--visually\" id=\"sk-estimator-id-3\" type=\"checkbox\" ><label for=\"sk-estimator-id-3\" class=\"sk-toggleable__label sk-toggleable__label-arrow\">scaling</label><div class=\"sk-toggleable__content\"><pre>[0, 2]</pre></div></div></div><div class=\"sk-serial\"><div class=\"sk-item\"><div class=\"sk-estimator sk-toggleable\"><input class=\"sk-toggleable__control sk-hidden--visually\" id=\"sk-estimator-id-4\" type=\"checkbox\" ><label for=\"sk-estimator-id-4\" class=\"sk-toggleable__label sk-toggleable__label-arrow\">MinMaxScaler</label><div class=\"sk-toggleable__content\"><pre>MinMaxScaler()</pre></div></div></div></div></div></div><div class=\"sk-parallel-item\"><div class=\"sk-item\"><div class=\"sk-label-container\"><div class=\"sk-label sk-toggleable\"><input class=\"sk-toggleable__control sk-hidden--visually\" id=\"sk-estimator-id-5\" type=\"checkbox\" ><label for=\"sk-estimator-id-5\" class=\"sk-toggleable__label sk-toggleable__label-arrow\">onehotencolding1</label><div class=\"sk-toggleable__content\"><pre>[1, 3]</pre></div></div></div><div class=\"sk-serial\"><div class=\"sk-item\"><div class=\"sk-estimator sk-toggleable\"><input class=\"sk-toggleable__control sk-hidden--visually\" id=\"sk-estimator-id-6\" type=\"checkbox\" ><label for=\"sk-estimator-id-6\" class=\"sk-toggleable__label sk-toggleable__label-arrow\">OneHotEncoder</label><div class=\"sk-toggleable__content\"><pre>OneHotEncoder()</pre></div></div></div></div></div></div><div class=\"sk-parallel-item\"><div class=\"sk-item\"><div class=\"sk-label-container\"><div class=\"sk-label sk-toggleable\"><input class=\"sk-toggleable__control sk-hidden--visually\" id=\"sk-estimator-id-7\" type=\"checkbox\" ><label for=\"sk-estimator-id-7\" class=\"sk-toggleable__label sk-toggleable__label-arrow\">ordinal</label><div class=\"sk-toggleable__content\"><pre>[4]</pre></div></div></div><div class=\"sk-serial\"><div class=\"sk-item\"><div class=\"sk-estimator sk-toggleable\"><input class=\"sk-toggleable__control sk-hidden--visually\" id=\"sk-estimator-id-8\" type=\"checkbox\" ><label for=\"sk-estimator-id-8\" class=\"sk-toggleable__label sk-toggleable__label-arrow\">OrdinalEncoder</label><div class=\"sk-toggleable__content\"><pre>OrdinalEncoder()</pre></div></div></div></div></div></div><div class=\"sk-parallel-item\"><div class=\"sk-item\"><div class=\"sk-label-container\"><div class=\"sk-label sk-toggleable\"><input class=\"sk-toggleable__control sk-hidden--visually\" id=\"sk-estimator-id-9\" type=\"checkbox\" ><label for=\"sk-estimator-id-9\" class=\"sk-toggleable__label sk-toggleable__label-arrow\">onehotencolding2</label><div class=\"sk-toggleable__content\"><pre>[5, 6]</pre></div></div></div><div class=\"sk-serial\"><div class=\"sk-item\"><div class=\"sk-estimator sk-toggleable\"><input class=\"sk-toggleable__control sk-hidden--visually\" id=\"sk-estimator-id-10\" type=\"checkbox\" ><label for=\"sk-estimator-id-10\" class=\"sk-toggleable__label sk-toggleable__label-arrow\">OneHotEncoder</label><div class=\"sk-toggleable__content\"><pre>OneHotEncoder()</pre></div></div></div></div></div></div><div class=\"sk-parallel-item\"><div class=\"sk-item\"><div class=\"sk-label-container\"><div class=\"sk-label sk-toggleable\"><input class=\"sk-toggleable__control sk-hidden--visually\" id=\"sk-estimator-id-11\" type=\"checkbox\" ><label for=\"sk-estimator-id-11\" class=\"sk-toggleable__label sk-toggleable__label-arrow\">remainder</label><div class=\"sk-toggleable__content\"><pre>[]</pre></div></div></div><div class=\"sk-serial\"><div class=\"sk-item\"><div class=\"sk-estimator sk-toggleable\"><input class=\"sk-toggleable__control sk-hidden--visually\" id=\"sk-estimator-id-12\" type=\"checkbox\" ><label for=\"sk-estimator-id-12\" class=\"sk-toggleable__label sk-toggleable__label-arrow\">passthrough</label><div class=\"sk-toggleable__content\"><pre>passthrough</pre></div></div></div></div></div></div></div></div><div class=\"sk-item sk-dashed-wrapped\"><div class=\"sk-label-container\"><div class=\"sk-label sk-toggleable\"><input class=\"sk-toggleable__control sk-hidden--visually\" id=\"sk-estimator-id-13\" type=\"checkbox\" ><label for=\"sk-estimator-id-13\" class=\"sk-toggleable__label sk-toggleable__label-arrow\">bins: ColumnTransformer</label><div class=\"sk-toggleable__content\"><pre>ColumnTransformer(remainder=&#x27;passthrough&#x27;,\n",
       "                  transformers=[(&#x27;Kbins&#x27;,\n",
       "                                 KBinsDiscretizer(encode=&#x27;ordinal&#x27;, n_bins=15),\n",
       "                                 [0, 2])])</pre></div></div></div><div class=\"sk-parallel\"><div class=\"sk-parallel-item\"><div class=\"sk-item\"><div class=\"sk-label-container\"><div class=\"sk-label sk-toggleable\"><input class=\"sk-toggleable__control sk-hidden--visually\" id=\"sk-estimator-id-14\" type=\"checkbox\" ><label for=\"sk-estimator-id-14\" class=\"sk-toggleable__label sk-toggleable__label-arrow\">Kbins</label><div class=\"sk-toggleable__content\"><pre>[0, 2]</pre></div></div></div><div class=\"sk-serial\"><div class=\"sk-item\"><div class=\"sk-estimator sk-toggleable\"><input class=\"sk-toggleable__control sk-hidden--visually\" id=\"sk-estimator-id-15\" type=\"checkbox\" ><label for=\"sk-estimator-id-15\" class=\"sk-toggleable__label sk-toggleable__label-arrow\">KBinsDiscretizer</label><div class=\"sk-toggleable__content\"><pre>KBinsDiscretizer(encode=&#x27;ordinal&#x27;, n_bins=15)</pre></div></div></div></div></div></div><div class=\"sk-parallel-item\"><div class=\"sk-item\"><div class=\"sk-label-container\"><div class=\"sk-label sk-toggleable\"><input class=\"sk-toggleable__control sk-hidden--visually\" id=\"sk-estimator-id-16\" type=\"checkbox\" ><label for=\"sk-estimator-id-16\" class=\"sk-toggleable__label sk-toggleable__label-arrow\">remainder</label><div class=\"sk-toggleable__content\"><pre>[1, 3, 4, 5, 6, 7, 8, 9, 10, 11, 12, 13, 14, 15, 16]</pre></div></div></div><div class=\"sk-serial\"><div class=\"sk-item\"><div class=\"sk-estimator sk-toggleable\"><input class=\"sk-toggleable__control sk-hidden--visually\" id=\"sk-estimator-id-17\" type=\"checkbox\" ><label for=\"sk-estimator-id-17\" class=\"sk-toggleable__label sk-toggleable__label-arrow\">passthrough</label><div class=\"sk-toggleable__content\"><pre>passthrough</pre></div></div></div></div></div></div></div></div><div class=\"sk-item\"><div class=\"sk-estimator sk-toggleable\"><input class=\"sk-toggleable__control sk-hidden--visually\" id=\"sk-estimator-id-18\" type=\"checkbox\" ><label for=\"sk-estimator-id-18\" class=\"sk-toggleable__label sk-toggleable__label-arrow\">RandomForestClassifier</label><div class=\"sk-toggleable__content\"><pre>RandomForestClassifier(max_depth=7, max_features=&#x27;auto&#x27;, min_samples_leaf=6,\n",
       "                       min_samples_split=6, n_estimators=1750, n_jobs=-1,\n",
       "                       oob_score=True, random_state=42, verbose=1)</pre></div></div></div></div></div></div></div>"
      ],
      "text/plain": [
       "Pipeline(steps=[('num_cat_transformation',\n",
       "                 ColumnTransformer(remainder='passthrough',\n",
       "                                   transformers=[('scaling', MinMaxScaler(),\n",
       "                                                  [0, 2]),\n",
       "                                                 ('onehotencolding1',\n",
       "                                                  OneHotEncoder(), [1, 3]),\n",
       "                                                 ('ordinal', OrdinalEncoder(),\n",
       "                                                  [4]),\n",
       "                                                 ('onehotencolding2',\n",
       "                                                  OneHotEncoder(), [5, 6])])),\n",
       "                ('bins',\n",
       "                 ColumnTransformer(remainder='passthrough',\n",
       "                                   transformers=[('Kbins',\n",
       "                                                  KBinsDiscretizer(encode='ordinal',\n",
       "                                                                   n_bins=15),\n",
       "                                                  [0, 2])])),\n",
       "                ('classifier',\n",
       "                 RandomForestClassifier(max_depth=7, max_features='auto',\n",
       "                                        min_samples_leaf=6, min_samples_split=6,\n",
       "                                        n_estimators=1750, n_jobs=-1,\n",
       "                                        oob_score=True, random_state=42,\n",
       "                                        verbose=1))])"
      ]
     },
     "execution_count": 63,
     "metadata": {},
     "output_type": "execute_result"
    }
   ],
   "source": [
    "pipe1.fit(X_train,y_train)"
   ]
  },
  {
   "cell_type": "code",
   "execution_count": 64,
   "id": "18e2d8bd",
   "metadata": {
    "execution": {
     "iopub.execute_input": "2024-07-26T18:00:56.709907Z",
     "iopub.status.busy": "2024-07-26T18:00:56.709533Z",
     "iopub.status.idle": "2024-07-26T18:00:57.280614Z",
     "shell.execute_reply": "2024-07-26T18:00:57.279530Z"
    },
    "papermill": {
     "duration": 0.605778,
     "end_time": "2024-07-26T18:00:57.283043",
     "exception": false,
     "start_time": "2024-07-26T18:00:56.677265",
     "status": "completed"
    },
    "tags": []
   },
   "outputs": [
    {
     "name": "stderr",
     "output_type": "stream",
     "text": [
      "[Parallel(n_jobs=4)]: Using backend ThreadingBackend with 4 concurrent workers.\n",
      "[Parallel(n_jobs=4)]: Done  42 tasks      | elapsed:    0.0s\n",
      "[Parallel(n_jobs=4)]: Done 192 tasks      | elapsed:    0.1s\n",
      "[Parallel(n_jobs=4)]: Done 442 tasks      | elapsed:    0.1s\n",
      "[Parallel(n_jobs=4)]: Done 792 tasks      | elapsed:    0.2s\n",
      "[Parallel(n_jobs=4)]: Done 1242 tasks      | elapsed:    0.4s\n",
      "[Parallel(n_jobs=4)]: Done 1750 out of 1750 | elapsed:    0.5s finished\n"
     ]
    },
    {
     "data": {
      "text/plain": [
       "0.8491620111731844"
      ]
     },
     "execution_count": 64,
     "metadata": {},
     "output_type": "execute_result"
    }
   ],
   "source": [
    "y_pred = pipe1.predict(X_test)\n",
    "accuracy_score(y_test,y_pred)\n"
   ]
  },
  {
   "cell_type": "code",
   "execution_count": 65,
   "id": "8144738a",
   "metadata": {
    "execution": {
     "iopub.execute_input": "2024-07-26T18:00:57.348342Z",
     "iopub.status.busy": "2024-07-26T18:00:57.347973Z",
     "iopub.status.idle": "2024-07-26T18:00:57.362335Z",
     "shell.execute_reply": "2024-07-26T18:00:57.361235Z"
    },
    "papermill": {
     "duration": 0.050469,
     "end_time": "2024-07-26T18:00:57.364883",
     "exception": false,
     "start_time": "2024-07-26T18:00:57.314414",
     "status": "completed"
    },
    "tags": []
   },
   "outputs": [
    {
     "data": {
      "text/html": [
       "<div>\n",
       "<style scoped>\n",
       "    .dataframe tbody tr th:only-of-type {\n",
       "        vertical-align: middle;\n",
       "    }\n",
       "\n",
       "    .dataframe tbody tr th {\n",
       "        vertical-align: top;\n",
       "    }\n",
       "\n",
       "    .dataframe thead th {\n",
       "        text-align: right;\n",
       "    }\n",
       "</style>\n",
       "<table border=\"1\" class=\"dataframe\">\n",
       "  <thead>\n",
       "    <tr style=\"text-align: right;\">\n",
       "      <th></th>\n",
       "      <th>PassengerId</th>\n",
       "    </tr>\n",
       "  </thead>\n",
       "  <tbody>\n",
       "    <tr>\n",
       "      <th>891</th>\n",
       "      <td>892</td>\n",
       "    </tr>\n",
       "    <tr>\n",
       "      <th>892</th>\n",
       "      <td>893</td>\n",
       "    </tr>\n",
       "    <tr>\n",
       "      <th>893</th>\n",
       "      <td>894</td>\n",
       "    </tr>\n",
       "    <tr>\n",
       "      <th>894</th>\n",
       "      <td>895</td>\n",
       "    </tr>\n",
       "    <tr>\n",
       "      <th>895</th>\n",
       "      <td>896</td>\n",
       "    </tr>\n",
       "    <tr>\n",
       "      <th>...</th>\n",
       "      <td>...</td>\n",
       "    </tr>\n",
       "    <tr>\n",
       "      <th>1304</th>\n",
       "      <td>1305</td>\n",
       "    </tr>\n",
       "    <tr>\n",
       "      <th>1305</th>\n",
       "      <td>1306</td>\n",
       "    </tr>\n",
       "    <tr>\n",
       "      <th>1306</th>\n",
       "      <td>1307</td>\n",
       "    </tr>\n",
       "    <tr>\n",
       "      <th>1307</th>\n",
       "      <td>1308</td>\n",
       "    </tr>\n",
       "    <tr>\n",
       "      <th>1308</th>\n",
       "      <td>1309</td>\n",
       "    </tr>\n",
       "  </tbody>\n",
       "</table>\n",
       "<p>418 rows × 1 columns</p>\n",
       "</div>"
      ],
      "text/plain": [
       "      PassengerId\n",
       "891           892\n",
       "892           893\n",
       "893           894\n",
       "894           895\n",
       "895           896\n",
       "...           ...\n",
       "1304         1305\n",
       "1305         1306\n",
       "1306         1307\n",
       "1307         1308\n",
       "1308         1309\n",
       "\n",
       "[418 rows x 1 columns]"
      ]
     },
     "execution_count": 65,
     "metadata": {},
     "output_type": "execute_result"
    }
   ],
   "source": [
    "submission = pd.DataFrame()\n",
    "submission[\"PassengerId\"] = test[\"PassengerId\"]\n",
    "submission"
   ]
  },
  {
   "cell_type": "code",
   "execution_count": 66,
   "id": "df37edfa",
   "metadata": {
    "execution": {
     "iopub.execute_input": "2024-07-26T18:00:57.433978Z",
     "iopub.status.busy": "2024-07-26T18:00:57.433313Z",
     "iopub.status.idle": "2024-07-26T18:00:57.447781Z",
     "shell.execute_reply": "2024-07-26T18:00:57.446741Z"
    },
    "papermill": {
     "duration": 0.050531,
     "end_time": "2024-07-26T18:00:57.450198",
     "exception": false,
     "start_time": "2024-07-26T18:00:57.399667",
     "status": "completed"
    },
    "tags": []
   },
   "outputs": [
    {
     "data": {
      "text/html": [
       "<div>\n",
       "<style scoped>\n",
       "    .dataframe tbody tr th:only-of-type {\n",
       "        vertical-align: middle;\n",
       "    }\n",
       "\n",
       "    .dataframe tbody tr th {\n",
       "        vertical-align: top;\n",
       "    }\n",
       "\n",
       "    .dataframe thead th {\n",
       "        text-align: right;\n",
       "    }\n",
       "</style>\n",
       "<table border=\"1\" class=\"dataframe\">\n",
       "  <thead>\n",
       "    <tr style=\"text-align: right;\">\n",
       "      <th></th>\n",
       "      <th>Age</th>\n",
       "      <th>Embarked</th>\n",
       "      <th>Fare</th>\n",
       "      <th>Pclass</th>\n",
       "      <th>Sex</th>\n",
       "      <th>Title</th>\n",
       "      <th>Family_size</th>\n",
       "    </tr>\n",
       "  </thead>\n",
       "  <tbody>\n",
       "    <tr>\n",
       "      <th>891</th>\n",
       "      <td>34</td>\n",
       "      <td>Q</td>\n",
       "      <td>7.8292</td>\n",
       "      <td>3</td>\n",
       "      <td>male</td>\n",
       "      <td>Mr</td>\n",
       "      <td>Alone</td>\n",
       "    </tr>\n",
       "    <tr>\n",
       "      <th>892</th>\n",
       "      <td>47</td>\n",
       "      <td>S</td>\n",
       "      <td>7.0000</td>\n",
       "      <td>3</td>\n",
       "      <td>female</td>\n",
       "      <td>Mrs</td>\n",
       "      <td>Small</td>\n",
       "    </tr>\n",
       "    <tr>\n",
       "      <th>893</th>\n",
       "      <td>62</td>\n",
       "      <td>Q</td>\n",
       "      <td>9.6875</td>\n",
       "      <td>2</td>\n",
       "      <td>male</td>\n",
       "      <td>Mr</td>\n",
       "      <td>Alone</td>\n",
       "    </tr>\n",
       "    <tr>\n",
       "      <th>894</th>\n",
       "      <td>27</td>\n",
       "      <td>S</td>\n",
       "      <td>8.6625</td>\n",
       "      <td>3</td>\n",
       "      <td>male</td>\n",
       "      <td>Mr</td>\n",
       "      <td>Alone</td>\n",
       "    </tr>\n",
       "    <tr>\n",
       "      <th>895</th>\n",
       "      <td>22</td>\n",
       "      <td>S</td>\n",
       "      <td>12.2875</td>\n",
       "      <td>3</td>\n",
       "      <td>female</td>\n",
       "      <td>Mrs</td>\n",
       "      <td>Small</td>\n",
       "    </tr>\n",
       "  </tbody>\n",
       "</table>\n",
       "</div>"
      ],
      "text/plain": [
       "     Age Embarked     Fare  Pclass     Sex Title Family_size\n",
       "891   34        Q   7.8292       3    male    Mr       Alone\n",
       "892   47        S   7.0000       3  female   Mrs       Small\n",
       "893   62        Q   9.6875       2    male    Mr       Alone\n",
       "894   27        S   8.6625       3    male    Mr       Alone\n",
       "895   22        S  12.2875       3  female   Mrs       Small"
      ]
     },
     "execution_count": 66,
     "metadata": {},
     "output_type": "execute_result"
    }
   ],
   "source": [
    "test = test.drop(\"PassengerId\", axis=1)\n",
    "test.head()"
   ]
  },
  {
   "cell_type": "code",
   "execution_count": 67,
   "id": "a8d59646",
   "metadata": {
    "execution": {
     "iopub.execute_input": "2024-07-26T18:00:57.517225Z",
     "iopub.status.busy": "2024-07-26T18:00:57.516834Z",
     "iopub.status.idle": "2024-07-26T18:00:58.210438Z",
     "shell.execute_reply": "2024-07-26T18:00:58.208723Z"
    },
    "papermill": {
     "duration": 0.730891,
     "end_time": "2024-07-26T18:00:58.213384",
     "exception": false,
     "start_time": "2024-07-26T18:00:57.482493",
     "status": "completed"
    },
    "tags": []
   },
   "outputs": [
    {
     "name": "stderr",
     "output_type": "stream",
     "text": [
      "[Parallel(n_jobs=4)]: Using backend ThreadingBackend with 4 concurrent workers.\n",
      "[Parallel(n_jobs=4)]: Done  42 tasks      | elapsed:    0.0s\n",
      "[Parallel(n_jobs=4)]: Done 192 tasks      | elapsed:    0.1s\n",
      "[Parallel(n_jobs=4)]: Done 442 tasks      | elapsed:    0.2s\n",
      "[Parallel(n_jobs=4)]: Done 792 tasks      | elapsed:    0.3s\n",
      "[Parallel(n_jobs=4)]: Done 1242 tasks      | elapsed:    0.5s\n",
      "[Parallel(n_jobs=4)]: Done 1750 out of 1750 | elapsed:    0.7s finished\n"
     ]
    }
   ],
   "source": [
    "predictions = pipe1.predict(test)\n",
    "submission[\"Survived\"] =  predictions\n",
    "submission.to_csv(\"submission.csv\", index=False)"
   ]
  }
 ],
 "metadata": {
  "kaggle": {
   "accelerator": "none",
   "dataSources": [
    {
     "databundleVersionId": 26502,
     "sourceId": 3136,
     "sourceType": "competition"
    },
    {
     "datasetId": 1275,
     "sourceId": 2286,
     "sourceType": "datasetVersion"
    },
    {
     "datasetId": 1355,
     "sourceId": 2445,
     "sourceType": "datasetVersion"
    },
    {
     "datasetId": 11657,
     "sourceId": 16098,
     "sourceType": "datasetVersion"
    },
    {
     "datasetId": 15989,
     "sourceId": 21106,
     "sourceType": "datasetVersion"
    },
    {
     "datasetId": 80599,
     "sourceId": 187274,
     "sourceType": "datasetVersion"
    },
    {
     "datasetId": 348873,
     "sourceId": 687897,
     "sourceType": "datasetVersion"
    },
    {
     "datasetId": 465127,
     "sourceId": 873754,
     "sourceType": "datasetVersion"
    },
    {
     "datasetId": 827866,
     "sourceId": 1935717,
     "sourceType": "datasetVersion"
    },
    {
     "datasetId": 826163,
     "sourceId": 2879186,
     "sourceType": "datasetVersion"
    },
    {
     "datasetId": 1893363,
     "sourceId": 3100063,
     "sourceType": "datasetVersion"
    },
    {
     "datasetId": 2209271,
     "sourceId": 3691974,
     "sourceType": "datasetVersion"
    },
    {
     "datasetId": 4232122,
     "sourceId": 7296258,
     "sourceType": "datasetVersion"
    },
    {
     "datasetId": 4545417,
     "sourceId": 7769911,
     "sourceType": "datasetVersion"
    },
    {
     "datasetId": 4681778,
     "sourceId": 8275175,
     "sourceType": "datasetVersion"
    }
   ],
   "dockerImageVersionId": 30732,
   "isGpuEnabled": false,
   "isInternetEnabled": true,
   "language": "python",
   "sourceType": "notebook"
  },
  "kernelspec": {
   "display_name": "Python 3",
   "language": "python",
   "name": "python3"
  },
  "language_info": {
   "codemirror_mode": {
    "name": "ipython",
    "version": 3
   },
   "file_extension": ".py",
   "mimetype": "text/x-python",
   "name": "python",
   "nbconvert_exporter": "python",
   "pygments_lexer": "ipython3",
   "version": "3.10.13"
  },
  "papermill": {
   "default_parameters": {},
   "duration": 40.896572,
   "end_time": "2024-07-26T18:00:59.068969",
   "environment_variables": {},
   "exception": null,
   "input_path": "__notebook__.ipynb",
   "output_path": "__notebook__.ipynb",
   "parameters": {},
   "start_time": "2024-07-26T18:00:18.172397",
   "version": "2.5.0"
  }
 },
 "nbformat": 4,
 "nbformat_minor": 5
}
